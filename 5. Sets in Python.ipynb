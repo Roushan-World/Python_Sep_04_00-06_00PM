{
 "cells": [
  {
   "cell_type": "markdown",
   "id": "09e3fe7d",
   "metadata": {},
   "source": [
    "# 5. Sets in Python\n",
    "\n",
    "\n",
    " * __Set is one of 4 built-in data types in Python used to store collections of data including List, Tuple, and Dictionary.__\n",
    " * __Sets are unordered, but you can remove items and add new items.__\n",
    " * __A set itself may be modified, but the elements contained in the set must be of an immutable type.__\n",
    " * __Sets are used to store multiple items in a single variable.__\n",
    " * __You can denote a set with a pair of curly brackets {}.__\n",
    " * __Sets element are unique. Duplicate elements are not allowed.__"
   ]
  },
  {
   "cell_type": "code",
   "execution_count": 4,
   "id": "8534d48b",
   "metadata": {},
   "outputs": [
    {
     "name": "stdout",
     "output_type": "stream",
     "text": [
      "{}\n",
      "<class 'dict'>\n"
     ]
    }
   ],
   "source": [
    "# The empty set of curly braces denotes the empty dictionary, not empty set.\n",
    "x={}\n",
    "print(x)\n",
    "print(type(x))"
   ]
  },
  {
   "cell_type": "code",
   "execution_count": 6,
   "id": "1fb3945f",
   "metadata": {},
   "outputs": [
    {
     "ename": "TypeError",
     "evalue": "set expected at most 1 argument, got 3",
     "output_type": "error",
     "traceback": [
      "\u001b[1;31m---------------------------------------------------------------------------\u001b[0m",
      "\u001b[1;31mTypeError\u001b[0m                                 Traceback (most recent call last)",
      "\u001b[1;32m~\\AppData\\Local\\Temp\\ipykernel_1216\\1909036551.py\u001b[0m in \u001b[0;36m<module>\u001b[1;34m\u001b[0m\n\u001b[1;32m----> 1\u001b[1;33m \u001b[0my\u001b[0m\u001b[1;33m=\u001b[0m\u001b[0mset\u001b[0m\u001b[1;33m(\u001b[0m\u001b[1;36m1\u001b[0m\u001b[1;33m,\u001b[0m\u001b[1;36m2\u001b[0m\u001b[1;33m,\u001b[0m\u001b[1;36m3\u001b[0m\u001b[1;33m)\u001b[0m\u001b[1;33m\u001b[0m\u001b[1;33m\u001b[0m\u001b[0m\n\u001b[0m\u001b[0;32m      2\u001b[0m \u001b[0mprint\u001b[0m\u001b[1;33m(\u001b[0m\u001b[0my\u001b[0m\u001b[1;33m)\u001b[0m\u001b[1;33m\u001b[0m\u001b[1;33m\u001b[0m\u001b[0m\n\u001b[0;32m      3\u001b[0m \u001b[0mprint\u001b[0m\u001b[1;33m(\u001b[0m\u001b[0mtype\u001b[0m\u001b[1;33m(\u001b[0m\u001b[0my\u001b[0m\u001b[1;33m)\u001b[0m\u001b[1;33m)\u001b[0m\u001b[1;33m\u001b[0m\u001b[1;33m\u001b[0m\u001b[0m\n",
      "\u001b[1;31mTypeError\u001b[0m: set expected at most 1 argument, got 3"
     ]
    }
   ],
   "source": [
    "y=set()\n",
    "print(y)\n",
    "print(type(y))"
   ]
  },
  {
   "cell_type": "code",
   "execution_count": 7,
   "id": "cd0ba917",
   "metadata": {},
   "outputs": [
    {
     "name": "stdout",
     "output_type": "stream",
     "text": [
      "{1, 2, 3, 4, 5, 6, 7}\n",
      "<class 'set'>\n"
     ]
    }
   ],
   "source": [
    "x_1=[1,2,3,4,5,6,7,7,7]\n",
    "y=set(x_1)\n",
    "print(y)\n",
    "print(type(y))"
   ]
  },
  {
   "cell_type": "code",
   "execution_count": 8,
   "id": "9c19ee69",
   "metadata": {},
   "outputs": [
    {
     "data": {
      "text/plain": [
       "{1.618, 2023, 3.14, False, 'Hello Python', 'Hello World', True}"
      ]
     },
     "execution_count": 8,
     "metadata": {},
     "output_type": "execute_result"
    }
   ],
   "source": [
    "# Take a set\n",
    "\n",
    "set1={'Hello World',3.14,1.618,'Hello Python',3.14,1.618,True,False,2023}\n",
    "set1"
   ]
  },
  {
   "cell_type": "code",
   "execution_count": 10,
   "id": "e3e79f3d",
   "metadata": {},
   "outputs": [
    {
     "name": "stdout",
     "output_type": "stream",
     "text": [
      "['Hello World', 3.14, 1.618, 'Hello Python', 3.14, 1.618, True, False, 2023]\n",
      "{False, 1.618, True, 3.14, 2023, 'Hello World', 'Hello Python'}\n"
     ]
    }
   ],
   "source": [
    "newlist=['Hello World',3.14,1.618,'Hello Python',3.14,1.618,True,False,2023]\n",
    "print(newlist)\n",
    "\n",
    "# converting the list into set\n",
    "\n",
    "set1=set(newlist)\n",
    "print(set1)"
   ]
  },
  {
   "cell_type": "markdown",
   "id": "1c9c0b91",
   "metadata": {},
   "source": [
    "# Set operations"
   ]
  },
  {
   "cell_type": "code",
   "execution_count": 1,
   "id": "80febf53",
   "metadata": {},
   "outputs": [
    {
     "data": {
      "text/plain": [
       "{1.618, 2023, 3.14, False, 'Hello Pyton!', 'Hello World!', True}"
      ]
     },
     "execution_count": 1,
     "metadata": {},
     "output_type": "execute_result"
    }
   ],
   "source": [
    "# Take a set\n",
    "\n",
    "set3=set(['Hello Pyton!',3.14,1.618,'Hello World!',3.14,1.618,True,False,2023])\n",
    "set3"
   ]
  },
  {
   "cell_type": "markdown",
   "id": "e27f819e",
   "metadata": {},
   "source": [
    "# add() function\n",
    "\n",
    " * __To add an element into a set, we use the function add(). If the same element is added to the set, nothing will happen because the set accepts no duplicates.__"
   ]
  },
  {
   "cell_type": "code",
   "execution_count": 3,
   "id": "a95f9642",
   "metadata": {},
   "outputs": [
    {
     "data": {
      "text/plain": [
       "{1.618,\n",
       " 2023,\n",
       " 3.14,\n",
       " False,\n",
       " 'Hello Pyton!',\n",
       " 'Hello World!',\n",
       " 'Hi, Python',\n",
       " 'Hi, Pyton',\n",
       " True}"
      ]
     },
     "execution_count": 3,
     "metadata": {},
     "output_type": "execute_result"
    }
   ],
   "source": [
    "set3.add('Hi, Python')\n",
    "set3"
   ]
  },
  {
   "cell_type": "markdown",
   "id": "9be3bcb0",
   "metadata": {},
   "source": [
    "# update() function\n",
    "\n",
    " * __To add multiple elements into the set.__\n",
    " "
   ]
  },
  {
   "cell_type": "code",
   "execution_count": 5,
   "id": "c63eab48",
   "metadata": {},
   "outputs": [
    {
     "name": "stdout",
     "output_type": "stream",
     "text": [
      "{8, 9, 6, 7}\n",
      "{3, 4, 5, 6, 7, 8, 9}\n"
     ]
    }
   ],
   "source": [
    "x_set={6,7,8,9}\n",
    "print(x_set)\n",
    "\n",
    "x_set.update({3,4,5,6,7})\n",
    "print(x_set)"
   ]
  },
  {
   "cell_type": "markdown",
   "id": "ca4ca066",
   "metadata": {},
   "source": [
    "# remove() function\n",
    "\n",
    " * __To remove an element from the set__"
   ]
  },
  {
   "cell_type": "code",
   "execution_count": 9,
   "id": "8f311772",
   "metadata": {},
   "outputs": [
    {
     "name": "stdout",
     "output_type": "stream",
     "text": [
      "{False, 1.618, True, 3.14, 2023, 'Hello Pyton!', 'Hi, Python', 'Hello World!', 'Hi, Pyton'}\n"
     ]
    }
   ],
   "source": [
    "print(set3)\n",
    "set3.remove('Hi, Pyton')"
   ]
  },
  {
   "cell_type": "code",
   "execution_count": 11,
   "id": "375efaab",
   "metadata": {},
   "outputs": [
    {
     "name": "stdout",
     "output_type": "stream",
     "text": [
      "{False, 1.618, True, 3.14, 2023, 'Hello Pyton!', 'Hi, Python', 'Hello World!'}\n"
     ]
    }
   ],
   "source": [
    "print(set3)"
   ]
  },
  {
   "cell_type": "markdown",
   "id": "f4e1e7ba",
   "metadata": {},
   "source": [
    "# discard() function\n",
    "\n",
    " * __It leaves the set unchanged if the element to be deleted is not available in the set.__"
   ]
  },
  {
   "cell_type": "code",
   "execution_count": 12,
   "id": "c8b23170",
   "metadata": {},
   "outputs": [
    {
     "data": {
      "text/plain": [
       "{1.618, 2023, 3.14, False, 'Hello Pyton!', 'Hello World!', 'Hi, Python', True}"
      ]
     },
     "execution_count": 12,
     "metadata": {},
     "output_type": "execute_result"
    }
   ],
   "source": [
    "set3"
   ]
  },
  {
   "cell_type": "code",
   "execution_count": 14,
   "id": "30b6b43d",
   "metadata": {},
   "outputs": [
    {
     "data": {
      "text/plain": [
       "{1.618, 2023, 3.14, False, 'Hello Pyton!', 'Hi, Python', True}"
      ]
     },
     "execution_count": 14,
     "metadata": {},
     "output_type": "execute_result"
    }
   ],
   "source": [
    "set3.discard('Hello World!')\n",
    "set3"
   ]
  },
  {
   "cell_type": "code",
   "execution_count": 15,
   "id": "9ca87fa2",
   "metadata": {},
   "outputs": [
    {
     "data": {
      "text/plain": [
       "{1.618, 2023, 3.14, False, 'Hello Pyton!', 'Hi, Python', True}"
      ]
     },
     "execution_count": 15,
     "metadata": {},
     "output_type": "execute_result"
    }
   ],
   "source": [
    "set3.discard('Pune')\n",
    "set3"
   ]
  },
  {
   "cell_type": "code",
   "execution_count": 16,
   "id": "8ccf5840",
   "metadata": {},
   "outputs": [
    {
     "ename": "KeyError",
     "evalue": "'Pune'",
     "output_type": "error",
     "traceback": [
      "\u001b[1;31m---------------------------------------------------------------------------\u001b[0m",
      "\u001b[1;31mKeyError\u001b[0m                                  Traceback (most recent call last)",
      "\u001b[1;32m~\\AppData\\Local\\Temp\\ipykernel_15736\\3722258178.py\u001b[0m in \u001b[0;36m<module>\u001b[1;34m\u001b[0m\n\u001b[1;32m----> 1\u001b[1;33m \u001b[0mset3\u001b[0m\u001b[1;33m.\u001b[0m\u001b[0mremove\u001b[0m\u001b[1;33m(\u001b[0m\u001b[1;34m'Pune'\u001b[0m\u001b[1;33m)\u001b[0m\u001b[1;33m\u001b[0m\u001b[1;33m\u001b[0m\u001b[0m\n\u001b[0m",
      "\u001b[1;31mKeyError\u001b[0m: 'Pune'"
     ]
    }
   ],
   "source": [
    "set3.remove('Pune')"
   ]
  },
  {
   "cell_type": "code",
   "execution_count": 20,
   "id": "33886a58",
   "metadata": {},
   "outputs": [
    {
     "name": "stdout",
     "output_type": "stream",
     "text": [
      "False\n",
      "True\n"
     ]
    }
   ],
   "source": [
    "# verify the element in the set\n",
    "\n",
    "print(1.618 not in set3)\n",
    "print(1.618 in set3)"
   ]
  },
  {
   "cell_type": "markdown",
   "id": "dc7cfd8c",
   "metadata": {},
   "source": [
    "# Logic operations in sets"
   ]
  },
  {
   "cell_type": "code",
   "execution_count": 24,
   "id": "12e5ce49",
   "metadata": {},
   "outputs": [
    {
     "data": {
      "text/plain": [
       "({1.618, 3.14, 'Hello Python', 'Hello World'},\n",
       " {False, True, 1.618, 3.14, 2023})"
      ]
     },
     "execution_count": 24,
     "metadata": {},
     "output_type": "execute_result"
    }
   ],
   "source": [
    "# Take two sets\n",
    "\n",
    "set4=set(['Hello Python',3.14,1.618,'Hello World'])\n",
    "set5=set([3.14,1.618,True,False,2023])\n",
    "\n",
    "set4,set5"
   ]
  },
  {
   "cell_type": "code",
   "execution_count": 23,
   "id": "7226a65d",
   "metadata": {},
   "outputs": [
    {
     "name": "stdout",
     "output_type": "stream",
     "text": [
      "{1.618, 'Hello World', 3.14, 'Hello Python'}\n",
      "{False, 1.618, True, 3.14, 2023}\n"
     ]
    }
   ],
   "source": [
    "print(set4)\n",
    "print(set5)"
   ]
  },
  {
   "cell_type": "markdown",
   "id": "8b9ab5f1",
   "metadata": {},
   "source": [
    "# To find the intersect of two sets using &"
   ]
  },
  {
   "cell_type": "code",
   "execution_count": 26,
   "id": "32345a93",
   "metadata": {},
   "outputs": [
    {
     "name": "stdout",
     "output_type": "stream",
     "text": [
      "{1.618, 'Hello World', 3.14, 'Hello Python'}\n",
      "{False, 1.618, True, 3.14, 2023}\n"
     ]
    }
   ],
   "source": [
    "print(set4)\n",
    "print(set5)"
   ]
  },
  {
   "cell_type": "code",
   "execution_count": 27,
   "id": "08abb6d6",
   "metadata": {},
   "outputs": [
    {
     "data": {
      "text/plain": [
       "{1.618, 3.14}"
      ]
     },
     "execution_count": 27,
     "metadata": {},
     "output_type": "execute_result"
    }
   ],
   "source": [
    "intersection=set4&set5\n",
    "intersection"
   ]
  },
  {
   "cell_type": "code",
   "execution_count": 28,
   "id": "885360c2",
   "metadata": {},
   "outputs": [
    {
     "data": {
      "text/plain": [
       "{1.618, 3.14}"
      ]
     },
     "execution_count": 28,
     "metadata": {},
     "output_type": "execute_result"
    }
   ],
   "source": [
    "# another method to find intersection\n",
    "\n",
    "set4.intersection(set5)"
   ]
  },
  {
   "cell_type": "markdown",
   "id": "04edf612",
   "metadata": {},
   "source": [
    "# difference() function\n",
    "\n",
    " * __To find the difference between two sets.__"
   ]
  },
  {
   "cell_type": "code",
   "execution_count": 30,
   "id": "8096bf69",
   "metadata": {},
   "outputs": [
    {
     "data": {
      "text/plain": [
       "({1.618, 3.14, 'Hello Python', 'Hello World'},\n",
       " {False, True, 1.618, 3.14, 2023})"
      ]
     },
     "execution_count": 30,
     "metadata": {},
     "output_type": "execute_result"
    }
   ],
   "source": [
    "set4,set5"
   ]
  },
  {
   "cell_type": "code",
   "execution_count": 31,
   "id": "ba07a603",
   "metadata": {},
   "outputs": [
    {
     "name": "stdout",
     "output_type": "stream",
     "text": [
      "{'Hello World', 'Hello Python'}\n",
      "{False, True, 2023}\n"
     ]
    }
   ],
   "source": [
    "print(set4.difference(set5))  #A-B\n",
    "print(set5.difference(set4))"
   ]
  },
  {
   "cell_type": "code",
   "execution_count": 33,
   "id": "75ace4f0",
   "metadata": {},
   "outputs": [
    {
     "name": "stdout",
     "output_type": "stream",
     "text": [
      "{'Hello World', 'Hello Python'}\n",
      "{False, True, 2023}\n"
     ]
    }
   ],
   "source": [
    "# another method to find difference \n",
    "\n",
    "print(set4-set5)\n",
    "print(set5-set4)"
   ]
  },
  {
   "cell_type": "markdown",
   "id": "58d05fc7",
   "metadata": {},
   "source": [
    "# union() function\n",
    "\n",
    " * __It corresponds to all the elements in the both sets.__"
   ]
  },
  {
   "cell_type": "code",
   "execution_count": 35,
   "id": "483192fe",
   "metadata": {},
   "outputs": [
    {
     "name": "stdout",
     "output_type": "stream",
     "text": [
      "{1.618, 'Hello World', 3.14, 'Hello Python'} {False, 1.618, True, 3.14, 2023}\n",
      "{False, 1.618, 'Hello World', 3.14, True, 2023, 'Hello Python'}\n"
     ]
    }
   ],
   "source": [
    "print(set4,set5)\n",
    "\n",
    "print(set4.union(set5))"
   ]
  },
  {
   "cell_type": "markdown",
   "id": "d59c342c",
   "metadata": {},
   "source": [
    "# Asymmetric Difference"
   ]
  },
  {
   "cell_type": "code",
   "execution_count": 38,
   "id": "26f1e93b",
   "metadata": {},
   "outputs": [
    {
     "name": "stdout",
     "output_type": "stream",
     "text": [
      "{False, True, 'Hello World', 2023, 'Hello Python'}\n"
     ]
    }
   ],
   "source": [
    "print(set4.symmetric_difference(set5))"
   ]
  },
  {
   "cell_type": "code",
   "execution_count": 41,
   "id": "b02c998f",
   "metadata": {},
   "outputs": [
    {
     "name": "stdout",
     "output_type": "stream",
     "text": [
      "{1.618, 'Hello World', 3.14, 'Hello Python'}\n",
      "{False, 1.618, True, 3.14, 2023}\n"
     ]
    }
   ],
   "source": [
    "print(set4)\n",
    "print(set5)"
   ]
  },
  {
   "cell_type": "code",
   "execution_count": 48,
   "id": "b4793be1",
   "metadata": {},
   "outputs": [
    {
     "name": "stdout",
     "output_type": "stream",
     "text": [
      "True\n",
      "True\n",
      "True\n",
      "True\n"
     ]
    }
   ],
   "source": [
    "print(set([3.14,1.618]).issubset(set4))\n",
    "print(set([3.14,1.618]).issubset(set5))\n",
    "print(set4.issuperset([3.14,1.618]))\n",
    "print(set5.issuperset([3.14,1.618]))"
   ]
  },
  {
   "cell_type": "code",
   "execution_count": null,
   "id": "65be6a4b",
   "metadata": {},
   "outputs": [],
   "source": []
  },
  {
   "cell_type": "code",
   "execution_count": null,
   "id": "ddf6f0de",
   "metadata": {},
   "outputs": [],
   "source": []
  }
 ],
 "metadata": {
  "kernelspec": {
   "display_name": "Python 3 (ipykernel)",
   "language": "python",
   "name": "python3"
  },
  "language_info": {
   "codemirror_mode": {
    "name": "ipython",
    "version": 3
   },
   "file_extension": ".py",
   "mimetype": "text/x-python",
   "name": "python",
   "nbconvert_exporter": "python",
   "pygments_lexer": "ipython3",
   "version": "3.9.13"
  }
 },
 "nbformat": 4,
 "nbformat_minor": 5
}
