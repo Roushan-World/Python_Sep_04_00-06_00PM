{
 "cells": [
  {
   "cell_type": "markdown",
   "id": "345ebedc",
   "metadata": {},
   "source": [
    "# 3. Lists in Python\n",
    "\n",
    "\n",
    " * __Lists are ordered.__\n",
    " \n",
    " * __Lists can contains any arbitrary objects.__\n",
    " \n",
    " * __Lists element can be accessed by index.__\n",
    " \n",
    " * __Lists can be nested to arbitrary depth.__\n",
    " \n",
    " * __Lists are mutable.__\n",
    " \n",
    " * __Lists are dynamic.__"
   ]
  },
  {
   "cell_type": "code",
   "execution_count": 1,
   "id": "f30905c8",
   "metadata": {},
   "outputs": [
    {
     "data": {
      "text/plain": [
       "['Python',\n",
       " 1.618,\n",
       " 3.147,\n",
       " 2023,\n",
       " True,\n",
       " False,\n",
       " ('Hello world', 1.618),\n",
       " {1, 2, 3, 'Welcome'},\n",
       " {'a': 3.147, 'b': 1.618},\n",
       " [4, 5, 6, 'Congratulation']]"
      ]
     },
     "execution_count": 1,
     "metadata": {},
     "output_type": "execute_result"
    }
   ],
   "source": [
    "list1=['Python',1.618,3.147,2023,True,False,('Hello world',1.618),{'Welcome',1,2,3},{'a':3.147,'b':1.618},[4,5,6,'Congratulation']]\n",
    "\n",
    "\n",
    "list1"
   ]
  },
  {
   "cell_type": "code",
   "execution_count": 5,
   "id": "08daf2f0",
   "metadata": {},
   "outputs": [
    {
     "name": "stdout",
     "output_type": "stream",
     "text": [
      "Positive index of list is: Python \n",
      "Negative Index of list is: Python\n",
      "Positive index of list is: 1.618 \n",
      "Negative Index of list is: 1.618\n",
      "Positive index of list is: 3.147 \n",
      "Negative Index of list is: 3.147\n",
      "Positive index of list is: 2023 \n",
      "Negative Index of list is: 2023\n",
      "Positive index of list is: True \n",
      "Negative Index of list is: True\n",
      "Positive index of list is: False \n",
      "Negative Index of list is: False\n",
      "Positive index of list is: ('Hello world', 1.618) \n",
      "Negative Index of list is: ('Hello world', 1.618)\n",
      "Positive index of list is: {2, 1, 'Welcome', 3} \n",
      "Negative Index of list is: {2, 1, 'Welcome', 3}\n",
      "Positive index of list is: {'a': 3.147, 'b': 1.618} \n",
      "Negative Index of list is: {'a': 3.147, 'b': 1.618}\n",
      "Positive index of list is: [4, 5, 6, 'Congratulation'] \n",
      "Negative Index of list is: [4, 5, 6, 'Congratulation']\n"
     ]
    }
   ],
   "source": [
    "print('Positive index of list is:',list1[0],'\\nNegative Index of list is:',list1[-10])\n",
    "print('Positive index of list is:',list1[1],'\\nNegative Index of list is:',list1[-9])\n",
    "print('Positive index of list is:',list1[2],'\\nNegative Index of list is:',list1[-8])\n",
    "print('Positive index of list is:',list1[3],'\\nNegative Index of list is:',list1[-7])\n",
    "print('Positive index of list is:',list1[4],'\\nNegative Index of list is:',list1[-6])\n",
    "print('Positive index of list is:',list1[5],'\\nNegative Index of list is:',list1[-5])\n",
    "print('Positive index of list is:',list1[6],'\\nNegative Index of list is:',list1[-4])\n",
    "print('Positive index of list is:',list1[7],'\\nNegative Index of list is:',list1[-3])\n",
    "print('Positive index of list is:',list1[8],'\\nNegative Index of list is:',list1[-2])\n",
    "print('Positive index of list is:',list1[9],'\\nNegative Index of list is:',list1[-1])"
   ]
  },
  {
   "cell_type": "code",
   "execution_count": 8,
   "id": "b865ca84",
   "metadata": {},
   "outputs": [
    {
     "name": "stdout",
     "output_type": "stream",
     "text": [
      "Python\n",
      "<class 'str'>\n",
      "1.618\n",
      "<class 'float'>\n",
      "3.147\n",
      "<class 'float'>\n",
      "2023\n",
      "<class 'int'>\n",
      "True\n",
      "<class 'bool'>\n",
      "('Hello world', 1.618)\n",
      "<class 'tuple'>\n",
      "{2, 1, 'Welcome', 3}\n",
      "<class 'set'>\n",
      "{'a': 3.147, 'b': 1.618}\n",
      "<class 'dict'>\n",
      "[4, 5, 6, 'Congratulation']\n",
      "<class 'list'>\n"
     ]
    }
   ],
   "source": [
    "print(list1[0])\n",
    "print(type(list1[0]))\n",
    "print(list1[1])\n",
    "print(type(list1[1]))\n",
    "print(list1[2])\n",
    "print(type(list1[2]))\n",
    "print(list1[3])\n",
    "print(type(list1[3]))\n",
    "print(list1[4])\n",
    "print(type(list1[4]))\n",
    "print(list1[6])\n",
    "print(type(list1[6]))\n",
    "print(list1[7])\n",
    "print(type(list1[7]))\n",
    "print(list1[8])\n",
    "print(type(list1[8]))\n",
    "print(list1[9])\n",
    "print(type(list1[9]))"
   ]
  },
  {
   "cell_type": "code",
   "execution_count": 9,
   "id": "42a16b0f",
   "metadata": {},
   "outputs": [
    {
     "data": {
      "text/plain": [
       "['Python',\n",
       " 1.618,\n",
       " 3.147,\n",
       " 2023,\n",
       " True,\n",
       " False,\n",
       " ('Hello world', 1.618),\n",
       " {1, 2, 3, 'Welcome'},\n",
       " {'a': 3.147, 'b': 1.618},\n",
       " [4, 5, 6, 'Congratulation']]"
      ]
     },
     "execution_count": 9,
     "metadata": {},
     "output_type": "execute_result"
    }
   ],
   "source": [
    "list1"
   ]
  },
  {
   "cell_type": "markdown",
   "id": "796cd7a9",
   "metadata": {},
   "source": [
    "# slicing method"
   ]
  },
  {
   "cell_type": "code",
   "execution_count": 12,
   "id": "b30fe4a9",
   "metadata": {},
   "outputs": [
    {
     "name": "stdout",
     "output_type": "stream",
     "text": [
      "['Python', 1.618, 3.147, 2023, True, False, ('Hello world', 1.618)]\n"
     ]
    }
   ],
   "source": [
    "print(list1[0:7])"
   ]
  },
  {
   "cell_type": "code",
   "execution_count": 13,
   "id": "efc658ad",
   "metadata": {},
   "outputs": [
    {
     "name": "stdout",
     "output_type": "stream",
     "text": [
      "10\n"
     ]
    }
   ],
   "source": [
    "print(len(list1))"
   ]
  },
  {
   "cell_type": "markdown",
   "id": "de0029f7",
   "metadata": {},
   "source": [
    "# Pyton List method\n",
    "\n",
    "\n"
   ]
  },
  {
   "cell_type": "code",
   "execution_count": 17,
   "id": "7e650a17",
   "metadata": {},
   "outputs": [
    {
     "name": "stdout",
     "output_type": "stream",
     "text": [
      "[10, 20, 30]\n",
      "[10, 20, 30, 40]\n"
     ]
    }
   ],
   "source": [
    "# append\n",
    "x1=[10,20,30]\n",
    "print(x1)\n",
    "\n",
    "x1.append(40)\n",
    "print(x1)\n"
   ]
  },
  {
   "cell_type": "code",
   "execution_count": 18,
   "id": "7815532a",
   "metadata": {},
   "outputs": [
    {
     "name": "stdout",
     "output_type": "stream",
     "text": [
      "[10, 20, 50, 80, 'Hello world', 1.618, 2023, True, False]\n"
     ]
    }
   ],
   "source": [
    "# extend()\n",
    "\n",
    "\n",
    "x2=[10,20,50,80]\n",
    "\n",
    "x2.extend(['Hello world',1.618,2023,True, False])\n",
    "print(x2)"
   ]
  },
  {
   "cell_type": "code",
   "execution_count": 19,
   "id": "e239fb4d",
   "metadata": {},
   "outputs": [
    {
     "name": "stdout",
     "output_type": "stream",
     "text": [
      "[200, 10, 20, 30, 40]\n"
     ]
    }
   ],
   "source": [
    "# insert()\n",
    "\n",
    "x3=[10,20,30,40]\n",
    "\n",
    "x3.insert(0,200)\n",
    "print(x3)\n"
   ]
  },
  {
   "cell_type": "code",
   "execution_count": 2,
   "id": "5f9d8b94",
   "metadata": {},
   "outputs": [
    {
     "name": "stdout",
     "output_type": "stream",
     "text": [
      "2\n"
     ]
    }
   ],
   "source": [
    "# count()\n",
    "\n",
    "x4=[10,20,30,20]\n",
    "\n",
    "x5=x4.count(20)\n",
    "print(x5)"
   ]
  },
  {
   "cell_type": "code",
   "execution_count": 6,
   "id": "89962f7d",
   "metadata": {},
   "outputs": [
    {
     "name": "stdout",
     "output_type": "stream",
     "text": [
      "[]\n"
     ]
    }
   ],
   "source": [
    "# clear()\n",
    "\n",
    "x5=[1,2,3,4,5,6]\n",
    "\n",
    "x5.clear()\n",
    "print(x5)"
   ]
  },
  {
   "cell_type": "code",
   "execution_count": 7,
   "id": "233d77a5",
   "metadata": {},
   "outputs": [
    {
     "name": "stdout",
     "output_type": "stream",
     "text": [
      "3\n"
     ]
    }
   ],
   "source": [
    "# index()\n",
    "\n",
    "x6=[10,20,50,40,60,100]\n",
    "\n",
    "print(x6.index(40))"
   ]
  },
  {
   "cell_type": "code",
   "execution_count": 9,
   "id": "3b32013a",
   "metadata": {},
   "outputs": [
    {
     "name": "stdout",
     "output_type": "stream",
     "text": [
      "[10, 20, 30, 40, 50, 20]\n"
     ]
    }
   ],
   "source": [
    "# remove()\n",
    "\n",
    "x7=[10,20,30,40,50,60,20]\n",
    "x7.remove(60)\n",
    "print(x7)"
   ]
  },
  {
   "cell_type": "code",
   "execution_count": 18,
   "id": "2d5a0679",
   "metadata": {},
   "outputs": [
    {
     "name": "stdout",
     "output_type": "stream",
     "text": [
      "[10, 20, 40, 50, 60]\n"
     ]
    }
   ],
   "source": [
    "# pop()\n",
    "x8=[10,20,30,40,50,60]\n",
    "\n",
    "x8.pop(2)\n",
    "print(x8)"
   ]
  },
  {
   "cell_type": "code",
   "execution_count": 24,
   "id": "61742ab7",
   "metadata": {},
   "outputs": [
    {
     "name": "stdout",
     "output_type": "stream",
     "text": [
      "[10, 15, 19, 20, 40, 40, 50, 100]\n"
     ]
    }
   ],
   "source": [
    "# sort()\n",
    "\n",
    "x9=[10,20,40,50,15,19,100,40]\n",
    "\n",
    "x9.sort()\n",
    "print(x9)"
   ]
  },
  {
   "cell_type": "code",
   "execution_count": 29,
   "id": "f08d835b",
   "metadata": {},
   "outputs": [
    {
     "name": "stdout",
     "output_type": "stream",
     "text": [
      "[10, 15, 19, 20, 40, 40, 50, 100]\n",
      "[100, 50, 40, 40, 20, 19, 15, 10]\n"
     ]
    }
   ],
   "source": [
    "# reverse()\n",
    "\n",
    "print(x9)\n",
    "\n",
    "x9.reverse()\n",
    "print(x9)"
   ]
  },
  {
   "cell_type": "code",
   "execution_count": 30,
   "id": "faf63d65",
   "metadata": {},
   "outputs": [],
   "source": [
    "# copy()   # deep # swallow()"
   ]
  },
  {
   "cell_type": "markdown",
   "id": "6a6ee9ac",
   "metadata": {},
   "source": [
    "# len(),append(),count(),index(),insert(),max(),min(),sum() functions"
   ]
  },
  {
   "cell_type": "code",
   "execution_count": 34,
   "id": "9aa23e8d",
   "metadata": {},
   "outputs": [
    {
     "name": "stdout",
     "output_type": "stream",
     "text": [
      "10\n",
      "10\n",
      "1\n",
      "55\n"
     ]
    }
   ],
   "source": [
    "lis=[1,2,3,4,5,6,7,8,9,10]\n",
    "\n",
    "print(len(lis))   # total length\n",
    "\n",
    "print(max(lis))   # maximum \n",
    "print(min(lis))   # minimum\n",
    "\n",
    "print(sum(lis))"
   ]
  },
  {
   "cell_type": "markdown",
   "id": "6fad7bbf",
   "metadata": {},
   "source": [
    "# Changing the element of the list since it is mutable."
   ]
  },
  {
   "cell_type": "code",
   "execution_count": 35,
   "id": "1a7da53b",
   "metadata": {},
   "outputs": [
    {
     "data": {
      "text/plain": [
       "['Python',\n",
       " 1.618,\n",
       " 3.147,\n",
       " 2023,\n",
       " True,\n",
       " False,\n",
       " ('Hello world', 1.618),\n",
       " {1, 2, 3, 'Welcome'},\n",
       " {'a': 3.147, 'b': 1.618},\n",
       " [4, 5, 6, 'Congratulation']]"
      ]
     },
     "execution_count": 35,
     "metadata": {},
     "output_type": "execute_result"
    }
   ],
   "source": [
    "nlis=['Python',1.618,3.147,2023,True,False,('Hello world',1.618),{'Welcome',1,2,3},{'a':3.147,'b':1.618},[4,5,6,'Congratulation']]\n",
    "\n",
    "nlis"
   ]
  },
  {
   "cell_type": "code",
   "execution_count": 42,
   "id": "ea788560",
   "metadata": {},
   "outputs": [
    {
     "name": "stdout",
     "output_type": "stream",
     "text": [
      "Before changing: ['Hello World', 1.618, 3.147, 2023, True, False, ('Hello world', 1.618), {1, 2, 3, 'Welcome'}, {'a': 3.147, 'b': 1.618}, [4, 5, 6, 'Congratulation']]\n",
      "After Changing: ['Hello World', 1.618, 3.147, 2023, True, False, ('Hello world', 1.618), {1, 2, 3, 'Welcome'}, {'a': 3.147, 'b': 1.618}, [4, 5, 6, 'Congratulation']]\n"
     ]
    }
   ],
   "source": [
    "print('Before changing:',nlis)\n",
    "\n",
    "nlis[0]='Hello World'\n",
    "print('After Changing:',nlis)"
   ]
  },
  {
   "cell_type": "code",
   "execution_count": 43,
   "id": "c2f6a447",
   "metadata": {},
   "outputs": [
    {
     "data": {
      "text/plain": [
       "['Hello World',\n",
       " 1.618,\n",
       " 3.147,\n",
       " 2023,\n",
       " True,\n",
       " False,\n",
       " ('Hello world', 1.618),\n",
       " {1, 2, 3, 'Welcome'},\n",
       " {'a': 3.147, 'b': 1.618},\n",
       " [4, 5, 6, 'Congratulation']]"
      ]
     },
     "execution_count": 43,
     "metadata": {},
     "output_type": "execute_result"
    }
   ],
   "source": [
    "nlis"
   ]
  },
  {
   "cell_type": "code",
   "execution_count": 46,
   "id": "9014b294",
   "metadata": {},
   "outputs": [
    {
     "name": "stdout",
     "output_type": "stream",
     "text": [
      "After Changing: ['Hello World', 1.618, 3.147, 2023, True, False, ('Hello world', 1.618), {1, 2, 3, 'Welcome'}, {'a': 3.147, 'b': 1.618}, [4, 5, 6, 'Tejal']]\n"
     ]
    }
   ],
   "source": [
    "nlis[9][3]='Tejal'\n",
    "print('After Changing:',nlis)"
   ]
  },
  {
   "cell_type": "code",
   "execution_count": 47,
   "id": "4971b1a7",
   "metadata": {},
   "outputs": [
    {
     "data": {
      "text/plain": [
       "['Hello World',\n",
       " 1.618,\n",
       " 3.147,\n",
       " 2023,\n",
       " True,\n",
       " False,\n",
       " ('Hello world', 1.618),\n",
       " {1, 2, 3, 'Welcome'},\n",
       " {'a': 3.147, 'b': 1.618},\n",
       " [4, 5, 6, 'Tejal']]"
      ]
     },
     "execution_count": 47,
     "metadata": {},
     "output_type": "execute_result"
    }
   ],
   "source": [
    "nlis"
   ]
  },
  {
   "cell_type": "code",
   "execution_count": 68,
   "id": "f218083e",
   "metadata": {},
   "outputs": [
    {
     "name": "stdout",
     "output_type": "stream",
     "text": [
      "['Hello World', 1.618, 3.147, 2023, True, False, ('Hello world', 1.618), {1, 2, 3, 'Welcome'}, {'a': 'Hello Python', 'b': 1.618}, [4, 5, 6, 'Tejal']]\n"
     ]
    }
   ],
   "source": [
    "nlis[8]['a']='Hello Python'\n",
    "print(nlis)"
   ]
  },
  {
   "cell_type": "code",
   "execution_count": 51,
   "id": "3847ade1",
   "metadata": {},
   "outputs": [
    {
     "data": {
      "text/plain": [
       "['Hello World',\n",
       " 1.618,\n",
       " 3.147,\n",
       " 2023,\n",
       " True,\n",
       " False,\n",
       " ('Hello world', 1.618),\n",
       " {1, 2, 3, 'Welcome'},\n",
       " {'a': 'Hello Python', 'b': 1.618},\n",
       " [4, 5, 6, 'Tejal']]"
      ]
     },
     "execution_count": 51,
     "metadata": {},
     "output_type": "execute_result"
    }
   ],
   "source": [
    "nlis"
   ]
  },
  {
   "cell_type": "code",
   "execution_count": 67,
   "id": "1306bb3c",
   "metadata": {},
   "outputs": [
    {
     "name": "stdout",
     "output_type": "stream",
     "text": [
      "{'key_1': 1}\n"
     ]
    }
   ],
   "source": [
    "nlis1={'key_1':1,'key_2':2}\n",
    "del nlis1['key_2']\n",
    "print(nlis1)"
   ]
  },
  {
   "cell_type": "markdown",
   "id": "9ff731a5",
   "metadata": {},
   "source": [
    "# Conversion of a string into a list using split() function"
   ]
  },
  {
   "cell_type": "code",
   "execution_count": 69,
   "id": "74267154",
   "metadata": {},
   "outputs": [
    {
     "name": "stdout",
     "output_type": "stream",
     "text": [
      "Python is a programming language.\n"
     ]
    }
   ],
   "source": [
    "message='Python is a programming language.'\n",
    "\n",
    "print(message)"
   ]
  },
  {
   "cell_type": "code",
   "execution_count": 71,
   "id": "8e14abbb",
   "metadata": {},
   "outputs": [
    {
     "data": {
      "text/plain": [
       "['Python', 'is', 'a', 'programming', 'language.']"
      ]
     },
     "execution_count": 71,
     "metadata": {},
     "output_type": "execute_result"
    }
   ],
   "source": [
    "# split()\n",
    "\n",
    "message.split()"
   ]
  },
  {
   "cell_type": "code",
   "execution_count": 73,
   "id": "a221deaf",
   "metadata": {},
   "outputs": [
    {
     "data": {
      "text/plain": [
       "['d', 'o', 'g']"
      ]
     },
     "execution_count": 73,
     "metadata": {},
     "output_type": "execute_result"
    }
   ],
   "source": [
    "x='d,o,g'\n",
    "x\n",
    "\n",
    "x.split(',')"
   ]
  },
  {
   "cell_type": "markdown",
   "id": "90f6f825",
   "metadata": {},
   "source": [
    "# Copy the list"
   ]
  },
  {
   "cell_type": "code",
   "execution_count": 1,
   "id": "0c748d6e",
   "metadata": {},
   "outputs": [
    {
     "name": "stdout",
     "output_type": "stream",
     "text": [
      "[4, 5, 6, 7, 8, 89]\n"
     ]
    }
   ],
   "source": [
    "nlis=[4,5,6,7,8,89]\n",
    "copy_list=nlis\n",
    "print(copy_list)"
   ]
  },
  {
   "cell_type": "markdown",
   "id": "89ebcc6c",
   "metadata": {},
   "source": [
    "# Concatenate the list"
   ]
  },
  {
   "cell_type": "code",
   "execution_count": 2,
   "id": "a996603b",
   "metadata": {},
   "outputs": [
    {
     "name": "stdout",
     "output_type": "stream",
     "text": [
      "['a', 'b', ['c', 'd'], 'e', 1, 2, 3, 4, 5, 6, (6, 5), True, False]\n"
     ]
    }
   ],
   "source": [
    "a_list=['a','b',['c','d'],'e']\n",
    "b_list=[1,2,3,4,5,6,(6,5),True,False]\n",
    "\n",
    "new_list=a_list+b_list\n",
    "print(new_list)"
   ]
  },
  {
   "cell_type": "markdown",
   "id": "3822e145",
   "metadata": {},
   "source": [
    "# input() function\n",
    "\n",
    " * __input() function__:__input() function provides a user of a program to supply inputs to the program at runtime.__"
   ]
  },
  {
   "cell_type": "code",
   "execution_count": 7,
   "id": "ccf6e2a6",
   "metadata": {},
   "outputs": [
    {
     "name": "stdout",
     "output_type": "stream",
     "text": [
      "Enter a string\n",
      "789\n",
      "Your text is: 789\n",
      "<class 'str'>\n"
     ]
    }
   ],
   "source": [
    "text=input('Enter a string\\n')\n",
    "print('Your text is:',text)\n",
    "print(type(text))"
   ]
  },
  {
   "cell_type": "code",
   "execution_count": 10,
   "id": "4979df0d",
   "metadata": {},
   "outputs": [
    {
     "name": "stdout",
     "output_type": "stream",
     "text": [
      "Enter a string\n",
      "78\n",
      "Your text is: 78\n",
      "<class 'int'>\n"
     ]
    }
   ],
   "source": [
    "text=int(input('Enter a string\\n'))\n",
    "print('Your text is:',text)\n",
    "print(type(text))"
   ]
  },
  {
   "cell_type": "code",
   "execution_count": 12,
   "id": "564d124d",
   "metadata": {},
   "outputs": [
    {
     "name": "stdout",
     "output_type": "stream",
     "text": [
      "Enter first number:\n",
      "45\n",
      "Enter second number:\n",
      "45\n",
      "The sum of two number is: 90\n"
     ]
    }
   ],
   "source": [
    "a=int(input('Enter first number:\\n'))\n",
    "\n",
    "b=int(input('Enter second number:\\n'))\n",
    "\n",
    "z=a+b\n",
    "print('The sum of two number is:',z)"
   ]
  },
  {
   "cell_type": "markdown",
   "id": "f426095b",
   "metadata": {},
   "source": [
    "# eval() function\n",
    "\n",
    " * __This function serves the aim of converting a string to an integer or a float.__"
   ]
  },
  {
   "cell_type": "code",
   "execution_count": 13,
   "id": "44a8a2ae",
   "metadata": {},
   "outputs": [
    {
     "name": "stdout",
     "output_type": "stream",
     "text": [
      "Enter any number.5\n"
     ]
    },
    {
     "ename": "TypeError",
     "evalue": "can only concatenate str (not \"int\") to str",
     "output_type": "error",
     "traceback": [
      "\u001b[1;31m---------------------------------------------------------------------------\u001b[0m",
      "\u001b[1;31mTypeError\u001b[0m                                 Traceback (most recent call last)",
      "\u001b[1;32m~\\AppData\\Local\\Temp\\ipykernel_2880\\3515928569.py\u001b[0m in \u001b[0;36m<module>\u001b[1;34m\u001b[0m\n\u001b[0;32m      1\u001b[0m \u001b[0mx\u001b[0m\u001b[1;33m=\u001b[0m\u001b[0minput\u001b[0m\u001b[1;33m(\u001b[0m\u001b[1;34m'Enter any number.'\u001b[0m\u001b[1;33m)\u001b[0m\u001b[1;33m\u001b[0m\u001b[1;33m\u001b[0m\u001b[0m\n\u001b[0;32m      2\u001b[0m \u001b[1;33m\u001b[0m\u001b[0m\n\u001b[1;32m----> 3\u001b[1;33m \u001b[0mz\u001b[0m\u001b[1;33m=\u001b[0m\u001b[0mx\u001b[0m\u001b[1;33m+\u001b[0m\u001b[1;36m5\u001b[0m\u001b[1;33m\u001b[0m\u001b[1;33m\u001b[0m\u001b[0m\n\u001b[0m\u001b[0;32m      4\u001b[0m \u001b[0mprint\u001b[0m\u001b[1;33m(\u001b[0m\u001b[0mz\u001b[0m\u001b[1;33m)\u001b[0m\u001b[1;33m\u001b[0m\u001b[1;33m\u001b[0m\u001b[0m\n",
      "\u001b[1;31mTypeError\u001b[0m: can only concatenate str (not \"int\") to str"
     ]
    }
   ],
   "source": [
    "x=input('Enter any number.')\n",
    "\n",
    "z=x+5\n",
    "print(z)"
   ]
  },
  {
   "cell_type": "code",
   "execution_count": 16,
   "id": "2c7ed786",
   "metadata": {},
   "outputs": [
    {
     "name": "stdout",
     "output_type": "stream",
     "text": [
      "Enter first number5\n",
      "<class 'str'>\n",
      "<class 'int'>\n",
      "10\n"
     ]
    }
   ],
   "source": [
    "y=input('Enter first number')\n",
    "print(type(y))\n",
    "\n",
    "z1=eval(y)\n",
    "print(type(z1))\n",
    "z2=z1+5\n",
    "\n",
    "print(z2)"
   ]
  },
  {
   "cell_type": "markdown",
   "id": "d2543ed7",
   "metadata": {},
   "source": [
    "# format() function\n",
    "\n",
    " * __This function helps to format the output printed on the screen with good look and attractive.__"
   ]
  },
  {
   "cell_type": "code",
   "execution_count": 19,
   "id": "266d4cdf",
   "metadata": {},
   "outputs": [
    {
     "name": "stdout",
     "output_type": "stream",
     "text": [
      "Enter first number:400\n",
      "Enter second number:200\n",
      "The sum of two value is 400.0 and 200.0 is 600.0\n"
     ]
    }
   ],
   "source": [
    "a=float(input('Enter first number:'))\n",
    "b=float(input('Enter second number:'))\n",
    "z=a+b\n",
    "print('The sum of two value is {} and {} is {}'.format(a,b,z))"
   ]
  },
  {
   "cell_type": "markdown",
   "id": "f99c1fd8",
   "metadata": {},
   "source": [
    "# Comparison operators\n",
    "\n",
    " * __The operats such as <,>,<=,>=,==,and != compare the certain two operands and return True or False.__"
   ]
  },
  {
   "cell_type": "code",
   "execution_count": 25,
   "id": "50e439f5",
   "metadata": {},
   "outputs": [
    {
     "name": "stdout",
     "output_type": "stream",
     "text": [
      "a<b is: False\n",
      "a>b is: True\n",
      "a>=b True\n",
      "a<=b False\n",
      "a==b False\n",
      "a!=b True\n"
     ]
    }
   ],
   "source": [
    "a=3.14\n",
    "b=1.618\n",
    "\n",
    "print('a<b is:',a<b)\n",
    "print('a>b is:',a>b)\n",
    "print('a>=b',a>=b)\n",
    "print('a<=b',a<=b)\n",
    "print('a==b',a==b)\n",
    "print('a!=b',a!=b)"
   ]
  },
  {
   "cell_type": "code",
   "execution_count": null,
   "id": "8b39e4a5",
   "metadata": {},
   "outputs": [],
   "source": []
  }
 ],
 "metadata": {
  "kernelspec": {
   "display_name": "Python 3 (ipykernel)",
   "language": "python",
   "name": "python3"
  },
  "language_info": {
   "codemirror_mode": {
    "name": "ipython",
    "version": 3
   },
   "file_extension": ".py",
   "mimetype": "text/x-python",
   "name": "python",
   "nbconvert_exporter": "python",
   "pygments_lexer": "ipython3",
   "version": "3.9.13"
  }
 },
 "nbformat": 4,
 "nbformat_minor": 5
}
