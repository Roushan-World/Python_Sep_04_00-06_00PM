{
 "cells": [
  {
   "cell_type": "markdown",
   "id": "345ebedc",
   "metadata": {},
   "source": [
    "# 3. Lists in Python\n",
    "\n",
    "\n",
    " * __Lists are ordered.__\n",
    " \n",
    " * __Lists can contains any arbitrary objects.__\n",
    " \n",
    " * __Lists element can be accessed by index.__\n",
    " \n",
    " * __Lists can be nested to arbitrary depth.__\n",
    " \n",
    " * __Lists are mutable.__\n",
    " \n",
    " * __Lists are dynamic.__"
   ]
  },
  {
   "cell_type": "code",
   "execution_count": 1,
   "id": "f30905c8",
   "metadata": {},
   "outputs": [
    {
     "data": {
      "text/plain": [
       "['Python',\n",
       " 1.618,\n",
       " 3.147,\n",
       " 2023,\n",
       " True,\n",
       " False,\n",
       " ('Hello world', 1.618),\n",
       " {1, 2, 3, 'Welcome'},\n",
       " {'a': 3.147, 'b': 1.618},\n",
       " [4, 5, 6, 'Congratulation']]"
      ]
     },
     "execution_count": 1,
     "metadata": {},
     "output_type": "execute_result"
    }
   ],
   "source": [
    "list1=['Python',1.618,3.147,2023,True,False,('Hello world',1.618),{'Welcome',1,2,3},{'a':3.147,'b':1.618},[4,5,6,'Congratulation']]\n",
    "\n",
    "\n",
    "list1"
   ]
  },
  {
   "cell_type": "code",
   "execution_count": 5,
   "id": "08daf2f0",
   "metadata": {},
   "outputs": [
    {
     "name": "stdout",
     "output_type": "stream",
     "text": [
      "Positive index of list is: Python \n",
      "Negative Index of list is: Python\n",
      "Positive index of list is: 1.618 \n",
      "Negative Index of list is: 1.618\n",
      "Positive index of list is: 3.147 \n",
      "Negative Index of list is: 3.147\n",
      "Positive index of list is: 2023 \n",
      "Negative Index of list is: 2023\n",
      "Positive index of list is: True \n",
      "Negative Index of list is: True\n",
      "Positive index of list is: False \n",
      "Negative Index of list is: False\n",
      "Positive index of list is: ('Hello world', 1.618) \n",
      "Negative Index of list is: ('Hello world', 1.618)\n",
      "Positive index of list is: {2, 1, 'Welcome', 3} \n",
      "Negative Index of list is: {2, 1, 'Welcome', 3}\n",
      "Positive index of list is: {'a': 3.147, 'b': 1.618} \n",
      "Negative Index of list is: {'a': 3.147, 'b': 1.618}\n",
      "Positive index of list is: [4, 5, 6, 'Congratulation'] \n",
      "Negative Index of list is: [4, 5, 6, 'Congratulation']\n"
     ]
    }
   ],
   "source": [
    "print('Positive index of list is:',list1[0],'\\nNegative Index of list is:',list1[-10])\n",
    "print('Positive index of list is:',list1[1],'\\nNegative Index of list is:',list1[-9])\n",
    "print('Positive index of list is:',list1[2],'\\nNegative Index of list is:',list1[-8])\n",
    "print('Positive index of list is:',list1[3],'\\nNegative Index of list is:',list1[-7])\n",
    "print('Positive index of list is:',list1[4],'\\nNegative Index of list is:',list1[-6])\n",
    "print('Positive index of list is:',list1[5],'\\nNegative Index of list is:',list1[-5])\n",
    "print('Positive index of list is:',list1[6],'\\nNegative Index of list is:',list1[-4])\n",
    "print('Positive index of list is:',list1[7],'\\nNegative Index of list is:',list1[-3])\n",
    "print('Positive index of list is:',list1[8],'\\nNegative Index of list is:',list1[-2])\n",
    "print('Positive index of list is:',list1[9],'\\nNegative Index of list is:',list1[-1])"
   ]
  },
  {
   "cell_type": "code",
   "execution_count": 8,
   "id": "b865ca84",
   "metadata": {},
   "outputs": [
    {
     "name": "stdout",
     "output_type": "stream",
     "text": [
      "Python\n",
      "<class 'str'>\n",
      "1.618\n",
      "<class 'float'>\n",
      "3.147\n",
      "<class 'float'>\n",
      "2023\n",
      "<class 'int'>\n",
      "True\n",
      "<class 'bool'>\n",
      "('Hello world', 1.618)\n",
      "<class 'tuple'>\n",
      "{2, 1, 'Welcome', 3}\n",
      "<class 'set'>\n",
      "{'a': 3.147, 'b': 1.618}\n",
      "<class 'dict'>\n",
      "[4, 5, 6, 'Congratulation']\n",
      "<class 'list'>\n"
     ]
    }
   ],
   "source": [
    "print(list1[0])\n",
    "print(type(list1[0]))\n",
    "print(list1[1])\n",
    "print(type(list1[1]))\n",
    "print(list1[2])\n",
    "print(type(list1[2]))\n",
    "print(list1[3])\n",
    "print(type(list1[3]))\n",
    "print(list1[4])\n",
    "print(type(list1[4]))\n",
    "print(list1[6])\n",
    "print(type(list1[6]))\n",
    "print(list1[7])\n",
    "print(type(list1[7]))\n",
    "print(list1[8])\n",
    "print(type(list1[8]))\n",
    "print(list1[9])\n",
    "print(type(list1[9]))"
   ]
  },
  {
   "cell_type": "code",
   "execution_count": 9,
   "id": "42a16b0f",
   "metadata": {},
   "outputs": [
    {
     "data": {
      "text/plain": [
       "['Python',\n",
       " 1.618,\n",
       " 3.147,\n",
       " 2023,\n",
       " True,\n",
       " False,\n",
       " ('Hello world', 1.618),\n",
       " {1, 2, 3, 'Welcome'},\n",
       " {'a': 3.147, 'b': 1.618},\n",
       " [4, 5, 6, 'Congratulation']]"
      ]
     },
     "execution_count": 9,
     "metadata": {},
     "output_type": "execute_result"
    }
   ],
   "source": [
    "list1"
   ]
  },
  {
   "cell_type": "markdown",
   "id": "796cd7a9",
   "metadata": {},
   "source": [
    "# slicing method"
   ]
  },
  {
   "cell_type": "code",
   "execution_count": 12,
   "id": "b30fe4a9",
   "metadata": {},
   "outputs": [
    {
     "name": "stdout",
     "output_type": "stream",
     "text": [
      "['Python', 1.618, 3.147, 2023, True, False, ('Hello world', 1.618)]\n"
     ]
    }
   ],
   "source": [
    "print(list1[0:7])"
   ]
  },
  {
   "cell_type": "code",
   "execution_count": 13,
   "id": "efc658ad",
   "metadata": {},
   "outputs": [
    {
     "name": "stdout",
     "output_type": "stream",
     "text": [
      "10\n"
     ]
    }
   ],
   "source": [
    "print(len(list1))"
   ]
  },
  {
   "cell_type": "markdown",
   "id": "de0029f7",
   "metadata": {},
   "source": [
    "# Pyton List method\n",
    "\n",
    "\n"
   ]
  },
  {
   "cell_type": "code",
   "execution_count": 17,
   "id": "7e650a17",
   "metadata": {},
   "outputs": [
    {
     "name": "stdout",
     "output_type": "stream",
     "text": [
      "[10, 20, 30]\n",
      "[10, 20, 30, 40]\n"
     ]
    }
   ],
   "source": [
    "# append\n",
    "x1=[10,20,30]\n",
    "print(x1)\n",
    "\n",
    "x1.append(40)\n",
    "print(x1)\n"
   ]
  },
  {
   "cell_type": "code",
   "execution_count": 18,
   "id": "7815532a",
   "metadata": {},
   "outputs": [
    {
     "name": "stdout",
     "output_type": "stream",
     "text": [
      "[10, 20, 50, 80, 'Hello world', 1.618, 2023, True, False]\n"
     ]
    }
   ],
   "source": [
    "# extend()\n",
    "\n",
    "\n",
    "x2=[10,20,50,80]\n",
    "\n",
    "x2.extend(['Hello world',1.618,2023,True, False])\n",
    "print(x2)"
   ]
  },
  {
   "cell_type": "code",
   "execution_count": 19,
   "id": "e239fb4d",
   "metadata": {},
   "outputs": [
    {
     "name": "stdout",
     "output_type": "stream",
     "text": [
      "[200, 10, 20, 30, 40]\n"
     ]
    }
   ],
   "source": [
    "# insert()\n",
    "\n",
    "x3=[10,20,30,40]\n",
    "\n",
    "x3.insert(0,200)\n",
    "print(x3)\n"
   ]
  },
  {
   "cell_type": "code",
   "execution_count": null,
   "id": "5f9d8b94",
   "metadata": {},
   "outputs": [],
   "source": []
  }
 ],
 "metadata": {
  "kernelspec": {
   "display_name": "Python 3 (ipykernel)",
   "language": "python",
   "name": "python3"
  },
  "language_info": {
   "codemirror_mode": {
    "name": "ipython",
    "version": 3
   },
   "file_extension": ".py",
   "mimetype": "text/x-python",
   "name": "python",
   "nbconvert_exporter": "python",
   "pygments_lexer": "ipython3",
   "version": "3.9.13"
  }
 },
 "nbformat": 4,
 "nbformat_minor": 5
}
