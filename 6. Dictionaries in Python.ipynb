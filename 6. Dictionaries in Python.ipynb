{
 "cells": [
  {
   "cell_type": "markdown",
   "id": "b6b7b05a",
   "metadata": {},
   "source": [
    "# 6. Dictionaries in Python\n",
    "\n",
    " * __Dicationaries are used to store data values in key:value pairs.__\n",
    " * __A dictionary is a collection which is ordered, changeable or mutable and do not allow duplicates.__\n",
    " * __Dictionary items are ordered, changeable, and does not allow duplicates.__\n",
    " * __Dictionary items are presented in Key:value pairs, and can be referred to by using the key name.__\n",
    " * __Dictionaries are changeable, meaning that we can change, add or remove items after the dicationary has been created.__\n",
    " * __Dictionaries cannot have two items with the same key.__\n",
    " * __A dictionary can nested and can contain another dictionary.__\n",
    " \n",
    " \n",
    "   * __Key__----------------------__Values__\n",
    "   * __'name'__------------------__'Bob'__\n",
    "   * __'age'__-------------------__25__\n",
    "   * __'job'__-------------------__'Dev'__\n",
    "   * __'city__-------------------__'New York'__\n",
    "   * __'email'__-----------------__'bob@web.com'__"
   ]
  },
  {
   "cell_type": "code",
   "execution_count": 1,
   "id": "e83802e5",
   "metadata": {},
   "outputs": [
    {
     "data": {
      "text/plain": [
       "{'key_1': 3.14,\n",
       " 'key_2': 1.618,\n",
       " 'key_3': True,\n",
       " 'key_4': [3.14, 1.618],\n",
       " 'key_5': (3.14, 1.618),\n",
       " 'key_6': 2023,\n",
       " (3.14, 1.618): 'pi and golden ratio'}"
      ]
     },
     "execution_count": 1,
     "metadata": {},
     "output_type": "execute_result"
    }
   ],
   "source": [
    "# Take a sample dictionary\n",
    "\n",
    "sample_dict={'key_1':3.14,'key_2':1.618,\n",
    "            'key_3':True,'key_4':[3.14,1.618],\n",
    "            'key_5':(3.14,1.618),'key_6':2023,\n",
    "            (3.14,1.618):'pi and golden ratio'}\n",
    "sample_dict"
   ]
  },
  {
   "cell_type": "code",
   "execution_count": 2,
   "id": "17176db2",
   "metadata": {},
   "outputs": [
    {
     "name": "stdout",
     "output_type": "stream",
     "text": [
      "3.14\n",
      "1.618\n"
     ]
    }
   ],
   "source": [
    "#Accessing to the value using the key\n",
    "print(sample_dict['key_1'])\n",
    "print(sample_dict['key_2'])"
   ]
  },
  {
   "cell_type": "code",
   "execution_count": 3,
   "id": "798cb5b2",
   "metadata": {},
   "outputs": [
    {
     "data": {
      "text/plain": [
       "{'name': 'xyz',\n",
       " 'age': 45,\n",
       " 'job': 'software engineer',\n",
       " 'contact_no': 789456123,\n",
       " 'email': 'xyz@gmail.com',\n",
       " 'address': 'pune'}"
      ]
     },
     "execution_count": 3,
     "metadata": {},
     "output_type": "execute_result"
    }
   ],
   "source": [
    "details={'name':'xyz','age':45,\n",
    "        'job':'software engineer','contact_no':789456123,\n",
    "        'email':'xyz@gmail.com','address':'pune'}\n",
    "details"
   ]
  },
  {
   "cell_type": "code",
   "execution_count": 4,
   "id": "e3366b52",
   "metadata": {},
   "outputs": [
    {
     "data": {
      "text/plain": [
       "dict_keys(['key_1', 'key_2', 'key_3', 'key_4', 'key_5', 'key_6', (3.14, 1.618)])"
      ]
     },
     "execution_count": 4,
     "metadata": {},
     "output_type": "execute_result"
    }
   ],
   "source": [
    "#keys() function\n",
    "sample_dict.keys()"
   ]
  },
  {
   "cell_type": "code",
   "execution_count": 5,
   "id": "cf125e69",
   "metadata": {},
   "outputs": [
    {
     "data": {
      "text/plain": [
       "dict_values([3.14, 1.618, True, [3.14, 1.618], (3.14, 1.618), 2023, 'pi and golden ratio'])"
      ]
     },
     "execution_count": 5,
     "metadata": {},
     "output_type": "execute_result"
    }
   ],
   "source": [
    "# Values\n",
    "sample_dict.values()"
   ]
  },
  {
   "cell_type": "code",
   "execution_count": 6,
   "id": "40413c66",
   "metadata": {},
   "outputs": [
    {
     "data": {
      "text/plain": [
       "dict_keys(['name', 'age', 'job', 'contact_no', 'email', 'address'])"
      ]
     },
     "execution_count": 6,
     "metadata": {},
     "output_type": "execute_result"
    }
   ],
   "source": [
    "details.keys()"
   ]
  },
  {
   "cell_type": "code",
   "execution_count": 7,
   "id": "9dbfb158",
   "metadata": {},
   "outputs": [
    {
     "data": {
      "text/plain": [
       "dict_values(['xyz', 45, 'software engineer', 789456123, 'xyz@gmail.com', 'pune'])"
      ]
     },
     "execution_count": 7,
     "metadata": {},
     "output_type": "execute_result"
    }
   ],
   "source": [
    "details.values()"
   ]
  },
  {
   "cell_type": "code",
   "execution_count": 8,
   "id": "34cba6bc",
   "metadata": {},
   "outputs": [
    {
     "data": {
      "text/plain": [
       "{'name': 'xyz',\n",
       " 'age': 45,\n",
       " 'job': 'software engineer',\n",
       " 'contact_no': 789456123,\n",
       " 'email': 'xyz@gmail.com',\n",
       " 'address': 'pune'}"
      ]
     },
     "execution_count": 8,
     "metadata": {},
     "output_type": "execute_result"
    }
   ],
   "source": [
    "details"
   ]
  },
  {
   "cell_type": "code",
   "execution_count": 9,
   "id": "fffe6054",
   "metadata": {},
   "outputs": [
    {
     "data": {
      "text/plain": [
       "{'name': 'James',\n",
       " 'age': 45,\n",
       " 'job': 'software engineer',\n",
       " 'contact_no': 789456123,\n",
       " 'email': 'xyz@gmail.com',\n",
       " 'address': 'pune'}"
      ]
     },
     "execution_count": 9,
     "metadata": {},
     "output_type": "execute_result"
    }
   ],
   "source": [
    "details['name']='James'\n",
    "details"
   ]
  },
  {
   "cell_type": "code",
   "execution_count": 10,
   "id": "799a03de",
   "metadata": {},
   "outputs": [
    {
     "data": {
      "text/plain": [
       "{'name': 'James',\n",
       " 'age': 45,\n",
       " 'job': 'software engineer',\n",
       " 'contact_no': 789456123,\n",
       " 'email': 'xyz@gmail.com',\n",
       " 'address': 'pune'}"
      ]
     },
     "execution_count": 10,
     "metadata": {},
     "output_type": "execute_result"
    }
   ],
   "source": [
    "details"
   ]
  },
  {
   "cell_type": "code",
   "execution_count": 11,
   "id": "4def1dc7",
   "metadata": {},
   "outputs": [
    {
     "data": {
      "text/plain": [
       "{'name': 'James',\n",
       " 'age': 45,\n",
       " 'job': 'software engineer',\n",
       " 'contact_no': 789456123,\n",
       " 'email': 'xyz@gmail.com',\n",
       " 'address': 'pune',\n",
       " 'hobby': 'play'}"
      ]
     },
     "execution_count": 11,
     "metadata": {},
     "output_type": "execute_result"
    }
   ],
   "source": [
    "# Addition of a new key:value pair in the dictionary.\n",
    "\n",
    "details['hobby']='play'\n",
    "details"
   ]
  },
  {
   "cell_type": "code",
   "execution_count": 12,
   "id": "1a7c7810",
   "metadata": {},
   "outputs": [],
   "source": [
    "# Delete an item using del() function in the dictionary by key\n",
    "\n",
    "del(details['hobby'])"
   ]
  },
  {
   "cell_type": "code",
   "execution_count": 13,
   "id": "43ed01c0",
   "metadata": {},
   "outputs": [
    {
     "data": {
      "text/plain": [
       "{'name': 'James',\n",
       " 'age': 45,\n",
       " 'job': 'software engineer',\n",
       " 'contact_no': 789456123,\n",
       " 'email': 'xyz@gmail.com',\n",
       " 'address': 'pune'}"
      ]
     },
     "execution_count": 13,
     "metadata": {},
     "output_type": "execute_result"
    }
   ],
   "source": [
    "details"
   ]
  },
  {
   "cell_type": "code",
   "execution_count": 14,
   "id": "4aeb5c9b",
   "metadata": {},
   "outputs": [],
   "source": [
    "# how to delete whole dicitonay\n",
    "del(details)"
   ]
  },
  {
   "cell_type": "code",
   "execution_count": 15,
   "id": "70f49a24",
   "metadata": {},
   "outputs": [
    {
     "ename": "NameError",
     "evalue": "name 'details' is not defined",
     "output_type": "error",
     "traceback": [
      "\u001b[1;31m---------------------------------------------------------------------------\u001b[0m",
      "\u001b[1;31mNameError\u001b[0m                                 Traceback (most recent call last)",
      "\u001b[1;32m~\\AppData\\Local\\Temp\\ipykernel_13028\\449307415.py\u001b[0m in \u001b[0;36m<module>\u001b[1;34m\u001b[0m\n\u001b[0;32m      1\u001b[0m \u001b[1;31m# Verification using in or not in\u001b[0m\u001b[1;33m\u001b[0m\u001b[1;33m\u001b[0m\u001b[0m\n\u001b[0;32m      2\u001b[0m \u001b[1;33m\u001b[0m\u001b[0m\n\u001b[1;32m----> 3\u001b[1;33m \u001b[0mprint\u001b[0m\u001b[1;33m(\u001b[0m\u001b[1;34m'hobby'\u001b[0m \u001b[1;32min\u001b[0m \u001b[0mdetails\u001b[0m\u001b[1;33m)\u001b[0m\u001b[1;33m\u001b[0m\u001b[1;33m\u001b[0m\u001b[0m\n\u001b[0m\u001b[0;32m      4\u001b[0m \u001b[0mprint\u001b[0m\u001b[1;33m(\u001b[0m\u001b[1;34m'name'\u001b[0m \u001b[1;32min\u001b[0m \u001b[0mdetails\u001b[0m\u001b[1;33m)\u001b[0m\u001b[1;33m\u001b[0m\u001b[1;33m\u001b[0m\u001b[0m\n",
      "\u001b[1;31mNameError\u001b[0m: name 'details' is not defined"
     ]
    }
   ],
   "source": [
    "# Verification using in or not in\n",
    "\n",
    "print('hobby' in details)\n",
    "print('name' in details)"
   ]
  },
  {
   "cell_type": "markdown",
   "id": "f7eb1e99",
   "metadata": {},
   "source": [
    "# dict() function\n",
    "\n",
    " * __This function is used to create a dictionary.__"
   ]
  },
  {
   "cell_type": "code",
   "execution_count": 16,
   "id": "401d4b18",
   "metadata": {},
   "outputs": [
    {
     "data": {
      "text/plain": [
       "{'family': 'music', 'type': 'pop', 'year': '2024', 'name': 'happy new year'}"
      ]
     },
     "execution_count": 16,
     "metadata": {},
     "output_type": "execute_result"
    }
   ],
   "source": [
    "dict_sample=dict(family='music',type='pop',year='2024',name='happy new year')\n",
    "dict_sample"
   ]
  },
  {
   "cell_type": "code",
   "execution_count": 17,
   "id": "2d5e4fd8",
   "metadata": {},
   "outputs": [
    {
     "data": {
      "text/plain": [
       "dict"
      ]
     },
     "execution_count": 17,
     "metadata": {},
     "output_type": "execute_result"
    }
   ],
   "source": [
    "type(dict_sample)"
   ]
  },
  {
   "cell_type": "markdown",
   "id": "4742cdea",
   "metadata": {},
   "source": [
    "# clear() function\n",
    "\n",
    " * __It removes all the items in the dicitonary and returns an empty dictionary.__"
   ]
  },
  {
   "cell_type": "code",
   "execution_count": 18,
   "id": "afea9dd1",
   "metadata": {},
   "outputs": [
    {
     "data": {
      "text/plain": [
       "{'family': 'music', 'type': 'pop', 'year': '2024', 'name': 'happy new year'}"
      ]
     },
     "execution_count": 18,
     "metadata": {},
     "output_type": "execute_result"
    }
   ],
   "source": [
    "dict_sample_1=dict(family='music',type='pop',year='2024',name='happy new year')\n",
    "dict_sample_1"
   ]
  },
  {
   "cell_type": "code",
   "execution_count": 19,
   "id": "0c4f36a0",
   "metadata": {},
   "outputs": [
    {
     "data": {
      "text/plain": [
       "{}"
      ]
     },
     "execution_count": 19,
     "metadata": {},
     "output_type": "execute_result"
    }
   ],
   "source": [
    "dict_sample_1.clear()\n",
    "dict_sample_1"
   ]
  },
  {
   "cell_type": "markdown",
   "id": "be66dd4d",
   "metadata": {},
   "source": [
    "# copy function\n",
    "\n",
    " * __It returns a swallow copy of the main dicitonary.__"
   ]
  },
  {
   "cell_type": "code",
   "execution_count": 22,
   "id": "c6a0dc16",
   "metadata": {},
   "outputs": [
    {
     "name": "stdout",
     "output_type": "stream",
     "text": [
      "{'family': 'music', 'type': 'pop', 'year': '2024', 'name': 'happy new year'}\n",
      "{'family': 'music', 'type': 'pop', 'year': '2024', 'name': 'happy new year'}\n",
      "{'family': 'music', 'type': 'pop', 'year': '2024', 'name': 'happy new year', 'game': 'Cricket'}\n",
      "{'family': 'music', 'type': 'pop', 'year': '2024', 'name': 'happy new year'}\n"
     ]
    }
   ],
   "source": [
    "sample_dict=dict(family='music',type='pop',year='2024',name='happy new year')\n",
    "sample_copy=sample_dict.copy()\n",
    "print(sample_dict)\n",
    "print(sample_copy)\n",
    "\n",
    "sample_dict['game']='Cricket'\n",
    "print(sample_dict)\n",
    "print(sample_copy)"
   ]
  },
  {
   "cell_type": "markdown",
   "id": "5ca6291e",
   "metadata": {},
   "source": [
    "# pop() function\n",
    "\n",
    " * __This function is used to remove a specific item from the dictionary.__"
   ]
  },
  {
   "cell_type": "code",
   "execution_count": 24,
   "id": "dda553eb",
   "metadata": {},
   "outputs": [
    {
     "name": "stdout",
     "output_type": "stream",
     "text": [
      "{'family': 'music', 'type': 'pop', 'year': '2024', 'name': 'happy new year'}\n",
      "happy new year\n",
      "{'family': 'music', 'type': 'pop', 'year': '2024'}\n"
     ]
    }
   ],
   "source": [
    "sample_dict_2=dict(family='music',type='pop',year='2024',name='happy new year')\n",
    "print(sample_dict_2)\n",
    "print(sample_dict_2.pop('name'))\n",
    "print(sample_dict_2)"
   ]
  },
  {
   "cell_type": "markdown",
   "id": "31ea2286",
   "metadata": {},
   "source": [
    "# popitem() function\n",
    "\n",
    " * __It is used to remove the abitrary items from the dictionary and returns as a tuple.__"
   ]
  },
  {
   "cell_type": "code",
   "execution_count": 26,
   "id": "619545df",
   "metadata": {},
   "outputs": [
    {
     "name": "stdout",
     "output_type": "stream",
     "text": [
      "('name', 'happy new year')\n",
      "{'family': 'music', 'type': 'pop', 'year': '2024'}\n"
     ]
    }
   ],
   "source": [
    "sample_dict_3=dict(family='music',type='pop',year='2024',name='happy new year')\n",
    "print(sample_dict_3.popitem())\n",
    "print(sample_dict_3)"
   ]
  },
  {
   "cell_type": "markdown",
   "id": "3e576bf2",
   "metadata": {},
   "source": [
    "# get() function\n",
    "\n",
    " * __This method returns the value for the specified key if it is available in the dictionary. If the key is not available, it returns None.__"
   ]
  },
  {
   "cell_type": "code",
   "execution_count": 28,
   "id": "ee7ce151",
   "metadata": {},
   "outputs": [
    {
     "name": "stdout",
     "output_type": "stream",
     "text": [
      "music\n",
      "None\n"
     ]
    }
   ],
   "source": [
    "dictionary=dict(family='music',type='pop',year='2024',name='happy new year')\n",
    "\n",
    "print(dictionary.get('family'))\n",
    "print(dictionary.get(3))"
   ]
  },
  {
   "cell_type": "markdown",
   "id": "57c81047",
   "metadata": {},
   "source": [
    "# fromkeys() function\n",
    " * __It returns a new dictionary with the certain sequence of the items as the keys of the dictionary and the values are assigned with None.__"
   ]
  },
  {
   "cell_type": "code",
   "execution_count": 29,
   "id": "c87b5546",
   "metadata": {},
   "outputs": [
    {
     "name": "stdout",
     "output_type": "stream",
     "text": [
      "{'G': None, 'A': None, 'C': None, 'T': None}\n"
     ]
    }
   ],
   "source": [
    "keys={'A','T','C','G'}\n",
    "\n",
    "sequence=dict.fromkeys(keys)\n",
    "print(sequence)"
   ]
  },
  {
   "cell_type": "code",
   "execution_count": 30,
   "id": "a8c8c82d",
   "metadata": {},
   "outputs": [
    {
     "data": {
      "text/plain": [
       "{'G': 'Tejal', 'A': None, 'C': None, 'T': None}"
      ]
     },
     "execution_count": 30,
     "metadata": {},
     "output_type": "execute_result"
    }
   ],
   "source": [
    "sequence['G']='Tejal'\n",
    "sequence"
   ]
  },
  {
   "cell_type": "markdown",
   "id": "e2e239e7",
   "metadata": {},
   "source": [
    "# update() function\n",
    "\n",
    " * __It integrates a dictionary with another dictionary or with an iterable of key:value pairs.__"
   ]
  },
  {
   "cell_type": "code",
   "execution_count": 31,
   "id": "13290229",
   "metadata": {},
   "outputs": [
    {
     "name": "stdout",
     "output_type": "stream",
     "text": [
      "{'family': 'music', 'type': 'pop', 'year': '2024', 'name': 'happy new year'}\n",
      "{'G': 'Tejal', 'A': None, 'C': None, 'T': None}\n"
     ]
    }
   ],
   "source": [
    "dictionary_1=dict(family='music',type='pop',year='2024',name='happy new year')\n",
    "print(dictionary_1)\n",
    "print(sequence)"
   ]
  },
  {
   "cell_type": "code",
   "execution_count": 32,
   "id": "73056b2a",
   "metadata": {},
   "outputs": [
    {
     "name": "stdout",
     "output_type": "stream",
     "text": [
      "{'family': 'music', 'type': 'pop', 'year': '2024', 'name': 'happy new year', 'G': 'Tejal', 'A': None, 'C': None, 'T': None}\n"
     ]
    }
   ],
   "source": [
    "dictionary_1.update(sequence)\n",
    "print(dictionary_1)"
   ]
  },
  {
   "cell_type": "code",
   "execution_count": null,
   "id": "7c7dc487",
   "metadata": {},
   "outputs": [],
   "source": []
  }
 ],
 "metadata": {
  "kernelspec": {
   "display_name": "Python 3 (ipykernel)",
   "language": "python",
   "name": "python3"
  },
  "language_info": {
   "codemirror_mode": {
    "name": "ipython",
    "version": 3
   },
   "file_extension": ".py",
   "mimetype": "text/x-python",
   "name": "python",
   "nbconvert_exporter": "python",
   "pygments_lexer": "ipython3",
   "version": "3.9.13"
  }
 },
 "nbformat": 4,
 "nbformat_minor": 5
}
