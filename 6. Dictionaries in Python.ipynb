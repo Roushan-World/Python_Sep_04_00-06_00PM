{
 "cells": [
  {
   "cell_type": "markdown",
   "id": "b6b7b05a",
   "metadata": {},
   "source": [
    "# 6. Dictionaries in Python\n",
    "\n",
    " * __Dicationaries are used to store data values in key:value pairs.__\n",
    " * __A dictionary is a collection which is ordered, changeable or mutable and do not allow duplicates.__\n",
    " * __Dictionary items are ordered, changeable, and does not allow duplicates.__\n",
    " * __Dictionary items are presented in Key:value pairs, and can be referred to by using the key name.__\n",
    " * __Dictionaries are changeable, meaning that we can change, add or remove items after the dicationary has been created.__\n",
    " * __Dictionaries cannot have two items with the same key.__\n",
    " * __A dictionary can nested and can contain another dictionary.__\n",
    " \n",
    " \n",
    "   * __Key__----------------------__Values__\n",
    "   * __'name'__------------------__'Bob'__\n",
    "   * __'age'__-------------------__25__\n",
    "   * __'job'__-------------------__'Dev'__\n",
    "   * __'city__-------------------__'New York'__\n",
    "   * __'email'__-----------------__'bob@web.com'__"
   ]
  },
  {
   "cell_type": "code",
   "execution_count": 2,
   "id": "e83802e5",
   "metadata": {},
   "outputs": [
    {
     "data": {
      "text/plain": [
       "{'key_1': 3.14,\n",
       " 'key_2': 1.618,\n",
       " 'key_3': True,\n",
       " 'key_4': [3.14, 1.618],\n",
       " 'key_5': (3.14, 1.618),\n",
       " 'key_6': 2023,\n",
       " (3.14, 1.618): 'pi and golden ratio'}"
      ]
     },
     "execution_count": 2,
     "metadata": {},
     "output_type": "execute_result"
    }
   ],
   "source": [
    "# Take a sample dictionary\n",
    "\n",
    "sample_dict={'key_1':3.14,'key_2':1.618,\n",
    "            'key_3':True,'key_4':[3.14,1.618],\n",
    "            'key_5':(3.14,1.618),'key_6':2023,\n",
    "            (3.14,1.618):'pi and golden ratio'}\n",
    "sample_dict"
   ]
  },
  {
   "cell_type": "code",
   "execution_count": 5,
   "id": "17176db2",
   "metadata": {},
   "outputs": [
    {
     "name": "stdout",
     "output_type": "stream",
     "text": [
      "3.14\n",
      "1.618\n"
     ]
    }
   ],
   "source": [
    "#Accessing to the value using the key\n",
    "print(sample_dict['key_1'])\n",
    "print(sample_dict['key_2'])"
   ]
  },
  {
   "cell_type": "code",
   "execution_count": 6,
   "id": "798cb5b2",
   "metadata": {},
   "outputs": [
    {
     "data": {
      "text/plain": [
       "{'name': 'xyz',\n",
       " 'age': 45,\n",
       " 'job': 'software engineer',\n",
       " 'contact_no': 789456123,\n",
       " 'email': 'xyz@gmail.com',\n",
       " 'address': 'pune'}"
      ]
     },
     "execution_count": 6,
     "metadata": {},
     "output_type": "execute_result"
    }
   ],
   "source": [
    "details={'name':'xyz','age':45,\n",
    "        'job':'software engineer','contact_no':789456123,\n",
    "        'email':'xyz@gmail.com','address':'pune'}\n",
    "details"
   ]
  },
  {
   "cell_type": "code",
   "execution_count": 7,
   "id": "e3366b52",
   "metadata": {},
   "outputs": [
    {
     "data": {
      "text/plain": [
       "dict_keys(['key_1', 'key_2', 'key_3', 'key_4', 'key_5', 'key_6', (3.14, 1.618)])"
      ]
     },
     "execution_count": 7,
     "metadata": {},
     "output_type": "execute_result"
    }
   ],
   "source": [
    "#keys() function\n",
    "sample_dict.keys()"
   ]
  },
  {
   "cell_type": "code",
   "execution_count": 8,
   "id": "cf125e69",
   "metadata": {},
   "outputs": [
    {
     "data": {
      "text/plain": [
       "dict_values([3.14, 1.618, True, [3.14, 1.618], (3.14, 1.618), 2023, 'pi and golden ratio'])"
      ]
     },
     "execution_count": 8,
     "metadata": {},
     "output_type": "execute_result"
    }
   ],
   "source": [
    "# Values\n",
    "sample_dict.values()"
   ]
  },
  {
   "cell_type": "code",
   "execution_count": 9,
   "id": "40413c66",
   "metadata": {},
   "outputs": [
    {
     "data": {
      "text/plain": [
       "dict_keys(['name', 'age', 'job', 'contact_no', 'email', 'address'])"
      ]
     },
     "execution_count": 9,
     "metadata": {},
     "output_type": "execute_result"
    }
   ],
   "source": [
    "details.keys()"
   ]
  },
  {
   "cell_type": "code",
   "execution_count": 10,
   "id": "9dbfb158",
   "metadata": {},
   "outputs": [
    {
     "data": {
      "text/plain": [
       "dict_values(['xyz', 45, 'software engineer', 789456123, 'xyz@gmail.com', 'pune'])"
      ]
     },
     "execution_count": 10,
     "metadata": {},
     "output_type": "execute_result"
    }
   ],
   "source": [
    "details.values()"
   ]
  },
  {
   "cell_type": "code",
   "execution_count": 11,
   "id": "34cba6bc",
   "metadata": {},
   "outputs": [
    {
     "data": {
      "text/plain": [
       "{'name': 'xyz',\n",
       " 'age': 45,\n",
       " 'job': 'software engineer',\n",
       " 'contact_no': 789456123,\n",
       " 'email': 'xyz@gmail.com',\n",
       " 'address': 'pune'}"
      ]
     },
     "execution_count": 11,
     "metadata": {},
     "output_type": "execute_result"
    }
   ],
   "source": [
    "details"
   ]
  },
  {
   "cell_type": "code",
   "execution_count": 12,
   "id": "fffe6054",
   "metadata": {},
   "outputs": [
    {
     "data": {
      "text/plain": [
       "{'name': 'James',\n",
       " 'age': 45,\n",
       " 'job': 'software engineer',\n",
       " 'contact_no': 789456123,\n",
       " 'email': 'xyz@gmail.com',\n",
       " 'address': 'pune'}"
      ]
     },
     "execution_count": 12,
     "metadata": {},
     "output_type": "execute_result"
    }
   ],
   "source": [
    "details['name']='James'\n",
    "details"
   ]
  },
  {
   "cell_type": "code",
   "execution_count": 13,
   "id": "799a03de",
   "metadata": {},
   "outputs": [
    {
     "data": {
      "text/plain": [
       "{'name': 'James',\n",
       " 'age': 45,\n",
       " 'job': 'software engineer',\n",
       " 'contact_no': 789456123,\n",
       " 'email': 'xyz@gmail.com',\n",
       " 'address': 'pune'}"
      ]
     },
     "execution_count": 13,
     "metadata": {},
     "output_type": "execute_result"
    }
   ],
   "source": [
    "details"
   ]
  },
  {
   "cell_type": "code",
   "execution_count": 14,
   "id": "4def1dc7",
   "metadata": {},
   "outputs": [
    {
     "data": {
      "text/plain": [
       "{'name': 'James',\n",
       " 'age': 45,\n",
       " 'job': 'software engineer',\n",
       " 'contact_no': 789456123,\n",
       " 'email': 'xyz@gmail.com',\n",
       " 'address': 'pune',\n",
       " 'hobby': 'play'}"
      ]
     },
     "execution_count": 14,
     "metadata": {},
     "output_type": "execute_result"
    }
   ],
   "source": [
    "# Addition of a new key:value pair in the dictionary.\n",
    "\n",
    "details['hobby']='play'\n",
    "details"
   ]
  },
  {
   "cell_type": "code",
   "execution_count": 15,
   "id": "1a7c7810",
   "metadata": {},
   "outputs": [],
   "source": [
    "# Delete an item using del() function in the dictionary by key\n",
    "\n",
    "del(details['hobby'])"
   ]
  },
  {
   "cell_type": "code",
   "execution_count": 16,
   "id": "43ed01c0",
   "metadata": {},
   "outputs": [
    {
     "data": {
      "text/plain": [
       "{'name': 'James',\n",
       " 'age': 45,\n",
       " 'job': 'software engineer',\n",
       " 'contact_no': 789456123,\n",
       " 'email': 'xyz@gmail.com',\n",
       " 'address': 'pune'}"
      ]
     },
     "execution_count": 16,
     "metadata": {},
     "output_type": "execute_result"
    }
   ],
   "source": [
    "details"
   ]
  },
  {
   "cell_type": "code",
   "execution_count": null,
   "id": "4aeb5c9b",
   "metadata": {},
   "outputs": [],
   "source": [
    "# how to delete whole dicitonay\n",
    "del(details)"
   ]
  },
  {
   "cell_type": "code",
   "execution_count": 18,
   "id": "70f49a24",
   "metadata": {},
   "outputs": [
    {
     "name": "stdout",
     "output_type": "stream",
     "text": [
      "False\n",
      "True\n"
     ]
    }
   ],
   "source": [
    "# Verification using in or not in\n",
    "\n",
    "print('hobby' in details)\n",
    "print('name' in details)"
   ]
  },
  {
   "cell_type": "markdown",
   "id": "f7eb1e99",
   "metadata": {},
   "source": [
    "# dict() function\n",
    "\n",
    " * __This function is used to create a dictionary.__"
   ]
  },
  {
   "cell_type": "code",
   "execution_count": 20,
   "id": "401d4b18",
   "metadata": {},
   "outputs": [
    {
     "data": {
      "text/plain": [
       "{'family': 'music', 'type': 'pop', 'year': '2024', 'name': 'happy new year'}"
      ]
     },
     "execution_count": 20,
     "metadata": {},
     "output_type": "execute_result"
    }
   ],
   "source": [
    "dict_sample=dict(family='music',type='pop',year='2024',name='happy new year')\n",
    "dict_sample"
   ]
  },
  {
   "cell_type": "code",
   "execution_count": 21,
   "id": "2d5e4fd8",
   "metadata": {},
   "outputs": [
    {
     "data": {
      "text/plain": [
       "dict"
      ]
     },
     "execution_count": 21,
     "metadata": {},
     "output_type": "execute_result"
    }
   ],
   "source": [
    "type(dict_sample)"
   ]
  },
  {
   "cell_type": "code",
   "execution_count": null,
   "id": "e2c03b9a",
   "metadata": {},
   "outputs": [],
   "source": []
  },
  {
   "cell_type": "code",
   "execution_count": null,
   "id": "afea9dd1",
   "metadata": {},
   "outputs": [],
   "source": []
  }
 ],
 "metadata": {
  "kernelspec": {
   "display_name": "Python 3 (ipykernel)",
   "language": "python",
   "name": "python3"
  },
  "language_info": {
   "codemirror_mode": {
    "name": "ipython",
    "version": 3
   },
   "file_extension": ".py",
   "mimetype": "text/x-python",
   "name": "python",
   "nbconvert_exporter": "python",
   "pygments_lexer": "ipython3",
   "version": "3.9.13"
  }
 },
 "nbformat": 4,
 "nbformat_minor": 5
}
