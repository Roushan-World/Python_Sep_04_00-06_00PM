{
 "cells": [
  {
   "cell_type": "markdown",
   "id": "cd5c62ef",
   "metadata": {},
   "source": [
    "# Strings in Python"
   ]
  },
  {
   "cell_type": "code",
   "execution_count": 9,
   "id": "ccd0be67",
   "metadata": {},
   "outputs": [
    {
     "name": "stdout",
     "output_type": "stream",
     "text": [
      "hello world\n",
      "Hello World\n"
     ]
    }
   ],
   "source": [
    "print('hello world')\n",
    "print(\"Hello World\")"
   ]
  },
  {
   "cell_type": "code",
   "execution_count": 2,
   "id": "fc6d7194",
   "metadata": {},
   "outputs": [
    {
     "data": {
      "text/plain": [
       "'Hello World'"
      ]
     },
     "execution_count": 2,
     "metadata": {},
     "output_type": "execute_result"
    }
   ],
   "source": [
    "\"Hello World\""
   ]
  },
  {
   "cell_type": "code",
   "execution_count": 7,
   "id": "93ee80f4",
   "metadata": {},
   "outputs": [
    {
     "data": {
      "text/plain": [
       "'3214456'"
      ]
     },
     "execution_count": 7,
     "metadata": {},
     "output_type": "execute_result"
    }
   ],
   "source": [
    "'3214456'"
   ]
  },
  {
   "cell_type": "code",
   "execution_count": 8,
   "id": "07977213",
   "metadata": {},
   "outputs": [
    {
     "data": {
      "text/plain": [
       "'!@#$%^&'"
      ]
     },
     "execution_count": 8,
     "metadata": {},
     "output_type": "execute_result"
    }
   ],
   "source": [
    "'!@#$%^&'"
   ]
  },
  {
   "cell_type": "code",
   "execution_count": 10,
   "id": "d83f85be",
   "metadata": {},
   "outputs": [
    {
     "name": "stdout",
     "output_type": "stream",
     "text": [
      "What's your name?\n"
     ]
    }
   ],
   "source": [
    "print(\"What's your name?\")"
   ]
  },
  {
   "cell_type": "code",
   "execution_count": 11,
   "id": "0ce1dc14",
   "metadata": {},
   "outputs": [
    {
     "name": "stdout",
     "output_type": "stream",
     "text": [
      "What\"s your name?\n"
     ]
    }
   ],
   "source": [
    "print('What\"s your name?')"
   ]
  },
  {
   "cell_type": "markdown",
   "id": "8f6fc241",
   "metadata": {},
   "source": [
    "# Indexing of string"
   ]
  },
  {
   "cell_type": "code",
   "execution_count": 12,
   "id": "ad8ecd09",
   "metadata": {},
   "outputs": [],
   "source": [
    "x1='Hello World'"
   ]
  },
  {
   "cell_type": "code",
   "execution_count": 15,
   "id": "763ff38b",
   "metadata": {},
   "outputs": [
    {
     "name": "stdout",
     "output_type": "stream",
     "text": [
      "H\n",
      "e\n",
      "l\n",
      "l\n",
      "o\n",
      " \n",
      "W\n",
      "o\n",
      "r\n",
      "l\n",
      "d\n"
     ]
    }
   ],
   "source": [
    "print(x1[0])\n",
    "print(x1[1])\n",
    "print(x1[2])\n",
    "print(x1[3])\n",
    "print(x1[4])\n",
    "print(x1[5])\n",
    "print(x1[6])\n",
    "print(x1[7])\n",
    "print(x1[8])\n",
    "print(x1[9])\n",
    "print(x1[10])\n"
   ]
  },
  {
   "cell_type": "markdown",
   "id": "59097931",
   "metadata": {},
   "source": [
    "# Negative Indexing"
   ]
  },
  {
   "cell_type": "code",
   "execution_count": 1,
   "id": "3c14eb77",
   "metadata": {},
   "outputs": [
    {
     "data": {
      "text/plain": [
       "'Hello World'"
      ]
     },
     "execution_count": 1,
     "metadata": {},
     "output_type": "execute_result"
    }
   ],
   "source": [
    "x='Hello World'\n",
    "x"
   ]
  },
  {
   "cell_type": "code",
   "execution_count": 11,
   "id": "fe35f5d4",
   "metadata": {},
   "outputs": [
    {
     "name": "stdout",
     "output_type": "stream",
     "text": [
      "Positive indexing is: H \n",
      "Negative indexing is: H\n",
      "Positive indexing is: e \n",
      "Negative indexing is: e\n"
     ]
    }
   ],
   "source": [
    "print('Positive indexing is:',x[0],'\\nNegative indexing is:',x[-11])\n",
    "print('Positive indexing is:',x[1],'\\nNegative indexing is:',x[-10])"
   ]
  },
  {
   "cell_type": "markdown",
   "id": "498782b5",
   "metadata": {},
   "source": [
    "# len() functions"
   ]
  },
  {
   "cell_type": "code",
   "execution_count": 12,
   "id": "7a1d608a",
   "metadata": {},
   "outputs": [
    {
     "name": "stdout",
     "output_type": "stream",
     "text": [
      "227\n"
     ]
    }
   ],
   "source": [
    "x=\"The Asia Cup, officially known as the ACC Men’s Asia Cup or ACC Cup is a men's international cricket tournament contested between Asian countries in either One Day International format and Twenty20 International cricket format.\"\n",
    "\n",
    "\n",
    "print(len(x))"
   ]
  },
  {
   "cell_type": "markdown",
   "id": "bf352c15",
   "metadata": {},
   "source": [
    "# slicing of string."
   ]
  },
  {
   "cell_type": "code",
   "execution_count": 14,
   "id": "fc0c3488",
   "metadata": {},
   "outputs": [
    {
     "name": "stdout",
     "output_type": "stream",
     "text": [
      "Hello\n",
      "World\n"
     ]
    }
   ],
   "source": [
    "x1='Hello World'\n",
    "\n",
    "print(x1[0:5])\n",
    "print(x1[6:11])"
   ]
  },
  {
   "cell_type": "code",
   "execution_count": 15,
   "id": "ec43e4e1",
   "metadata": {},
   "outputs": [
    {
     "name": "stdout",
     "output_type": "stream",
     "text": [
      "123456789\n"
     ]
    }
   ],
   "source": [
    "x2='123456789'\n",
    "print(x2)"
   ]
  },
  {
   "cell_type": "code",
   "execution_count": 16,
   "id": "e733148a",
   "metadata": {},
   "outputs": [
    {
     "name": "stdout",
     "output_type": "stream",
     "text": [
      "13579\n"
     ]
    }
   ],
   "source": [
    "print(x2[0:9:2])"
   ]
  },
  {
   "cell_type": "code",
   "execution_count": 17,
   "id": "94db97a7",
   "metadata": {},
   "outputs": [
    {
     "name": "stdout",
     "output_type": "stream",
     "text": [
      "hlowrd\n"
     ]
    }
   ],
   "source": [
    "x3='hello world'\n",
    "\n",
    "print(x3[0:55:2])"
   ]
  },
  {
   "cell_type": "code",
   "execution_count": 22,
   "id": "038534cd",
   "metadata": {},
   "outputs": [
    {
     "name": "stdout",
     "output_type": "stream",
     "text": [
      "hello world\n",
      "hello world\n",
      "hello world\n",
      "hello world\n",
      "hlowrd\n"
     ]
    }
   ],
   "source": [
    "print(x3)\n",
    "print(x3[::])\n",
    "print(x3[0:])\n",
    "print(x3[:100:])\n",
    "print(x3[::2])"
   ]
  },
  {
   "cell_type": "markdown",
   "id": "91af42f8",
   "metadata": {},
   "source": [
    "# Concatenation of string"
   ]
  },
  {
   "cell_type": "code",
   "execution_count": 29,
   "id": "a167a02f",
   "metadata": {},
   "outputs": [
    {
     "name": "stdout",
     "output_type": "stream",
     "text": [
      "Mehul Keshwani\n"
     ]
    }
   ],
   "source": [
    "first_name='Mehul'\n",
    "last_name=' Keshwani'\n",
    "fullname=first_name+last_name\n",
    "print(fullname)"
   ]
  },
  {
   "cell_type": "code",
   "execution_count": 31,
   "id": "ae57ff7b",
   "metadata": {},
   "outputs": [
    {
     "data": {
      "text/plain": [
       "'Hello world Hello world '"
      ]
     },
     "execution_count": 31,
     "metadata": {},
     "output_type": "execute_result"
    }
   ],
   "source": [
    "2*'Hello world '"
   ]
  },
  {
   "cell_type": "markdown",
   "id": "0fbf0e5b",
   "metadata": {},
   "source": [
    "# Escape sequence"
   ]
  },
  {
   "cell_type": "code",
   "execution_count": 35,
   "id": "6c024061",
   "metadata": {},
   "outputs": [
    {
     "name": "stdout",
     "output_type": "stream",
     "text": [
      "Hello World How many people are living on the world.\n"
     ]
    }
   ],
   "source": [
    "message='Hello World'\n",
    "questions='How many people are living on the world.'\n",
    "\n",
    "statement=message+questions\n",
    "print(statement)"
   ]
  },
  {
   "cell_type": "code",
   "execution_count": 39,
   "id": "e9c6a0ee",
   "metadata": {},
   "outputs": [
    {
     "name": "stdout",
     "output_type": "stream",
     "text": [
      "\\\\\n"
     ]
    }
   ],
   "source": [
    "print('\\\\\\\\')"
   ]
  },
  {
   "cell_type": "code",
   "execution_count": 44,
   "id": "110dc05b",
   "metadata": {},
   "outputs": [
    {
     "name": "stdout",
     "output_type": "stream",
     "text": [
      "Hello World\n",
      "How many people are living on the earth.\n",
      "Hello World\tHow many people are living on the earth.\n",
      "Hello World\\How many people are living on the earth.\n"
     ]
    }
   ],
   "source": [
    "print('Hello World\\nHow many people are living on the earth.')    #\\n------------> New line\n",
    "\n",
    "print('Hello World\\tHow many people are living on the earth.')    #\\t-------------> tab\n",
    "\n",
    "print('Hello World\\\\How many people are living on the earth.')"
   ]
  },
  {
   "cell_type": "markdown",
   "id": "83bcfede",
   "metadata": {},
   "source": [
    "# Python String Methods."
   ]
  },
  {
   "cell_type": "code",
   "execution_count": 4,
   "id": "b661b57b",
   "metadata": {},
   "outputs": [
    {
     "name": "stdout",
     "output_type": "stream",
     "text": [
      "Hello world\n",
      "hello world\n",
      "HELLO WORLD\n"
     ]
    }
   ],
   "source": [
    "# Capitalize\n",
    "x='hello WORLD'\n",
    "\n",
    "y=x.capitalize()\n",
    "print(y)\n",
    "\n",
    "\n",
    "# lower()\n",
    "\n",
    "x1=x.lower()\n",
    "\n",
    "print(x1)\n",
    "\n",
    "# upper\n",
    "\n",
    "x2=x.upper()\n",
    "print(x2)\n",
    "\n",
    "\n"
   ]
  },
  {
   "cell_type": "code",
   "execution_count": 7,
   "id": "06b9baa9",
   "metadata": {},
   "outputs": [
    {
     "name": "stdout",
     "output_type": "stream",
     "text": [
      "3\n",
      "1\n"
     ]
    }
   ],
   "source": [
    "# count\n",
    "\n",
    "y1='Hello World'\n",
    "\n",
    "print(y1.count('l'))\n",
    "\n",
    "y2='HeLLo World'\n",
    "\n",
    "print(y2.count('l'))"
   ]
  },
  {
   "cell_type": "code",
   "execution_count": 10,
   "id": "08d540c5",
   "metadata": {},
   "outputs": [
    {
     "name": "stdout",
     "output_type": "stream",
     "text": [
      "6\n"
     ]
    }
   ],
   "source": [
    "# find()\n",
    "\n",
    "\n",
    "x3='HELLO WORLD'\n",
    "\n",
    "print(x3.find('W'))"
   ]
  },
  {
   "cell_type": "code",
   "execution_count": 11,
   "id": "28d50981",
   "metadata": {},
   "outputs": [
    {
     "name": "stdout",
     "output_type": "stream",
     "text": [
      "11/09/2023\n"
     ]
    }
   ],
   "source": [
    "# replace \n",
    "\n",
    "y2='11-09-2023'   # 11/09/2023\n",
    "\n",
    "print(y2.replace('-','/'))"
   ]
  },
  {
   "cell_type": "code",
   "execution_count": 14,
   "id": "51b49b2a",
   "metadata": {},
   "outputs": [
    {
     "name": "stdout",
     "output_type": "stream",
     "text": [
      "['11', '09', '2023']\n"
     ]
    }
   ],
   "source": [
    "# split\n",
    "print(y2.split('-'))"
   ]
  },
  {
   "cell_type": "code",
   "execution_count": 18,
   "id": "ba777726",
   "metadata": {},
   "outputs": [
    {
     "name": "stdout",
     "output_type": "stream",
     "text": [
      "True\n"
     ]
    }
   ],
   "source": [
    "#isalnum # al-alphabet num-number\n",
    "\n",
    "y4='abc123'\n",
    "\n",
    "print(y4.isalnum())"
   ]
  },
  {
   "cell_type": "code",
   "execution_count": 21,
   "id": "8cf5c2f8",
   "metadata": {},
   "outputs": [
    {
     "name": "stdout",
     "output_type": "stream",
     "text": [
      "False\n"
     ]
    }
   ],
   "source": [
    "# .isnumeric()\n",
    "y5='123456799a'\n",
    "\n",
    "print(y5.isnumeric())"
   ]
  },
  {
   "cell_type": "code",
   "execution_count": 23,
   "id": "a7577313",
   "metadata": {},
   "outputs": [
    {
     "name": "stdout",
     "output_type": "stream",
     "text": [
      "True\n",
      "False\n"
     ]
    }
   ],
   "source": [
    "# islower()\n",
    "a1='hello world'\n",
    "\n",
    "print(a1.islower())\n",
    "print(a1.isupper())"
   ]
  },
  {
   "cell_type": "code",
   "execution_count": 24,
   "id": "8a2d6647",
   "metadata": {},
   "outputs": [
    {
     "name": "stdout",
     "output_type": "stream",
     "text": [
      "False\n",
      "True\n"
     ]
    }
   ],
   "source": [
    "# isupper()\n",
    "a2='HELLO WORLD'\n",
    "\n",
    "print(a2.islower())\n",
    "print(a2.isupper())"
   ]
  },
  {
   "cell_type": "code",
   "execution_count": 29,
   "id": "efe63ba1",
   "metadata": {},
   "outputs": [
    {
     "name": "stdout",
     "output_type": "stream",
     "text": [
      "[1, 2, 3, 4]\n",
      "[1, 2, 3, 4]\n",
      "[1, 2, 3, 4, 10]\n",
      "[1, 2, 3, 4, 10]\n"
     ]
    }
   ],
   "source": [
    "# copy function   # Deep copy # Swallow copy\n",
    "\n",
    "\n",
    "x1=[1,2,3,4]\n",
    "print(x1)\n",
    "\n",
    "x2=x1\n",
    "print(x2)\n",
    "\n",
    "x1.append(10)\n",
    "\n",
    "print(x1)\n",
    "print(x2)\n",
    "\n"
   ]
  },
  {
   "cell_type": "code",
   "execution_count": 33,
   "id": "73fae357",
   "metadata": {},
   "outputs": [
    {
     "name": "stdout",
     "output_type": "stream",
     "text": [
      "[4, 5, 6, 7, 8]\n",
      "[4, 5, 6, 7, 8]\n",
      "[4, 5, 6, 7, 8, 40]\n",
      "[4, 5, 6, 7, 8]\n"
     ]
    }
   ],
   "source": [
    "# Swallow copy\n",
    "\n",
    "x1=[4,5,6,7,8]\n",
    "\n",
    "print(x1)\n",
    "\n",
    "x3=x1.copy()\n",
    "print(x3)\n",
    "\n",
    "x1.append(40)\n",
    "print(x1)\n",
    "print(x3)"
   ]
  },
  {
   "cell_type": "code",
   "execution_count": 34,
   "id": "81298a23",
   "metadata": {},
   "outputs": [],
   "source": [
    "x='The Quick Brown Fox Jump Over the Lazy Dog.'  # lowercase, \n",
    "\n",
    "x1= '3024/09/10' ('/','\\') #Replace"
   ]
  },
  {
   "cell_type": "code",
   "execution_count": 35,
   "id": "64e41b4e",
   "metadata": {},
   "outputs": [],
   "source": [
    "# Capitalize()"
   ]
  },
  {
   "cell_type": "code",
   "execution_count": null,
   "id": "0cf63ab8",
   "metadata": {},
   "outputs": [],
   "source": [
    "x5=['Hello World',1.618,2.718,'Python']    #100   # swallow and Deep copy"
   ]
  }
 ],
 "metadata": {
  "kernelspec": {
   "display_name": "Python 3 (ipykernel)",
   "language": "python",
   "name": "python3"
  },
  "language_info": {
   "codemirror_mode": {
    "name": "ipython",
    "version": 3
   },
   "file_extension": ".py",
   "mimetype": "text/x-python",
   "name": "python",
   "nbconvert_exporter": "python",
   "pygments_lexer": "ipython3",
   "version": "3.9.13"
  }
 },
 "nbformat": 4,
 "nbformat_minor": 5
}
