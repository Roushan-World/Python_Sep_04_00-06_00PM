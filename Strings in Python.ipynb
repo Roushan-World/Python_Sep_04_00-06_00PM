{
 "cells": [
  {
   "cell_type": "markdown",
   "id": "22957fed",
   "metadata": {},
   "source": [
    "# Strings in Python"
   ]
  },
  {
   "cell_type": "code",
   "execution_count": 9,
   "id": "c4fe80bd",
   "metadata": {},
   "outputs": [
    {
     "name": "stdout",
     "output_type": "stream",
     "text": [
      "hello world\n",
      "Hello World\n"
     ]
    }
   ],
   "source": [
    "print('hello world')\n",
    "print(\"Hello World\")"
   ]
  },
  {
   "cell_type": "code",
   "execution_count": 2,
   "id": "59062508",
   "metadata": {},
   "outputs": [
    {
     "data": {
      "text/plain": [
       "'Hello World'"
      ]
     },
     "execution_count": 2,
     "metadata": {},
     "output_type": "execute_result"
    }
   ],
   "source": [
    "\"Hello World\""
   ]
  },
  {
   "cell_type": "code",
   "execution_count": 7,
   "id": "fe09ad28",
   "metadata": {},
   "outputs": [
    {
     "data": {
      "text/plain": [
       "'3214456'"
      ]
     },
     "execution_count": 7,
     "metadata": {},
     "output_type": "execute_result"
    }
   ],
   "source": [
    "'3214456'"
   ]
  },
  {
   "cell_type": "code",
   "execution_count": 8,
   "id": "5292f1d7",
   "metadata": {},
   "outputs": [
    {
     "data": {
      "text/plain": [
       "'!@#$%^&'"
      ]
     },
     "execution_count": 8,
     "metadata": {},
     "output_type": "execute_result"
    }
   ],
   "source": [
    "'!@#$%^&'"
   ]
  },
  {
   "cell_type": "code",
   "execution_count": 10,
   "id": "42f126be",
   "metadata": {},
   "outputs": [
    {
     "name": "stdout",
     "output_type": "stream",
     "text": [
      "What's your name?\n"
     ]
    }
   ],
   "source": [
    "print(\"What's your name?\")"
   ]
  },
  {
   "cell_type": "code",
   "execution_count": 11,
   "id": "59c78f52",
   "metadata": {},
   "outputs": [
    {
     "name": "stdout",
     "output_type": "stream",
     "text": [
      "What\"s your name?\n"
     ]
    }
   ],
   "source": [
    "print('What\"s your name?')"
   ]
  },
  {
   "cell_type": "markdown",
   "id": "7419bc31",
   "metadata": {},
   "source": [
    "# Indexing of string"
   ]
  },
  {
   "cell_type": "code",
   "execution_count": 12,
   "id": "049b9469",
   "metadata": {},
   "outputs": [],
   "source": [
    "x1='Hello World'"
   ]
  },
  {
   "cell_type": "code",
   "execution_count": 15,
   "id": "4745eeac",
   "metadata": {},
   "outputs": [
    {
     "name": "stdout",
     "output_type": "stream",
     "text": [
      "H\n",
      "e\n",
      "l\n",
      "l\n",
      "o\n",
      " \n",
      "W\n",
      "o\n",
      "r\n",
      "l\n",
      "d\n"
     ]
    }
   ],
   "source": [
    "print(x1[0])\n",
    "print(x1[1])\n",
    "print(x1[2])\n",
    "print(x1[3])\n",
    "print(x1[4])\n",
    "print(x1[5])\n",
    "print(x1[6])\n",
    "print(x1[7])\n",
    "print(x1[8])\n",
    "print(x1[9])\n",
    "print(x1[10])\n"
   ]
  },
  {
   "cell_type": "code",
   "execution_count": null,
   "id": "99b2d49e",
   "metadata": {},
   "outputs": [],
   "source": []
  }
 ],
 "metadata": {
  "kernelspec": {
   "display_name": "Python 3 (ipykernel)",
   "language": "python",
   "name": "python3"
  },
  "language_info": {
   "codemirror_mode": {
    "name": "ipython",
    "version": 3
   },
   "file_extension": ".py",
   "mimetype": "text/x-python",
   "name": "python",
   "nbconvert_exporter": "python",
   "pygments_lexer": "ipython3",
   "version": "3.9.13"
  }
 },
 "nbformat": 4,
 "nbformat_minor": 5
}
