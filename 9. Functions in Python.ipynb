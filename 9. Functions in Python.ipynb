{
 "cells": [
  {
   "cell_type": "markdown",
   "id": "c3eb5e37",
   "metadata": {},
   "source": [
    "# 9. Functions in Python\n",
    "\n",
    "\n",
    " * __In Python, a function is a group of related statements that performs a specific task.__\n",
    " * __Functions help break our program into smaller and modular chunks. * As our program grows larger and larger, functions make it more organized and manageable.__\n",
    " * __Furthermore, it avoids repetition and makes the code reusable.__\n",
    " * __There are two types of functions:__\n",
    " * __Pre-defined functions__\n",
    " * __User-defined functions.__\n",
    " * __In Python a function defined using the def keyword followed by the function name and parentheses().__\n",
    " * __Keyword def that marks the start of the function header.__\n",
    " * __A function name to uniquely identify the function.__\n",
    " * __Parameters(arguments) through which we pass values to a function. The are optional.__\n",
    " * __A colon(:) to mark the end of the function header.__\n",
    " * __Optional documentation string(docstring) to describe what the function does.__\n",
    " * __One or more valid python statements that make up the function body.__\n",
    " * __Statements must have the same indentation level (usually 4 spaces)__\n",
    " * __An optional return statement to return a value from the function.__\n",
    " \n",
    " \n",
    "# Variables\n",
    "\n",
    " * __The input to a function is called a formal parameter.__\n",
    " * __A variable that is declared inside a function is called a local variable.__\n",
    " * __The parameter only exists within the function (i.e the point where the function starts and stops).__\n",
    " * __A variable that is declared outside a function definition is a global variabel, and its value is accessible and modifiable thoughout the program.__"
   ]
  },
  {
   "cell_type": "code",
   "execution_count": 5,
   "id": "2d7a6aca",
   "metadata": {},
   "outputs": [
    {
     "name": "stdout",
     "output_type": "stream",
     "text": [
      "The value is 28 12 160 400 8000\n"
     ]
    },
    {
     "data": {
      "text/plain": [
       "(28, 12, 160, 400, 8000)"
      ]
     },
     "execution_count": 5,
     "metadata": {},
     "output_type": "execute_result"
    }
   ],
   "source": [
    "def process(x):\n",
    "    y1=x+8\n",
    "    y2=x-8\n",
    "    y3=x*8\n",
    "    y4=x**2\n",
    "    y5=x**3\n",
    "    print('The value is',y1,y2,y3,y4,y5)\n",
    "    \n",
    "    return y1,y2,y3,y4,y5\n",
    "    \n",
    "process(20)"
   ]
  },
  {
   "cell_type": "code",
   "execution_count": 6,
   "id": "e1b99a16",
   "metadata": {},
   "outputs": [
    {
     "name": "stdout",
     "output_type": "stream",
     "text": [
      "The value is 58 42 400 2500 125000\n"
     ]
    },
    {
     "data": {
      "text/plain": [
       "(58, 42, 400, 2500, 125000)"
      ]
     },
     "execution_count": 6,
     "metadata": {},
     "output_type": "execute_result"
    }
   ],
   "source": [
    "process(50)"
   ]
  },
  {
   "cell_type": "code",
   "execution_count": 7,
   "id": "5b168fec",
   "metadata": {},
   "outputs": [
    {
     "name": "stdout",
     "output_type": "stream",
     "text": [
      "The value is 98 82 720 8100 729000\n"
     ]
    },
    {
     "data": {
      "text/plain": [
       "(98, 82, 720, 8100, 729000)"
      ]
     },
     "execution_count": 7,
     "metadata": {},
     "output_type": "execute_result"
    }
   ],
   "source": [
    "process(90)"
   ]
  },
  {
   "cell_type": "code",
   "execution_count": 8,
   "id": "6cdaacc5",
   "metadata": {},
   "outputs": [
    {
     "name": "stdout",
     "output_type": "stream",
     "text": [
      "The value is 108 92 800 10000 1000000\n"
     ]
    },
    {
     "data": {
      "text/plain": [
       "(108, 92, 800, 10000, 1000000)"
      ]
     },
     "execution_count": 8,
     "metadata": {},
     "output_type": "execute_result"
    }
   ],
   "source": [
    "process(100)"
   ]
  },
  {
   "cell_type": "code",
   "execution_count": 12,
   "id": "fba95716",
   "metadata": {},
   "outputs": [
    {
     "data": {
      "text/plain": [
       "140"
      ]
     },
     "execution_count": 12,
     "metadata": {},
     "output_type": "execute_result"
    }
   ],
   "source": [
    "def multi(x,y):\n",
    "    z=2*x+5*y+45\n",
    "    return z\n",
    "\n",
    "\n",
    "output=multi(10,15)\n",
    "output"
   ]
  },
  {
   "cell_type": "code",
   "execution_count": 14,
   "id": "51c8164d",
   "metadata": {},
   "outputs": [
    {
     "name": "stdout",
     "output_type": "stream",
     "text": [
      "hello world\n",
      "hello world\n"
     ]
    }
   ],
   "source": [
    "def msg():\n",
    "    print('hello world')\n",
    "    \n",
    "def msg2():\n",
    "    print('hello world')\n",
    "    return None\n",
    "\n",
    "msg()\n",
    "msg2()"
   ]
  },
  {
   "cell_type": "code",
   "execution_count": 15,
   "id": "a952ff94",
   "metadata": {},
   "outputs": [
    {
     "name": "stdout",
     "output_type": "stream",
     "text": [
      "hello world\n",
      "None\n"
     ]
    }
   ],
   "source": [
    "print(msg())"
   ]
  },
  {
   "cell_type": "code",
   "execution_count": 16,
   "id": "e3b61255",
   "metadata": {},
   "outputs": [
    {
     "name": "stdout",
     "output_type": "stream",
     "text": [
      "hello world\n",
      "None\n"
     ]
    }
   ],
   "source": [
    "print(msg2())"
   ]
  },
  {
   "cell_type": "code",
   "execution_count": 18,
   "id": "69980d93",
   "metadata": {},
   "outputs": [
    {
     "name": "stdout",
     "output_type": "stream",
     "text": [
      "The following function returns the sum of two parameters.\n",
      "25\n"
     ]
    }
   ],
   "source": [
    "x=0\n",
    "def addition(x,y):\n",
    "    '''The following function returns the sum of two parameters.'''\n",
    "    z=x+y\n",
    "    return z\n",
    "print(addition.__doc__)\n",
    "print(addition(10,15))"
   ]
  },
  {
   "cell_type": "code",
   "execution_count": 20,
   "id": "c05eab08",
   "metadata": {},
   "outputs": [
    {
     "name": "stdout",
     "output_type": "stream",
     "text": [
      "Enter your nameTejal\n",
      "Welcome Tejal\n"
     ]
    }
   ],
   "source": [
    "def function(name):\n",
    "    msg='Welcome '+name\n",
    "    return msg\n",
    "\n",
    "name=input('Enter your name')\n",
    "print(function(name))"
   ]
  },
  {
   "cell_type": "code",
   "execution_count": 27,
   "id": "de12aac2",
   "metadata": {},
   "outputs": [
    {
     "name": "stdout",
     "output_type": "stream",
     "text": [
      "500\n"
     ]
    }
   ],
   "source": [
    "# write a program to find the max of three number using function\n",
    "\n",
    "def max_of_two(x,y):\n",
    "    if x>y:\n",
    "        return x\n",
    "    return y\n",
    "def max_of_three(x,y,z):\n",
    "    return max_of_two(x,max_of_two(y,z))\n",
    "\n",
    "print(max_of_three(100,200,500))\n"
   ]
  },
  {
   "cell_type": "code",
   "execution_count": 28,
   "id": "0b2e4479",
   "metadata": {},
   "outputs": [
    {
     "name": "stdout",
     "output_type": "stream",
     "text": [
      "Maximum number is: 300\n"
     ]
    }
   ],
   "source": [
    "x=200\n",
    "y=300\n",
    "z=10\n",
    "\n",
    "def maximum(a,b,c):\n",
    "    d=[a,b,c]\n",
    "    print('Maximum number is:',max(d))\n",
    "    \n",
    "maximum(x,y,z)"
   ]
  },
  {
   "cell_type": "code",
   "execution_count": 1,
   "id": "9067bbf9",
   "metadata": {},
   "outputs": [],
   "source": [
    "# Write a program to sum all the numbers 8,2,3,0,7,100,200,21,789\n",
    "\n",
    "# Write a python program that accepts a string from user and calculate the number of upper and lower case letters.\n",
    "\n"
   ]
  },
  {
   "cell_type": "code",
   "execution_count": 7,
   "id": "cc8dfb15",
   "metadata": {},
   "outputs": [
    {
     "name": "stdout",
     "output_type": "stream",
     "text": [
      "Enter your sentence:Tendulkar took up cricket at the age of eleven, made his Test match debut on 15 November 1989 against Pakistan in Karachi at the age of sixteen, and went on to represent Mumbai domestically and India internationally for over 24 years.[9] In 2002, halfway through his career, Wisden ranked him the second-greatest Test batsman of all time, behind Don Bradman, and the second-greatest ODI batsman of all time, behind Viv Richards.[10] The same year, Tendulkar was a part of the team that was one of the joint-winners of the 2002 ICC Champions Trophy. Later in his career, Tendulkar was part of the Indian team that won the 2011 Cricket World Cup, his first win in six World Cup appearances for India.[11] He had previously been named \"Player of the Tournament\" at the 2003 World\n",
      "Original String:\n",
      " Tendulkar took up cricket at the age of eleven, made his Test match debut on 15 November 1989 against Pakistan in Karachi at the age of sixteen, and went on to represent Mumbai domestically and India internationally for over 24 years.[9] In 2002, halfway through his career, Wisden ranked him the second-greatest Test batsman of all time, behind Don Bradman, and the second-greatest ODI batsman of all time, behind Viv Richards.[10] The same year, Tendulkar was a part of the team that was one of the joint-winners of the 2002 ICC Champions Trophy. Later in his career, Tendulkar was part of the Indian team that won the 2011 Cricket World Cup, his first win in six World Cup appearances for India.[11] He had previously been named \"Player of the Tournament\" at the 2003 World\n",
      "No. of Upper case in Your sentence: 37\n",
      "No. of Lower Case in Your sentence: 552\n",
      "Total No. of words in your sentence: 589\n"
     ]
    }
   ],
   "source": [
    "# Write a python program that accepts a string from user and calculate the number of upper and lower case letters.\n",
    "\n",
    "\n",
    "def string_test(s):\n",
    "    d={'Upper Case':0 , 'Lower Case':0}\n",
    "    for i in s:\n",
    "        if i.isupper():\n",
    "            d['Upper Case']+=1\n",
    "        elif i.islower():\n",
    "            d['Lower Case']+=1\n",
    "        else:\n",
    "            pass\n",
    "    print('Original String:\\n',s)\n",
    "    print('No. of Upper case in Your sentence:',d['Upper Case'])\n",
    "    print('No. of Lower Case in Your sentence:',d['Lower Case'])\n",
    "    print('Total No. of words in your sentence:',d['Upper Case']+d['Lower Case'])\n",
    "    \n",
    "string_test(input('Enter your sentence:'))"
   ]
  },
  {
   "cell_type": "code",
   "execution_count": null,
   "id": "7344a6c5",
   "metadata": {},
   "outputs": [],
   "source": []
  }
 ],
 "metadata": {
  "kernelspec": {
   "display_name": "Python 3 (ipykernel)",
   "language": "python",
   "name": "python3"
  },
  "language_info": {
   "codemirror_mode": {
    "name": "ipython",
    "version": 3
   },
   "file_extension": ".py",
   "mimetype": "text/x-python",
   "name": "python",
   "nbconvert_exporter": "python",
   "pygments_lexer": "ipython3",
   "version": "3.9.13"
  }
 },
 "nbformat": 4,
 "nbformat_minor": 5
}
