{
 "cells": [
  {
   "cell_type": "markdown",
   "id": "fcb44fa0",
   "metadata": {},
   "source": [
    "# 8. Loops in Python\n",
    "\n",
    " * __A for loop is used for iterating over a sequence (that is either a list, a tuple, a dictionary, a set, or a sting).__\n",
    " * __This is less like the for keyword in the other programming languages, and works more like an iterators method as found in other object-oriented programming languages.__\n",
    " * __With the for loop we can execute a set of statements, once for each item in a list, tuple, set etc.__\n",
    " * __The for loop does not require an indexing variable to set beforehand.__\n",
    " * __with the while loop we can execute a set of statements as long as a condition is true.__\n",
    " * __Note: remember to increment, i, or else the loop will continue forever.__\n",
    " * __The while loop requires relevant variables to be ready, in this example we need to define an indexing variable, i, which we set to 1.__\n",
    " \n",
    " # range() function\n",
    " \n",
    " * __It is helpful to think of the range object as an ordered list.__\n",
    " * __To loop through a set of code a specified number of times, we can use the range() functions.__\n",
    " * __The range() function returns a sequence of numbers, starting from 0 by default, and increments by 1 (by default), and ends at a specified number.__\n",
    " "
   ]
  },
  {
   "cell_type": "code",
   "execution_count": 2,
   "id": "c0c9a536",
   "metadata": {},
   "outputs": [
    {
     "name": "stdout",
     "output_type": "stream",
     "text": [
      "2005\n",
      "2006\n",
      "2007\n",
      "2008\n",
      "2009\n",
      "2010\n"
     ]
    }
   ],
   "source": [
    "years=[2005,2006,2007,2008,2009,2010]\n",
    "\n",
    "years\n",
    "\n",
    "for i in years:\n",
    "    print(i)"
   ]
  },
  {
   "cell_type": "code",
   "execution_count": 3,
   "id": "e20c4e29",
   "metadata": {},
   "outputs": [
    {
     "name": "stdout",
     "output_type": "stream",
     "text": [
      "2005\n",
      "2006\n",
      "2007\n",
      "2008\n",
      "2009\n",
      "2010\n"
     ]
    }
   ],
   "source": [
    "for year in years:\n",
    "    print(year)"
   ]
  },
  {
   "cell_type": "code",
   "execution_count": 4,
   "id": "0db648ce",
   "metadata": {},
   "outputs": [
    {
     "name": "stdout",
     "output_type": "stream",
     "text": [
      "2005\n",
      "2006\n",
      "2007\n",
      "2008\n",
      "2009\n",
      "2010\n"
     ]
    }
   ],
   "source": [
    "for var in years:\n",
    "    print(var)"
   ]
  },
  {
   "cell_type": "code",
   "execution_count": 5,
   "id": "af5f6f05",
   "metadata": {},
   "outputs": [
    {
     "data": {
      "text/plain": [
       "[2005, 2006, 2007, 2008, 2009, 2010]"
      ]
     },
     "execution_count": 5,
     "metadata": {},
     "output_type": "execute_result"
    }
   ],
   "source": [
    "years"
   ]
  },
  {
   "cell_type": "code",
   "execution_count": 8,
   "id": "ffb98d3b",
   "metadata": {},
   "outputs": [
    {
     "name": "stdout",
     "output_type": "stream",
     "text": [
      "2005\n",
      "2006\n",
      "2007\n",
      "2008\n",
      "2009\n",
      "2010\n"
     ]
    }
   ],
   "source": [
    "for i in range(len(years)):\n",
    "    print(years[i])"
   ]
  },
  {
   "cell_type": "code",
   "execution_count": 12,
   "id": "acc4120c",
   "metadata": {},
   "outputs": [
    {
     "name": "stdout",
     "output_type": "stream",
     "text": [
      "10\n",
      "11\n",
      "12\n",
      "13\n",
      "14\n",
      "15\n",
      "16\n",
      "17\n",
      "18\n",
      "19\n",
      "20\n"
     ]
    }
   ],
   "source": [
    "for i in range(10,21):\n",
    "    print(i)"
   ]
  },
  {
   "cell_type": "code",
   "execution_count": 18,
   "id": "17464057",
   "metadata": {},
   "outputs": [
    {
     "name": "stdout",
     "output_type": "stream",
     "text": [
      "11\n",
      "13\n",
      "15\n",
      "17\n",
      "19\n"
     ]
    }
   ],
   "source": [
    "for i in range(11,21,2):\n",
    "    print(i)"
   ]
  },
  {
   "cell_type": "code",
   "execution_count": 19,
   "id": "f3ee86b2",
   "metadata": {},
   "outputs": [
    {
     "data": {
      "text/plain": [
       "['Java', 'JavaScript', 'C', 'C++', 'PHP', 'Python', 'Kotlin']"
      ]
     },
     "execution_count": 19,
     "metadata": {},
     "output_type": "execute_result"
    }
   ],
   "source": [
    "languages=['Java','JavaScript','C','C++','PHP','Python','Kotlin']\n",
    "languages"
   ]
  },
  {
   "cell_type": "code",
   "execution_count": 21,
   "id": "4f2de3f4",
   "metadata": {},
   "outputs": [
    {
     "name": "stdout",
     "output_type": "stream",
     "text": [
      "0 Java\n",
      "1 JavaScript\n",
      "2 C\n",
      "3 C++\n",
      "4 PHP\n",
      "5 Python\n",
      "6 Kotlin\n"
     ]
    }
   ],
   "source": [
    "for i in range(len(languages)):\n",
    "    print(i,languages[i])"
   ]
  },
  {
   "cell_type": "code",
   "execution_count": 22,
   "id": "530a6098",
   "metadata": {},
   "outputs": [
    {
     "data": {
      "text/plain": [
       "['Java', 'JavaScript', 'C', 'C++', 'PHP', 'Python', 'Kotlin']"
      ]
     },
     "execution_count": 22,
     "metadata": {},
     "output_type": "execute_result"
    }
   ],
   "source": [
    "# Enumerations of the elements in the list\n",
    "\n",
    "languages"
   ]
  },
  {
   "cell_type": "code",
   "execution_count": 23,
   "id": "11f0b4d1",
   "metadata": {},
   "outputs": [
    {
     "name": "stdout",
     "output_type": "stream",
     "text": [
      "0 Java\n",
      "1 JavaScript\n",
      "2 C\n",
      "3 C++\n",
      "4 PHP\n",
      "5 Python\n",
      "6 Kotlin\n"
     ]
    }
   ],
   "source": [
    "for index,i in enumerate(languages):\n",
    "    print(index,i)"
   ]
  },
  {
   "cell_type": "code",
   "execution_count": 24,
   "id": "ee5411fc",
   "metadata": {},
   "outputs": [
    {
     "name": "stdout",
     "output_type": "stream",
     "text": [
      "-3\n",
      "-2\n",
      "-1\n",
      "0\n",
      "1\n",
      "2\n",
      "3\n",
      "4\n",
      "5\n",
      "6\n",
      "7\n",
      "8\n",
      "9\n",
      "10\n"
     ]
    }
   ],
   "source": [
    "for i in range(-3,11):\n",
    "    print(i)"
   ]
  },
  {
   "cell_type": "code",
   "execution_count": 28,
   "id": "de1ef3f0",
   "metadata": {},
   "outputs": [
    {
     "name": "stdout",
     "output_type": "stream",
     "text": [
      "Enter a number:19\n",
      "19X1=19\n",
      "19X2=38\n",
      "19X3=57\n",
      "19X4=76\n",
      "19X5=95\n",
      "19X6=114\n",
      "19X7=133\n",
      "19X8=152\n",
      "19X9=171\n",
      "19X10=190\n"
     ]
    }
   ],
   "source": [
    "number=int(input('Enter a number:'))\n",
    "\n",
    "for i in range(1,11):\n",
    "    print('%dX%d=%d'%(number,i,number*i))"
   ]
  },
  {
   "cell_type": "code",
   "execution_count": 4,
   "id": "484f2265",
   "metadata": {},
   "outputs": [
    {
     "name": "stdout",
     "output_type": "stream",
     "text": [
      "Sum of the list: 1680.06\n",
      "Average of the list: 240.00857142857143\n"
     ]
    }
   ],
   "source": [
    "nlis=[0.577,1.618,2.718,3.147,6,37,1629]\n",
    "\n",
    "count=0\n",
    "\n",
    "for i in nlis:\n",
    "    count+=i\n",
    "    \n",
    "print('Sum of the list:',count)\n",
    "print('Average of the list:',count/len(nlis))"
   ]
  },
  {
   "cell_type": "code",
   "execution_count": 10,
   "id": "e8ff8a12",
   "metadata": {},
   "outputs": [
    {
     "name": "stdout",
     "output_type": "stream",
     "text": [
      "1 2 3 4 5 6 These are numbers from 1 to 5\n"
     ]
    }
   ],
   "source": [
    "for i in range(1,7):\n",
    "    print(i,end=' ')\n",
    "else:\n",
    "    print('These are numbers from 1 to 5')"
   ]
  },
  {
   "cell_type": "markdown",
   "id": "23d4987a",
   "metadata": {},
   "source": [
    "# nested for loop\n",
    "\n",
    "\n"
   ]
  },
  {
   "cell_type": "code",
   "execution_count": 12,
   "id": "35d971cd",
   "metadata": {},
   "outputs": [
    {
     "name": "stdout",
     "output_type": "stream",
     "text": [
      "Enter a number:10\n",
      "\n",
      "+\n",
      "++\n",
      "+++\n",
      "++++\n",
      "+++++\n",
      "++++++\n",
      "+++++++\n",
      "++++++++\n",
      "+++++++++\n",
      "++++++++++"
     ]
    }
   ],
   "source": [
    "num=int(input('Enter a number:'))\n",
    "\n",
    "i,j=0,0\n",
    "\n",
    "for i in range(0,num):\n",
    "    print()\n",
    "    for j in range(0,i+1):\n",
    "        print('+',end='')"
   ]
  },
  {
   "cell_type": "markdown",
   "id": "18179cb9",
   "metadata": {},
   "source": [
    "# break"
   ]
  },
  {
   "cell_type": "code",
   "execution_count": 16,
   "id": "44b8a3e0",
   "metadata": {},
   "outputs": [
    {
     "name": "stdout",
     "output_type": "stream",
     "text": [
      "1 2 3 4 5 6 7 8 9 10 "
     ]
    }
   ],
   "source": [
    "nlis=[1,2,3,4,5,6,7,8,9,10,11,12,13,14]\n",
    "\n",
    "for i in nlis:\n",
    "    if i==11:\n",
    "        break\n",
    "    print(i,end=' ')"
   ]
  },
  {
   "cell_type": "markdown",
   "id": "88f7730e",
   "metadata": {},
   "source": [
    "# continue"
   ]
  },
  {
   "cell_type": "code",
   "execution_count": 17,
   "id": "1a1c6968",
   "metadata": {},
   "outputs": [
    {
     "name": "stdout",
     "output_type": "stream",
     "text": [
      "1 2 3 4 5 6 7 8 9 10 12 13 14 "
     ]
    }
   ],
   "source": [
    "nlis=[1,2,3,4,5,6,7,8,9,10,11,12,13,14]\n",
    "\n",
    "for i in nlis:\n",
    "    if i==11:\n",
    "        continue\n",
    "    print(i,end=' ')"
   ]
  },
  {
   "cell_type": "markdown",
   "id": "bf0e5451",
   "metadata": {},
   "source": [
    "#  While loop\n",
    "\n",
    " * __The while loop exists as a tool for repeated execution based on a condition. The code will keep being executed untill the given logical condition returns a False boolean value.__"
   ]
  },
  {
   "cell_type": "code",
   "execution_count": 18,
   "id": "56e7b7b0",
   "metadata": {},
   "outputs": [
    {
     "name": "stdout",
     "output_type": "stream",
     "text": [
      "20\n",
      "21\n",
      "22\n",
      "23\n",
      "24\n",
      "25\n",
      "26\n"
     ]
    }
   ],
   "source": [
    "i=20\n",
    "\n",
    "while i<27:\n",
    "    print(i)\n",
    "    i+=1"
   ]
  },
  {
   "cell_type": "code",
   "execution_count": 21,
   "id": "a799c17a",
   "metadata": {},
   "outputs": [
    {
     "name": "stdout",
     "output_type": "stream",
     "text": [
      "22\n",
      "21\n",
      "20\n",
      "19\n",
      "18\n",
      "17\n"
     ]
    }
   ],
   "source": [
    "i=22\n",
    "\n",
    "while i>=17:\n",
    "    print(i)\n",
    "    i-=1"
   ]
  },
  {
   "cell_type": "markdown",
   "id": "0dd0b43e",
   "metadata": {},
   "source": [
    "# while-else statement"
   ]
  },
  {
   "cell_type": "code",
   "execution_count": 22,
   "id": "291e9d07",
   "metadata": {},
   "outputs": [],
   "source": [
    "years=[2005,2006,2007,2008,2009,2010,2011,2012,2013]\n",
    "\n"
   ]
  },
  {
   "cell_type": "code",
   "execution_count": 24,
   "id": "7668700b",
   "metadata": {},
   "outputs": [
    {
     "name": "stdout",
     "output_type": "stream",
     "text": [
      "0 1 2 3 4 5 It gives us the numbers between 0 to 5\n"
     ]
    }
   ],
   "source": [
    "index=0\n",
    "while index<=5:\n",
    "    print(index,end=' ')\n",
    "    index+=1\n",
    "else:\n",
    "    print('It gives us the numbers between 0 to 5')"
   ]
  },
  {
   "cell_type": "markdown",
   "id": "9e9d6f9e",
   "metadata": {},
   "source": [
    "# break in while loop"
   ]
  },
  {
   "cell_type": "code",
   "execution_count": 3,
   "id": "1c11a700",
   "metadata": {},
   "outputs": [
    {
     "name": "stdout",
     "output_type": "stream",
     "text": [
      "0\n",
      "1\n",
      "2\n",
      "3\n",
      "4\n",
      "5\n",
      "6\n"
     ]
    }
   ],
   "source": [
    "i = 0\n",
    "\n",
    "while i<=10:\n",
    "    print(i)\n",
    "    i+=1\n",
    "    if i==7:\n",
    "        break"
   ]
  },
  {
   "cell_type": "markdown",
   "id": "9c515caf",
   "metadata": {},
   "source": [
    "# continue in while loop"
   ]
  },
  {
   "cell_type": "code",
   "execution_count": 4,
   "id": "adf8453d",
   "metadata": {},
   "outputs": [
    {
     "name": "stdout",
     "output_type": "stream",
     "text": [
      "0\n",
      "1\n",
      "2\n",
      "3\n",
      "4\n",
      "5\n",
      "6\n",
      "7\n",
      "8\n",
      "9\n",
      "10\n"
     ]
    }
   ],
   "source": [
    "i = 0\n",
    "\n",
    "while i<=10:\n",
    "    print(i)\n",
    "    i+=1\n",
    "    if i==7:\n",
    "        continue"
   ]
  },
  {
   "cell_type": "code",
   "execution_count": 5,
   "id": "238a2f4e",
   "metadata": {},
   "outputs": [
    {
     "name": "stdout",
     "output_type": "stream",
     "text": [
      "Enter any number:11\n",
      "11 X 1 = 11\n",
      "11 X 2 = 22\n",
      "11 X 3 = 33\n",
      "11 X 4 = 44\n",
      "11 X 5 = 55\n",
      "11 X 6 = 66\n",
      "11 X 7 = 77\n",
      "11 X 8 = 88\n",
      "11 X 9 = 99\n",
      "11 X 10 = 110\n"
     ]
    }
   ],
   "source": [
    "# write a table using while loop\n",
    "\n",
    "a=int(input('Enter any number:'))\n",
    "\n",
    "i=1\n",
    "\n",
    "while i<11:\n",
    "    print(a,'X',i,'=',a*i)\n",
    "    i+=1"
   ]
  },
  {
   "cell_type": "code",
   "execution_count": 6,
   "id": "35d89694",
   "metadata": {},
   "outputs": [
    {
     "name": "stdout",
     "output_type": "stream",
     "text": [
      "Enter any number:41\n",
      "41 X 1 = 41\n",
      "41 X 2 = 82\n",
      "41 X 3 = 123\n",
      "41 X 4 = 164\n",
      "41 X 5 = 205\n",
      "41 X 6 = 246\n",
      "41 X 7 = 287\n",
      "41 X 8 = 328\n",
      "41 X 9 = 369\n",
      "41 X 10 = 410\n"
     ]
    }
   ],
   "source": [
    "a=int(input('Enter any number:'))\n",
    "\n",
    "i=1\n",
    "\n",
    "while i<11:\n",
    "    print('%d X %d = %d'%(a,i,a*i))\n",
    "    i+=1"
   ]
  },
  {
   "cell_type": "code",
   "execution_count": 7,
   "id": "0e9a967d",
   "metadata": {},
   "outputs": [],
   "source": [
    "# Write a program to print even number 0 to 50 using for loop.\n",
    "# Write a program to calculate the sum of all numbers from 1 to 10.\n",
    "\n",
    "\n"
   ]
  },
  {
   "cell_type": "code",
   "execution_count": 10,
   "id": "f36f9dc0",
   "metadata": {},
   "outputs": [
    {
     "name": "stdout",
     "output_type": "stream",
     "text": [
      "55\n"
     ]
    }
   ],
   "source": [
    "# Write a program to calculate the sum of all numbers from 1 to 10.\n",
    "\n",
    "sum=0\n",
    "\n",
    "for i in range(1,11):\n",
    "    sum+=i\n",
    "print(sum)"
   ]
  },
  {
   "cell_type": "code",
   "execution_count": 14,
   "id": "986ac1a0",
   "metadata": {},
   "outputs": [
    {
     "name": "stdout",
     "output_type": "stream",
     "text": [
      "2\n",
      "4\n",
      "6\n",
      "8\n",
      "10\n",
      "12\n",
      "14\n",
      "16\n",
      "18\n",
      "20\n",
      "22\n",
      "24\n",
      "26\n",
      "28\n",
      "30\n",
      "32\n",
      "34\n",
      "36\n",
      "38\n",
      "40\n",
      "42\n",
      "44\n",
      "46\n",
      "48\n",
      "50\n"
     ]
    }
   ],
   "source": [
    "# Write a program to print even number 0 to 50 using for loop.\n",
    "\n",
    "for i in range(2,51,2):\n",
    "    print(i)"
   ]
  },
  {
   "cell_type": "code",
   "execution_count": 15,
   "id": "b7b97d61",
   "metadata": {},
   "outputs": [
    {
     "name": "stdout",
     "output_type": "stream",
     "text": [
      "1 is an odd number\n",
      "2 is an even number\n",
      "3 is an odd number\n",
      "4 is an even number\n",
      "5 is an odd number\n",
      "67 is an odd number\n",
      "50 is an even number\n",
      "100 is an even number\n",
      "2002 is an even number\n",
      "168 is an even number\n",
      "597 is an odd number\n",
      "256 is an even number\n",
      "300 is an even number\n"
     ]
    }
   ],
   "source": [
    "# Write a program to count the number of even or odd number from the series [1,2,3,4,5,67,50,100,2002,168,597,256,300].\n",
    "\n",
    "\n",
    "nums=[1,2,3,4,5,67,50,100,2002,168,597,256,300]\n",
    "\n",
    "for i in nums:\n",
    "    if i%2==0:\n",
    "        print(i,'is an even number')\n",
    "    else:\n",
    "        print(i,'is an odd number')"
   ]
  },
  {
   "cell_type": "code",
   "execution_count": 18,
   "id": "0f3ab9ac",
   "metadata": {},
   "outputs": [
    {
     "name": "stdout",
     "output_type": "stream",
     "text": [
      "Sum of first 20 even numbers is 110\n"
     ]
    }
   ],
   "source": [
    "# write a program to print the sum of first 20 even numbers using while loop.\n",
    "\n",
    "\n",
    "i=0\n",
    "sum=0\n",
    "\n",
    "while(i<=20):\n",
    "    if i%2==0:\n",
    "        sum+=i\n",
    "    i+=1\n",
    "print('Sum of first 20 even numbers is',sum)"
   ]
  },
  {
   "cell_type": "code",
   "execution_count": 19,
   "id": "7e529d57",
   "metadata": {},
   "outputs": [
    {
     "name": "stdout",
     "output_type": "stream",
     "text": [
      "Enter first range:10\n",
      "Enter second range:20\n",
      "10\n",
      "12\n",
      "14\n",
      "16\n",
      "18\n",
      "20\n"
     ]
    }
   ],
   "source": [
    "# Write a program to print all even numbers that falls between two numbers.\n",
    "\n",
    "\n",
    "i=int(input('Enter first range:'))\n",
    "j=int(input('Enter second range:'))\n",
    "\n",
    "while (i<j+1):\n",
    "    if i%2==0:\n",
    "        print(i)\n",
    "    i+=1"
   ]
  },
  {
   "cell_type": "code",
   "execution_count": 25,
   "id": "1a317018",
   "metadata": {},
   "outputs": [
    {
     "name": "stdout",
     "output_type": "stream",
     "text": [
      "Enter any number:56545616165165411\n",
      "Five Six Five Four Five Six One Six One Six Five One Six Five Four One One "
     ]
    }
   ],
   "source": [
    "# Write a program to display the number of names of the digits of a number.\n",
    "# Ex: 231 then output should be TWO THREE ONE.\n",
    "\n",
    "\n",
    "num1=input('Enter any number:')\n",
    "\n",
    "l1=list(num1)\n",
    "\n",
    "l=len(l1)\n",
    "\n",
    "i=0\n",
    "\n",
    "n={0:'Zero',1:'One',2:'Two',3:'Three',4:'Four',5:'Five',6:'Six',7:'Seven',8:'Eight',9:'Nine'}\n",
    "\n",
    "while (i<l):\n",
    "    print(n[int(l1[i])],end=' ')\n",
    "    i=i+1"
   ]
  },
  {
   "cell_type": "code",
   "execution_count": null,
   "id": "cf26e0d3",
   "metadata": {},
   "outputs": [],
   "source": []
  }
 ],
 "metadata": {
  "kernelspec": {
   "display_name": "Python 3 (ipykernel)",
   "language": "python",
   "name": "python3"
  },
  "language_info": {
   "codemirror_mode": {
    "name": "ipython",
    "version": 3
   },
   "file_extension": ".py",
   "mimetype": "text/x-python",
   "name": "python",
   "nbconvert_exporter": "python",
   "pygments_lexer": "ipython3",
   "version": "3.9.13"
  }
 },
 "nbformat": 4,
 "nbformat_minor": 5
}
