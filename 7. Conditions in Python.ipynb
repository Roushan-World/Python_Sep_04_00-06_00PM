{
 "cells": [
  {
   "cell_type": "markdown",
   "id": "5dd2ca8c",
   "metadata": {},
   "source": [
    "# 7. Conditions in Python\n",
    "\n",
    " * __Comparison operations compare some value or operand and based on a condition, produce a Boolean. Python has six comparison operators as below:__\n",
    " \n",
    "   * __Less than(<)__\n",
    "   * __Less than or equal to(<=)__\n",
    "   * __Greater than (>)__\n",
    "   * __Greater than or equal to(>=)__\n",
    "   * __Equal to(==)__\n",
    "   * __Not equal to (!=)__\n",
    "   \n",
    "   \n",
    "# Branching (if,elif,else)\n",
    " * __Decision making is required when we want to execute a code only if a certain condition is satisfied.__\n",
    " * __The if/elif/else statement is used in python for decision making.__\n",
    " * __An else statement can be combined with an if statement.__\n",
    " * __An else statement contains the block of code that executes if the conditional expression in the if statement resolves to 0 or a False value.__\n",
    " * __The else statement is an optional statement and there could dbe at most only one else statement following if.__\n",
    " * __The elif statement allows you to check multiple expressions for True and execute a block of code as soon as one of the conditions evaluates to True.__\n",
    " * __Similar to the else, the elif statement is optional.__\n",
    " * __However, unlike else, for which there can be at most one statement, there can be arbitrary number of elif statement following an if.__"
   ]
  },
  {
   "cell_type": "code",
   "execution_count": 1,
   "id": "5085950e",
   "metadata": {},
   "outputs": [],
   "source": [
    "import plotly.io as pio\n",
    "pio.renderers.default='notebook'"
   ]
  },
  {
   "cell_type": "code",
   "execution_count": 2,
   "id": "ec6327d7",
   "metadata": {},
   "outputs": [
    {
     "data": {
      "text/html": [
       "<img src=\"if_elif_else.jpeg\" width=\"300\" height=\"300\"/>"
      ],
      "text/plain": [
       "<IPython.core.display.Image object>"
      ]
     },
     "execution_count": 2,
     "metadata": {},
     "output_type": "execute_result"
    }
   ],
   "source": [
    "# import image module\n",
    "from IPython.display import Image\n",
    "  \n",
    "# get the image\n",
    "Image(url=\"if_elif_else.jpeg\", width=300, height=300)"
   ]
  },
  {
   "cell_type": "code",
   "execution_count": 11,
   "id": "b493eb8b",
   "metadata": {},
   "outputs": [
    {
     "name": "stdout",
     "output_type": "stream",
     "text": [
      "The number 1.618 is lower than the ratio 3.147\n"
     ]
    }
   ],
   "source": [
    "pi=3.147\n",
    "ratio=1.618\n",
    "\n",
    "if pi<ratio:\n",
    "    print(f'The number {pi} is greater than the ratio {ratio}')\n",
    "else:\n",
    "    print(f'The number {ratio} is lower than the ratio {pi}')"
   ]
  },
  {
   "cell_type": "code",
   "execution_count": 17,
   "id": "679b748a",
   "metadata": {},
   "outputs": [
    {
     "name": "stdout",
     "output_type": "stream",
     "text": [
      "You can go to kindergarten\n"
     ]
    }
   ],
   "source": [
    "age=5\n",
    "\n",
    "if age>6:\n",
    "    print('You can go to primary school')\n",
    "    \n",
    "elif age==5:\n",
    "    print('You can go to kindergarten')\n",
    "else:\n",
    "    print('You are a baby')"
   ]
  },
  {
   "cell_type": "code",
   "execution_count": 26,
   "id": "1e9151d6",
   "metadata": {},
   "outputs": [
    {
     "name": "stdout",
     "output_type": "stream",
     "text": [
      "Enter your baby age4\n",
      "You are a baby\n"
     ]
    }
   ],
   "source": [
    "age=int(input('Enter your baby age'))\n",
    "\n",
    "if age>6:\n",
    "    print('You can go to primary school')\n",
    "    \n",
    "elif age==5:\n",
    "    print('You can go to kindergarten')\n",
    "else:\n",
    "    print('You are a baby')"
   ]
  },
  {
   "cell_type": "code",
   "execution_count": 6,
   "id": "27fb98a4",
   "metadata": {},
   "outputs": [
    {
     "name": "stdout",
     "output_type": "stream",
     "text": [
      "Enter the weekdays number:\n",
      "8\n",
      "Day Not Found\n"
     ]
    }
   ],
   "source": [
    "# Write a program to display you are elegible for voting or not.\n",
    "\n",
    "\n",
    "days=int(input('Enter the weekdays number:\\n'))\n",
    "\n",
    "\n",
    "if days==1:\n",
    "    print('SUNDAY')\n",
    "elif days==2:\n",
    "    print('MONDAY')\n",
    "elif days==3:\n",
    "    print('TUESDDAY')\n",
    "elif days==4:\n",
    "    print('WEDNESDAY')\n",
    "elif days==5:\n",
    "    print('THURSDAY')\n",
    "elif days==6:\n",
    "    print('FRIDAY')\n",
    "elif days==7:\n",
    "    print('SATURDAY')\n",
    "else:\n",
    "    print('Day Not Found')"
   ]
  },
  {
   "cell_type": "code",
   "execution_count": 1,
   "id": "042a6acb",
   "metadata": {},
   "outputs": [
    {
     "name": "stdout",
     "output_type": "stream",
     "text": [
      "Enter first person's age52\n",
      "Enter second person's age53\n",
      "Enter third person's age55\n",
      "55 is greater than 52 and 53\n"
     ]
    }
   ],
   "source": [
    "# write a program to find the greatest amoung the three people accordint to their age.\n",
    "\n",
    "\n",
    "x=int(input(\"Enter first person's age\"))\n",
    "y=int(input(\"Enter second person's age\"))\n",
    "z=int(input(\"Enter third person's age\"))\n",
    "\n",
    "if x>y and x>z:\n",
    "    print(f'{x} is greater than {y} and {z}')\n",
    "elif y>z and y>x:\n",
    "    print(f'{y} is greater than {z} and{x}')\n",
    "elif z>x and z>y:\n",
    "    print(f'{z} is greater than {x} and {y}')"
   ]
  },
  {
   "cell_type": "code",
   "execution_count": 3,
   "id": "2157e5ba",
   "metadata": {},
   "outputs": [
    {
     "name": "stdout",
     "output_type": "stream",
     "text": [
      "Enter first person's age5\n",
      "Enter second person's age6\n",
      "Enter third person's age3\n",
      "Enter fourth person's age2\n",
      "6 is greater than 3 and 2 and 5\n"
     ]
    }
   ],
   "source": [
    "# Accept the age of 4 people and display the oldest one.\n",
    "p=int(input(\"Enter first person's age\"))\n",
    "q=int(input(\"Enter second person's age\"))\n",
    "r=int(input(\"Enter third person's age\"))\n",
    "s=int(input(\"Enter fourth person's age\"))\n",
    "\n",
    "if p>q and p>r and p>s:\n",
    "    print(f'{p} is greater than {q} and {r} and {s}')\n",
    "elif q>r and q>s and q>p:\n",
    "    print(f'{q} is greater than {r} and {s} and {p}')\n",
    "elif r>s and r>p and r>q:\n",
    "    print(f'{r} is greater than {q} and {p} and {s}')\n",
    "elif s>p and s>q and s>r:\n",
    "    print(f'{s} is greater than {p} and {q} and {r}')"
   ]
  },
  {
   "cell_type": "code",
   "execution_count": 13,
   "id": "75edb4c3",
   "metadata": {},
   "outputs": [
    {
     "name": "stdout",
     "output_type": "stream",
     "text": [
      "Enter you marks50\n",
      "B\n"
     ]
    }
   ],
   "source": [
    "# Accept the percentage from the user and display the grade according to the following criteria:\n",
    "# Below 25 -------------------- \"D\"\n",
    "# 25 to 45 -------------------- \"C\"\n",
    "# 46 to 50 -------------------- \"B\"\n",
    "# 51 to 80 -------------------- \"A\"\n",
    "# Above 80 -------------------- \"A+\"\n",
    "\n",
    "marks=int(input('Enter you marks' ))\n",
    "if marks<=25:\n",
    "    print('D')\n",
    "elif marks>25 and marks<=45:\n",
    "    print('C')\n",
    "elif marks>45 and marks<=50:\n",
    "    print('B')\n",
    "elif marks>50 and marks<=80:\n",
    "    print('A')\n",
    "else:\n",
    "    print('A+')"
   ]
  },
  {
   "cell_type": "code",
   "execution_count": 19,
   "id": "e31a4928",
   "metadata": {},
   "outputs": [
    {
     "name": "stdout",
     "output_type": "stream",
     "text": [
      "Enter any number:\n",
      "7\n",
      "The number 7 is not divisible by both 2 and 3\n"
     ]
    }
   ],
   "source": [
    "# write a program to check a number is divisible by 2 and 3 both.\n",
    "\n",
    "num=int(input('Enter any number:\\n'))\n",
    "\n",
    "\n",
    "if num%2==0 and num%3==0:\n",
    "    print(f'The number {num} is divisible by both 2 and 3.')\n",
    "elif num%2==0 and num%3!=0:\n",
    "    print(f'The number {num} is divisible by only 2 not 3.')\n",
    "elif num%2!=0 and num%3==0:\n",
    "    print(f'The number {num} is divisible by only 3 not 2')\n",
    "else:\n",
    "    print(f'The number {num} is not divisible by both 2 and 3')"
   ]
  },
  {
   "cell_type": "code",
   "execution_count": 21,
   "id": "edb692c9",
   "metadata": {},
   "outputs": [
    {
     "name": "stdout",
     "output_type": "stream",
     "text": [
      "Enter your number30\n",
      "Your Number is Divisible by 3,5 and 7\n"
     ]
    }
   ],
   "source": [
    "# Write a program to check the number is divisible by 3,5 and 7.\n",
    "num=int(input('Enter your number'))\n",
    "\n",
    "if num%3==0 and num%5==0 and num%7:\n",
    "    print(\"Your Number is Divisible by 3,5 and 7\")\n",
    "elif num%3==0 and n%5==0 and num%7!=0:\n",
    "    print(\"your number is divisible by 3,5 but not by 7\")\n",
    "elif num%3==0 and num%5!=0 and num%7!=0:\n",
    "    print(\"your number is divisible by 3 but not by 5 and 7\")\n",
    "elif num%3!=0 and num%5==0 and num%7==0:\n",
    "    print(\"your number is divisible by 5 and 7 but not by 3\")\n",
    "elif num%3!=0 and num%5!=0 and num%7==0:\n",
    "    print(\"your number is divisible by 7 but not by 3 and 5\")\n",
    "elif num%3!=0 and num%5==0 and num%7!=0:\n",
    "    print(\"your number is divisible by 5 but not by 3 and 7\")\n",
    "else:\n",
    "    print(\"your number is not divisible by 3,5 and 7\")"
   ]
  },
  {
   "cell_type": "code",
   "execution_count": null,
   "id": "6d794847",
   "metadata": {},
   "outputs": [],
   "source": []
  }
 ],
 "metadata": {
  "kernelspec": {
   "display_name": "Python 3 (ipykernel)",
   "language": "python",
   "name": "python3"
  },
  "language_info": {
   "codemirror_mode": {
    "name": "ipython",
    "version": 3
   },
   "file_extension": ".py",
   "mimetype": "text/x-python",
   "name": "python",
   "nbconvert_exporter": "python",
   "pygments_lexer": "ipython3",
   "version": "3.9.13"
  }
 },
 "nbformat": 4,
 "nbformat_minor": 5
}
