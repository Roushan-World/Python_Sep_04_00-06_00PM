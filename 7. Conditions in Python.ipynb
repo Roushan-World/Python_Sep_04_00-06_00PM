{
 "cells": [
  {
   "cell_type": "markdown",
   "id": "5dd2ca8c",
   "metadata": {},
   "source": [
    "# 7. Conditions in Python\n",
    "\n",
    " * __Comparison operations compare some value or operand and based on a condition, produce a Boolean. Python has six comparison operators as below:__\n",
    " \n",
    "   * __Less than(<)__\n",
    "   * __Less than or equal to(<=)__\n",
    "   * __Greater than (>)__\n",
    "   * __Greater than or equal to(>=)__\n",
    "   * __Equal to(==)__\n",
    "   * __Not equal to (!=)__\n",
    "   \n",
    "   \n",
    "# Branching (if,elif,else)\n",
    " * __Decision making is required when we want to execute a code only if a certain condition is satisfied.__\n",
    " * __The if/elif/else statement is used in python for decision making.__\n",
    " * __An else statement can be combined with an if statement.__\n",
    " * __An else statement contains the block of code that executes if the conditional expression in the if statement resolves to 0 or a False value.__\n",
    " * __The else statement is an optional statement and there could dbe at most only one else statement following if.__\n",
    " * __The elif statement allows you to check multiple expressions for True and execute a block of code as soon as one of the conditions evaluates to True.__\n",
    " * __Similar to the else, the elif statement is optional.__\n",
    " * __However, unlike else, for which there can be at most one statement, there can be arbitrary number of elif statement following an if.__"
   ]
  },
  {
   "cell_type": "code",
   "execution_count": 1,
   "id": "5085950e",
   "metadata": {},
   "outputs": [],
   "source": [
    "import plotly.io as pio\n",
    "pio.renderers.default='notebook'"
   ]
  },
  {
   "cell_type": "code",
   "execution_count": 2,
   "id": "ec6327d7",
   "metadata": {},
   "outputs": [
    {
     "data": {
      "text/html": [
       "<img src=\"if_elif_else.jpeg\" width=\"300\" height=\"300\"/>"
      ],
      "text/plain": [
       "<IPython.core.display.Image object>"
      ]
     },
     "execution_count": 2,
     "metadata": {},
     "output_type": "execute_result"
    }
   ],
   "source": [
    "# import image module\n",
    "from IPython.display import Image\n",
    "  \n",
    "# get the image\n",
    "Image(url=\"if_elif_else.jpeg\", width=300, height=300)"
   ]
  },
  {
   "cell_type": "code",
   "execution_count": 11,
   "id": "b493eb8b",
   "metadata": {},
   "outputs": [
    {
     "name": "stdout",
     "output_type": "stream",
     "text": [
      "The number 1.618 is lower than the ratio 3.147\n"
     ]
    }
   ],
   "source": [
    "pi=3.147\n",
    "ratio=1.618\n",
    "\n",
    "if pi<ratio:\n",
    "    print(f'The number {pi} is greater than the ratio {ratio}')\n",
    "else:\n",
    "    print(f'The number {ratio} is lower than the ratio {pi}')"
   ]
  },
  {
   "cell_type": "code",
   "execution_count": 17,
   "id": "679b748a",
   "metadata": {},
   "outputs": [
    {
     "name": "stdout",
     "output_type": "stream",
     "text": [
      "You can go to kindergarten\n"
     ]
    }
   ],
   "source": [
    "age=5\n",
    "\n",
    "if age>6:\n",
    "    print('You can go to primary school')\n",
    "    \n",
    "elif age==5:\n",
    "    print('You can go to kindergarten')\n",
    "else:\n",
    "    print('You are a baby')"
   ]
  },
  {
   "cell_type": "code",
   "execution_count": 26,
   "id": "1e9151d6",
   "metadata": {},
   "outputs": [
    {
     "name": "stdout",
     "output_type": "stream",
     "text": [
      "Enter your baby age4\n",
      "You are a baby\n"
     ]
    }
   ],
   "source": [
    "age=int(input('Enter your baby age'))\n",
    "\n",
    "if age>6:\n",
    "    print('You can go to primary school')\n",
    "    \n",
    "elif age==5:\n",
    "    print('You can go to kindergarten')\n",
    "else:\n",
    "    print('You are a baby')"
   ]
  },
  {
   "cell_type": "code",
   "execution_count": 6,
   "id": "27fb98a4",
   "metadata": {},
   "outputs": [
    {
     "name": "stdout",
     "output_type": "stream",
     "text": [
      "Enter the weekdays number:\n",
      "8\n",
      "Day Not Found\n"
     ]
    }
   ],
   "source": [
    "# Write a program to display you are elegible for voting or not.\n",
    "\n",
    "\n",
    "days=int(input('Enter the weekdays number:\\n'))\n",
    "\n",
    "\n",
    "if days==1:\n",
    "    print('SUNDAY')\n",
    "elif days==2:\n",
    "    print('MONDAY')\n",
    "elif days==3:\n",
    "    print('TUESDDAY')\n",
    "elif days==4:\n",
    "    print('WEDNESDAY')\n",
    "elif days==5:\n",
    "    print('THURSDAY')\n",
    "elif days==6:\n",
    "    print('FRIDAY')\n",
    "elif days==7:\n",
    "    print('SATURDAY')\n",
    "else:\n",
    "    print('Day Not Found')"
   ]
  },
  {
   "cell_type": "code",
   "execution_count": 1,
   "id": "042a6acb",
   "metadata": {},
   "outputs": [
    {
     "name": "stdout",
     "output_type": "stream",
     "text": [
      "Enter first person's age52\n",
      "Enter second person's age53\n",
      "Enter third person's age55\n",
      "55 is greater than 52 and 53\n"
     ]
    }
   ],
   "source": [
    "# write a program to find the greatest amoung the three people accordint to their age.\n",
    "\n",
    "\n",
    "x=int(input(\"Enter first person's age\"))\n",
    "y=int(input(\"Enter second person's age\"))\n",
    "z=int(input(\"Enter third person's age\"))\n",
    "\n",
    "if x>y and x>z:\n",
    "    print(f'{x} is greater than {y} and {z}')\n",
    "elif y>z and y>x:\n",
    "    print(f'{y} is greater than {z} and{x}')\n",
    "elif z>x and z>y:\n",
    "    print(f'{z} is greater than {x} and {y}')"
   ]
  },
  {
   "cell_type": "code",
   "execution_count": 3,
   "id": "62d2682b",
   "metadata": {},
   "outputs": [
    {
     "name": "stdout",
     "output_type": "stream",
     "text": [
      "Enter first person's age5\n",
      "Enter second person's age6\n",
      "Enter third person's age3\n",
      "Enter fourth person's age2\n",
      "6 is greater than 3 and 2 and 5\n"
     ]
    }
   ],
   "source": [
    "# Accept the age of 4 people and display the oldest one.\n",
    "p=int(input(\"Enter first person's age\"))\n",
    "q=int(input(\"Enter second person's age\"))\n",
    "r=int(input(\"Enter third person's age\"))\n",
    "s=int(input(\"Enter fourth person's age\"))\n",
    "\n",
    "if p>q and p>r and p>s:\n",
    "    print(f'{p} is greater than {q} and {r} and {s}')\n",
    "elif q>r and q>s and q>p:\n",
    "    print(f'{q} is greater than {r} and {s} and {p}')\n",
    "elif r>s and r>p and r>q:\n",
    "    print(f'{r} is greater than {q} and {p} and {s}')\n",
    "elif s>p and s>q and s>r:\n",
    "    print(f'{s} is greater than {p} and {q} and {r}')"
   ]
  },
  {
   "cell_type": "code",
   "execution_count": 13,
   "id": "0a03f284",
   "metadata": {},
   "outputs": [
    {
     "name": "stdout",
     "output_type": "stream",
     "text": [
      "Enter you marks50\n",
      "B\n"
     ]
    }
   ],
   "source": [
    "# Accept the percentage from the user and display the grade according to the following criteria:\n",
    "# Below 25 -------------------- \"D\"\n",
    "# 25 to 45 -------------------- \"C\"\n",
    "# 46 to 50 -------------------- \"B\"\n",
    "# 51 to 80 -------------------- \"A\"\n",
    "# Above 80 -------------------- \"A+\"\n",
    "\n",
    "marks=int(input('Enter you marks' ))\n",
    "if marks<=25:\n",
    "    print('D')\n",
    "elif marks>25 and marks<=45:\n",
    "    print('C')\n",
    "elif marks>45 and marks<=50:\n",
    "    print('B')\n",
    "elif marks>50 and marks<=80:\n",
    "    print('A')\n",
    "else:\n",
    "    print('A+')"
   ]
  },
  {
   "cell_type": "code",
   "execution_count": 19,
   "id": "1c5e6b3d",
   "metadata": {},
   "outputs": [
    {
     "name": "stdout",
     "output_type": "stream",
     "text": [
      "Enter any number:\n",
      "7\n",
      "The number 7 is not divisible by both 2 and 3\n"
     ]
    }
   ],
   "source": [
    "# write a program to check a number is divisible by 2 and 3 both.\n",
    "\n",
    "num=int(input('Enter any number:\\n'))\n",
    "\n",
    "\n",
    "if num%2==0 and num%3==0:\n",
    "    print(f'The number {num} is divisible by both 2 and 3.')\n",
    "elif num%2==0 and num%3!=0:\n",
    "    print(f'The number {num} is divisible by only 2 not 3.')\n",
    "elif num%2!=0 and num%3==0:\n",
    "    print(f'The number {num} is divisible by only 3 not 2')\n",
    "else:\n",
    "    print(f'The number {num} is not divisible by both 2 and 3')"
   ]
  },
  {
   "cell_type": "code",
   "execution_count": 21,
   "id": "4b1a9467",
   "metadata": {},
   "outputs": [
    {
     "name": "stdout",
     "output_type": "stream",
     "text": [
      "Enter your number30\n",
      "Your Number is Divisible by 3,5 and 7\n"
     ]
    }
   ],
   "source": [
    "# Write a program to check the number is divisible by 3,5 and 7.\n",
    "num=int(input('Enter your number'))\n",
    "\n",
    "if num%3==0 and num%5==0 and num%7:\n",
    "    print(\"Your Number is Divisible by 3,5 and 7\")\n",
    "elif num%3==0 and n%5==0 and num%7!=0:\n",
    "    print(\"your number is divisible by 3,5 but not by 7\")\n",
    "elif num%3==0 and num%5!=0 and num%7!=0:\n",
    "    print(\"your number is divisible by 3 but not by 5 and 7\")\n",
    "elif num%3!=0 and num%5==0 and num%7==0:\n",
    "    print(\"your number is divisible by 5 and 7 but not by 3\")\n",
    "elif num%3!=0 and num%5!=0 and num%7==0:\n",
    "    print(\"your number is divisible by 7 but not by 3 and 5\")\n",
    "elif num%3!=0 and num%5==0 and num%7!=0:\n",
    "    print(\"your number is divisible by 5 but not by 3 and 7\")\n",
    "else:\n",
    "    print(\"your number is not divisible by 3,5 and 7\")"
   ]
  },
  {
   "cell_type": "code",
   "execution_count": 23,
   "id": "06852cbc",
   "metadata": {},
   "outputs": [
    {
     "name": "stdout",
     "output_type": "stream",
     "text": [
      "Enter a Number 21\n",
      "The Number 21 is Divisible by 3 and 7 but not by 5\n"
     ]
    }
   ],
   "source": [
    "num=int(input(\"Enter a Number \"))\n",
    "\n",
    "if num%3==0 and num%5==0 and num%7==0:\n",
    "    print(f\"The Number {num} is Divisible by 3,5 and 7\")\n",
    "elif num%3==0 and num%5!=0 and num%7!=0:\n",
    "    print(f\"The Number {num} is Divisible by 3 but not by 5 and 7\")\n",
    "elif num%3!=0 and num%5==0 and num%7!=0:\n",
    "    print(f\"The Number {num} is Divisible by 5 but not by 3 and 7\")\n",
    "elif num%3!=0 and num%5!=0 and num%7==0:\n",
    "    print(f\"The Number {num} is Divisible by 7 but not by 5 and 3\")\n",
    "elif num%3==0 and num%5==0 and num%7!=0:\n",
    "     print(f\"The Number {num} is Divisible by 3 and 5 but not by 7\")\n",
    "elif num%3!=0 and num%5==0 and num%7!=0:\n",
    "     print(f\"The Number {num} is Divisible by 5 and 7 but not by 3\")\n",
    "elif num%3==0 and num%5!=0 and num%7==0:\n",
    "     print(f\"The Number {num} is Divisible by 3 and 7 but not by 5\")\n",
    "else:\n",
    "    print(f\"The Number is not Divisvible by 3,5 and 7\")"
   ]
  },
  {
   "cell_type": "code",
   "execution_count": 26,
   "id": "a0924693",
   "metadata": {},
   "outputs": [
    {
     "name": "stdout",
     "output_type": "stream",
     "text": [
      "Enter the number of units:300\n",
      "You can pay only 300-100=200,10 rupees Per unit Total Charges: 2500,rs.\n"
     ]
    }
   ],
   "source": [
    "# Write a program to calculate a electric bill(accept a number of unit from the user) according to the following criteria:\n",
    "\n",
    "# unit--------------------- Charges\n",
    "\n",
    "# first 100 unit------------ \"No Charges\"\n",
    "# Next 100 Units ------------- \"5 rs. per unit\"\n",
    "# After 200 unit -------------- \" 10 rs. per unit\"\n",
    "\n",
    "\n",
    "# Example:\n",
    "# First 100 units-----------------> User 100 cost 0\n",
    "# Next 100 units -----------------> use 100 cost 500\n",
    "# After 200 units ----------------> 150 cost 250\n",
    "# total paid --------------------->  If above 200 units add 500 extra amount.\n",
    "\n",
    "\n",
    "unit=int(input('Enter the number of units:'))\n",
    "x=unit-100\n",
    "if unit>0:\n",
    "    if unit>0 and unit<=100:\n",
    "        print('No Charges:')\n",
    "    elif unit>100 and unit<=200:\n",
    "        rupees=5\n",
    "        y=x*rupees\n",
    "        print(f'You Can pay only {unit}-100={x},{rupees} rupees Per Units Total Charges :{y},rs.')\n",
    "    elif unit>200:\n",
    "        rup=10\n",
    "        y1=x*rup+500\n",
    "        print(f'You can pay only {unit}-100={x},{rup} rupees Per unit Total Charges: {y1},rs.')\n",
    "else:\n",
    "    print('Invalid User Input')"
   ]
  },
  {
   "cell_type": "code",
   "execution_count": 36,
   "id": "f96580c1",
   "metadata": {},
   "outputs": [
    {
     "name": "stdout",
     "output_type": "stream",
     "text": [
      "Enter your salary5000\n",
      "Enter your Years of Services.5\n",
      "Salary: 5000 \n",
      "Bonus: 5% \n",
      "Total Salary: 5250.0\n"
     ]
    }
   ],
   "source": [
    "# A company decided to give the bonus to the employee according to the following Criteria:\n",
    "# Time Period of the Service --------------------> \"Bonus\"\n",
    "# More than 10 Years ----------------------------> \"10%\"\n",
    "# >=6 Years and <=10 years ----------------------> \" 8%\"\n",
    "# <6 Years --------------------------------------> \"5%\"\n",
    "\n",
    "# Ask the user for their salary and year of services and print the increment of net bonus salary. \n",
    "\n",
    "\n",
    "sal=int(input('Enter your salary'))\n",
    "year=int(input('Enter your Years of Services.'))\n",
    "\n",
    "if year>0 and sal>0:\n",
    "    if year>10:\n",
    "        print(\"Salary:\",sal,\"\\nBonus: 10% \\nTotal Salary:\",sal+sal*10/100)\n",
    "    elif year>=6 and year<=10:\n",
    "        print(\"Salary:\",sal,\"\\nBonus: 8% \\nTotal Salary:\",sal+sal*8/100)\n",
    "    else:\n",
    "        print(\"Salary:\",sal,\"\\nBonus: 5% \\nTotal Salary:\",sal+sal*5/100)\n",
    "else:\n",
    "    print('Error: Invalid Salary and Year of Services.')"
   ]
  },
  {
   "cell_type": "code",
   "execution_count": 42,
   "id": "36f0d1cf",
   "metadata": {},
   "outputs": [
    {
     "name": "stdout",
     "output_type": "stream",
     "text": [
      "Choose Your city:\n",
      "1.Delhi,2.Agra,3.Jaipur,4.Amritsar,5.Madurai,6.Mysore,7.Mumbai,8.Sanchi,9.Hydrabad\n",
      "Enter City name: \n",
      "DelHI\n",
      "You Entered DelHI and your Monumnet is:RedFort\n"
     ]
    }
   ],
   "source": [
    "# Accept any city from the user and displays monumnets of the city.\n",
    "\n",
    "# City-----------------------------> Monuments\n",
    "# \"Delhi\"--------------------------> \"RedFort\"\n",
    "# \"Agra\"---------------------------> \"TajMahal\"\n",
    "# \"Jaipur\"-------------------------> \"JalMahal,HawaMahal\"\n",
    "# \"AmritSar\"-----------------------> \"Golden Temple\"\n",
    "# \"Madurai\"------------------------> \"Meenakshi Temple\"\n",
    "# \"Mysore\"-------------------------> \"Mysore Palace\"\n",
    "# \"Mumbai\"-------------------------> \"Gateway Of India\"\n",
    "# \"Sanchi\"-------------------------> \"Sanchi Stupa\"\n",
    "# \"Hydrabad\"-----------------------> \"Charminar\"\n",
    "\n",
    "print('Choose Your city:\\n1.Delhi,2.Agra,3.Jaipur,4.Amritsar,5.Madurai,6.Mysore,7.Mumbai,8.Sanchi,9.Hydrabad')\n",
    "city=input('Enter City name: \\n')\n",
    "\n",
    "if city.lower()==\"delhi\":\n",
    "    print(f'You Entered {city} and your Monumnet is:RedFort')"
   ]
  },
  {
   "cell_type": "code",
   "execution_count": 1,
   "id": "3ceaaafb",
   "metadata": {},
   "outputs": [],
   "source": [
    "# Write a program to accept the cost price of a bike and display the road tax to be paid accordint to the following criteria:\n",
    "# Cost Price in (in Rs)----------------> Tax\n",
    "# >200000 -----------------------------> 20%\n",
    "# >150000 and <=200000-----------------> 15%\n",
    "# >100000 and <=150000-----------------> 10%\n",
    "# >50000 and <=100000------------------> 5%"
   ]
  },
  {
   "cell_type": "code",
   "execution_count": 11,
   "id": "2d75d6b5",
   "metadata": {},
   "outputs": [
    {
     "name": "stdout",
     "output_type": "stream",
     "text": [
      "Enter total number of working days.50\n",
      "Enter number of total attended:45\n",
      "Your attendent is 90.0\n",
      "You can sit in the exam.\n"
     ]
    }
   ],
   "source": [
    "# Accept the following from the user and calculate the percentage of the class attended:\n",
    "# a. Total number of working days.\n",
    "# b. Total number of days for absent.\n",
    "# After calculating percentage show tha, if the percentage is less than 75, then student will not able to sit in the exam.\n",
    "\n",
    "\n",
    "w_days=int(input('Enter total number of working days.'))\n",
    "attend=int(input('Enter number of total attended:'))\n",
    "\n",
    "perc=(attend/w_days)*100\n",
    "print('Your attendent is',perc)\n",
    "if perc>=75:\n",
    "    print('You can sit in the exam.')\n",
    "else:\n",
    "    print('You are not elegible')"
   ]
  },
  {
   "cell_type": "code",
   "execution_count": null,
   "id": "8535528d",
   "metadata": {},
   "outputs": [],
   "source": []
  }
 ],
 "metadata": {
  "kernelspec": {
   "display_name": "Python 3 (ipykernel)",
   "language": "python",
   "name": "python3"
  },
  "language_info": {
   "codemirror_mode": {
    "name": "ipython",
    "version": 3
   },
   "file_extension": ".py",
   "mimetype": "text/x-python",
   "name": "python",
   "nbconvert_exporter": "python",
   "pygments_lexer": "ipython3",
   "version": "3.9.13"
  }
 },
 "nbformat": 4,
 "nbformat_minor": 5
}
