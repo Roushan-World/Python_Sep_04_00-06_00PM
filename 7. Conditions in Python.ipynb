{
 "cells": [
  {
   "cell_type": "markdown",
   "id": "5dd2ca8c",
   "metadata": {},
   "source": [
    "# 7. Conditions in Python\n",
    "\n",
    " * __Comparison operations compare some value or operand and based on a condition, produce a Boolean. Python has six comparison operators as below:__\n",
    " \n",
    "   * __Less than(<)__\n",
    "   * __Less than or equal to(<=)__\n",
    "   * __Greater than (>)__\n",
    "   * __Greater than or equal to(>=)__\n",
    "   * __Equal to(==)__\n",
    "   * __Not equal to (!=)__\n",
    "   \n",
    "   \n",
    "# Branching (if,elif,else)\n",
    " * __Decision making is required when we want to execute a code only if a certain condition is satisfied.__\n",
    " * __The if/elif/else statement is used in python for decision making.__\n",
    " * __An else statement can be combined with an if statement.__\n",
    " * __An else statement contains the block of code that executes if the conditional expression in the if statement resolves to 0 or a False value.__\n",
    " * __The else statement is an optional statement and there could dbe at most only one else statement following if.__\n",
    " * __The elif statement allows you to check multiple expressions for True and execute a block of code as soon as one of the conditions evaluates to True.__\n",
    " * __Similar to the else, the elif statement is optional.__\n",
    " * __However, unlike else, for which there can be at most one statement, there can be arbitrary number of elif statement following an if.__"
   ]
  },
  {
   "cell_type": "code",
   "execution_count": 1,
   "id": "5085950e",
   "metadata": {},
   "outputs": [],
   "source": [
    "import plotly.io as pio\n",
    "pio.renderers.default='notebook'"
   ]
  },
  {
   "cell_type": "code",
   "execution_count": 2,
   "id": "ec6327d7",
   "metadata": {},
   "outputs": [
    {
     "data": {
      "text/html": [
       "<img src=\"if_elif_else.jpeg\" width=\"300\" height=\"300\"/>"
      ],
      "text/plain": [
       "<IPython.core.display.Image object>"
      ]
     },
     "execution_count": 2,
     "metadata": {},
     "output_type": "execute_result"
    }
   ],
   "source": [
    "# import image module\n",
    "from IPython.display import Image\n",
    "  \n",
    "# get the image\n",
    "Image(url=\"if_elif_else.jpeg\", width=300, height=300)"
   ]
  },
  {
   "cell_type": "code",
   "execution_count": 11,
   "id": "b493eb8b",
   "metadata": {},
   "outputs": [
    {
     "name": "stdout",
     "output_type": "stream",
     "text": [
      "The number 1.618 is lower than the ratio 3.147\n"
     ]
    }
   ],
   "source": [
    "pi=3.147\n",
    "ratio=1.618\n",
    "\n",
    "if pi<ratio:\n",
    "    print(f'The number {pi} is greater than the ratio {ratio}')\n",
    "else:\n",
    "    print(f'The number {ratio} is lower than the ratio {pi}')"
   ]
  },
  {
   "cell_type": "code",
   "execution_count": 17,
   "id": "679b748a",
   "metadata": {},
   "outputs": [
    {
     "name": "stdout",
     "output_type": "stream",
     "text": [
      "You can go to kindergarten\n"
     ]
    }
   ],
   "source": [
    "age=5\n",
    "\n",
    "if age>6:\n",
    "    print('You can go to primary school')\n",
    "    \n",
    "elif age==5:\n",
    "    print('You can go to kindergarten')\n",
    "else:\n",
    "    print('You are a baby')"
   ]
  },
  {
   "cell_type": "code",
   "execution_count": 26,
   "id": "1e9151d6",
   "metadata": {},
   "outputs": [
    {
     "name": "stdout",
     "output_type": "stream",
     "text": [
      "Enter your baby age4\n",
      "You are a baby\n"
     ]
    }
   ],
   "source": [
    "age=int(input('Enter your baby age'))\n",
    "\n",
    "if age>6:\n",
    "    print('You can go to primary school')\n",
    "    \n",
    "elif age==5:\n",
    "    print('You can go to kindergarten')\n",
    "else:\n",
    "    print('You are a baby')"
   ]
  },
  {
   "cell_type": "code",
   "execution_count": null,
   "id": "27fb98a4",
   "metadata": {},
   "outputs": [],
   "source": [
    "# Write a program to display you are elegible for voting or not."
   ]
  }
 ],
 "metadata": {
  "kernelspec": {
   "display_name": "Python 3 (ipykernel)",
   "language": "python",
   "name": "python3"
  },
  "language_info": {
   "codemirror_mode": {
    "name": "ipython",
    "version": 3
   },
   "file_extension": ".py",
   "mimetype": "text/x-python",
   "name": "python",
   "nbconvert_exporter": "python",
   "pygments_lexer": "ipython3",
   "version": "3.9.13"
  }
 },
 "nbformat": 4,
 "nbformat_minor": 5
}
