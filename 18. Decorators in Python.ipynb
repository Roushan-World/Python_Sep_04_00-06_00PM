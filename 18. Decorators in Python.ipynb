{
 "cells": [
  {
   "cell_type": "markdown",
   "id": "b592f08e",
   "metadata": {},
   "source": [
    "# 18. Decorators in Python\n",
    "\n",
    " * __Decorators provides a simple syntax for calling higher-order functions.__\n",
    " * __By definition, a decorator is a function that takes another function and extends the behavior of the latter function without explicitly modifying it.__\n",
    " * __A decorator in Python is a function that takes another function as its argument, and returns yet another functions.__\n",
    " * __Decorators can be exrremely useful as they allow the extension of an existing functions, without any modification to the original function source code.__\n",
    " * __In fact, there are two types of decorators in Python including class decorators and function decorators.__\n",
    " * __In application, decorators are majorly used in creating middle layer in the backend, it performs task like token authentication, validation, image compression and many more.__"
   ]
  },
  {
   "cell_type": "code",
   "execution_count": 1,
   "id": "91571f9e",
   "metadata": {},
   "outputs": [],
   "source": [
    "import decorator\n",
    "\n",
    "from decorator import *"
   ]
  },
  {
   "cell_type": "code",
   "execution_count": 2,
   "id": "d4541cd0",
   "metadata": {},
   "outputs": [
    {
     "name": "stdout",
     "output_type": "stream",
     "text": [
      "Help on function decorator in module decorator:\n",
      "\n",
      "decorator(caller, _func=None, kwsyntax=False)\n",
      "    decorator(caller) converts a caller function into a decorator\n",
      "\n"
     ]
    }
   ],
   "source": [
    "help(decorator)"
   ]
  },
  {
   "cell_type": "code",
   "execution_count": 3,
   "id": "282cea55",
   "metadata": {},
   "outputs": [
    {
     "name": "stdout",
     "output_type": "stream",
     "text": [
      "Python is a programming language.\n"
     ]
    }
   ],
   "source": [
    "def mytext(text):\n",
    "    print(text)\n",
    "    \n",
    "mytext('Python is a programming language.')"
   ]
  },
  {
   "cell_type": "code",
   "execution_count": 4,
   "id": "6d574a39",
   "metadata": {},
   "outputs": [
    {
     "name": "stdout",
     "output_type": "stream",
     "text": [
      "My name is Ashish yadav.\n"
     ]
    }
   ],
   "source": [
    "x=mytext('My name is Ashish yadav.')\n",
    "x"
   ]
  },
  {
   "cell_type": "code",
   "execution_count": 7,
   "id": "8daaa5bc",
   "metadata": {},
   "outputs": [
    {
     "name": "stdout",
     "output_type": "stream",
     "text": [
      "Python is programming language.\n",
      "Hello World\n",
      "My name is ashish\n"
     ]
    }
   ],
   "source": [
    "def mytext():\n",
    "    print('Python is programming language.')\n",
    "    def new_text():\n",
    "        print(\"My name is ashish\")\n",
    "    def message():\n",
    "        print(\"Hello World\")\n",
    "        \n",
    "    message()\n",
    "    new_text()\n",
    "mytext()"
   ]
  },
  {
   "cell_type": "code",
   "execution_count": 9,
   "id": "7399f423",
   "metadata": {},
   "outputs": [
    {
     "name": "stdout",
     "output_type": "stream",
     "text": [
      "20\n"
     ]
    }
   ],
   "source": [
    "def multi(x):\n",
    "    return x*2\n",
    "def divide(x):\n",
    "    return x/2\n",
    "def operator(function,x):\n",
    "    number=function(x)\n",
    "    return number\n",
    "print(operator(multi,10))"
   ]
  },
  {
   "cell_type": "code",
   "execution_count": 10,
   "id": "0d6e1ab7",
   "metadata": {},
   "outputs": [
    {
     "name": "stdout",
     "output_type": "stream",
     "text": [
      "10.0\n"
     ]
    }
   ],
   "source": [
    "print(operator(divide,20))"
   ]
  },
  {
   "cell_type": "code",
   "execution_count": 20,
   "id": "e231d6eb",
   "metadata": {},
   "outputs": [
    {
     "name": "stdout",
     "output_type": "stream",
     "text": [
      "2.0\n"
     ]
    }
   ],
   "source": [
    "def decorator_one(function):\n",
    "    def inner():\n",
    "        num=function()\n",
    "        return num*(num**num)\n",
    "    return inner\n",
    "\n",
    "def decorator_two(function):\n",
    "    def inner():\n",
    "        num=function()\n",
    "        return (num**num)/num\n",
    "    return inner\n",
    "\n",
    "\n",
    "@decorator_two\n",
    "def number():\n",
    "    return 2\n",
    "print(number())"
   ]
  },
  {
   "cell_type": "code",
   "execution_count": 25,
   "id": "a3cd0826",
   "metadata": {},
   "outputs": [
    {
     "name": "stdout",
     "output_type": "stream",
     "text": [
      "1024\n"
     ]
    }
   ],
   "source": [
    "@decorator_one\n",
    "def number():\n",
    "    return 4\n",
    "print(number())"
   ]
  },
  {
   "cell_type": "code",
   "execution_count": 28,
   "id": "e5deea45",
   "metadata": {},
   "outputs": [
    {
     "name": "stdout",
     "output_type": "stream",
     "text": [
      "PYTHON IS THE POPULAR PROGRAMMING LANGUAGE.\n"
     ]
    }
   ],
   "source": [
    "def decorated_uppercase(func):\n",
    "    def wrapper():\n",
    "        function=func()\n",
    "        text_uppercase=function.upper()\n",
    "        return text_uppercase\n",
    "    return wrapper\n",
    "    \n",
    "def text():\n",
    "    return \"Python is the popular programming language.\"\n",
    "result=decorated_uppercase(text)\n",
    "print(result())"
   ]
  },
  {
   "cell_type": "code",
   "execution_count": null,
   "id": "cad2d71f",
   "metadata": {},
   "outputs": [],
   "source": [
    "# lower, capitalize,title"
   ]
  },
  {
   "cell_type": "code",
   "execution_count": 31,
   "id": "631a27d8",
   "metadata": {},
   "outputs": [
    {
     "name": "stdout",
     "output_type": "stream",
     "text": [
      "Python is most popular programming language.\n",
      "Python is most popular programming language.\n",
      "Python is most popular programming language.\n",
      "Python is most popular programming language.\n",
      "Python is most popular programming language.\n",
      "Python is most popular programming language.\n",
      "Python is most popular programming language.\n",
      "Python is most popular programming language.\n"
     ]
    }
   ],
   "source": [
    "def logic(function):\n",
    "    def wrapper_logic():\n",
    "        function()\n",
    "        function()\n",
    "        function()\n",
    "        function()\n",
    "        function()\n",
    "        function()\n",
    "        function()\n",
    "        function()\n",
    "    return wrapper_logic\n",
    "@logic\n",
    "def text():\n",
    "    print(\"Python is most popular programming language.\")\n",
    "text()"
   ]
  },
  {
   "cell_type": "code",
   "execution_count": null,
   "id": "4d74267e",
   "metadata": {},
   "outputs": [],
   "source": []
  }
 ],
 "metadata": {
  "kernelspec": {
   "display_name": "Python 3 (ipykernel)",
   "language": "python",
   "name": "python3"
  },
  "language_info": {
   "codemirror_mode": {
    "name": "ipython",
    "version": 3
   },
   "file_extension": ".py",
   "mimetype": "text/x-python",
   "name": "python",
   "nbconvert_exporter": "python",
   "pygments_lexer": "ipython3",
   "version": "3.9.13"
  }
 },
 "nbformat": 4,
 "nbformat_minor": 5
}
