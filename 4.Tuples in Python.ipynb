{
 "cells": [
  {
   "cell_type": "markdown",
   "id": "249216eb",
   "metadata": {},
   "source": [
    "# 4. Tuples in Python\n",
    "\n",
    " * __Tuples are immutable list and cannot  be changed in any way once it is created.__\n",
    " * __They are enclosed within parenthesis and not within square braces.__\n",
    " * __Tuples are ordered, indexed collections of data.__\n",
    " * __Similar to string indices, the first value in the tuple will have the index[0], the second value[1].__\n",
    " * __Negative indices are counted from the end of the tuple, just like lista.__\n",
    " * __Tuple also has the same structure where as commas separate the values.__\n",
    " * __Tuples can store duplicate values.__\n",
    " * __Tuples allow you to store several data items including string, integer, float in one variable.__"
   ]
  },
  {
   "cell_type": "code",
   "execution_count": 4,
   "id": "99003e45",
   "metadata": {},
   "outputs": [
    {
     "data": {
      "text/plain": [
       "('Hello',\n",
       " 'Python',\n",
       " 3.14,\n",
       " 1.618,\n",
       " True,\n",
       " False,\n",
       " 32,\n",
       " [1, 2, 3],\n",
       " {1, 2, 3},\n",
       " {'A': 3, 'B': 10},\n",
       " (0, 1))"
      ]
     },
     "execution_count": 4,
     "metadata": {},
     "output_type": "execute_result"
    }
   ],
   "source": [
    "# take a tuple\n",
    "\n",
    "tuple_1=('Hello','Python',3.14,1.618,True,False,32,[1,2,3],{1,2,3},{'A':3,'B':10},(0,1))\n",
    "\n",
    "tuple_1"
   ]
  },
  {
   "cell_type": "code",
   "execution_count": 5,
   "id": "0e4b5df7",
   "metadata": {},
   "outputs": [
    {
     "data": {
      "text/plain": [
       "tuple"
      ]
     },
     "execution_count": 5,
     "metadata": {},
     "output_type": "execute_result"
    }
   ],
   "source": [
    "type(tuple_1)"
   ]
  },
  {
   "cell_type": "code",
   "execution_count": 6,
   "id": "0d347d0d",
   "metadata": {},
   "outputs": [
    {
     "data": {
      "text/plain": [
       "['Hello',\n",
       " 'Python',\n",
       " 3.14,\n",
       " 1.618,\n",
       " True,\n",
       " False,\n",
       " 32,\n",
       " [1, 2, 3],\n",
       " {1, 2, 3},\n",
       " {'A': 3, 'B': 10},\n",
       " (0, 1)]"
      ]
     },
     "execution_count": 6,
     "metadata": {},
     "output_type": "execute_result"
    }
   ],
   "source": [
    "tuple_2=['Hello','Python',3.14,1.618,True,False,32,[1,2,3],{1,2,3},{'A':3,'B':10},(0,1)]\n",
    "tuple_2"
   ]
  },
  {
   "cell_type": "code",
   "execution_count": 7,
   "id": "b6f16c54",
   "metadata": {},
   "outputs": [
    {
     "data": {
      "text/plain": [
       "list"
      ]
     },
     "execution_count": 7,
     "metadata": {},
     "output_type": "execute_result"
    }
   ],
   "source": [
    "type(tuple_2)"
   ]
  },
  {
   "cell_type": "markdown",
   "id": "813f7729",
   "metadata": {},
   "source": [
    "# concatenation of tuples\n",
    "\n",
    " * __To concatenate tuples, + sign is used.__"
   ]
  },
  {
   "cell_type": "code",
   "execution_count": 8,
   "id": "7b56610a",
   "metadata": {},
   "outputs": [
    {
     "data": {
      "text/plain": [
       "('Hello',\n",
       " 'Python',\n",
       " 3.14,\n",
       " 1.618,\n",
       " True,\n",
       " False,\n",
       " 32,\n",
       " [1, 2, 3],\n",
       " {1, 2, 3},\n",
       " {'A': 3, 'B': 10},\n",
       " (0, 1))"
      ]
     },
     "execution_count": 8,
     "metadata": {},
     "output_type": "execute_result"
    }
   ],
   "source": [
    "tuple_1"
   ]
  },
  {
   "cell_type": "code",
   "execution_count": 9,
   "id": "5eb3cc84",
   "metadata": {},
   "outputs": [
    {
     "data": {
      "text/plain": [
       "('Hello Wolrd', 2023)"
      ]
     },
     "execution_count": 9,
     "metadata": {},
     "output_type": "execute_result"
    }
   ],
   "source": [
    "tuple_2=('Hello Wolrd',2023)\n",
    "\n",
    "tuple_2"
   ]
  },
  {
   "cell_type": "code",
   "execution_count": 10,
   "id": "b7b13ee3",
   "metadata": {},
   "outputs": [
    {
     "data": {
      "text/plain": [
       "('Hello',\n",
       " 'Python',\n",
       " 3.14,\n",
       " 1.618,\n",
       " True,\n",
       " False,\n",
       " 32,\n",
       " [1, 2, 3],\n",
       " {1, 2, 3},\n",
       " {'A': 3, 'B': 10},\n",
       " (0, 1),\n",
       " 'Hello Wolrd',\n",
       " 2023)"
      ]
     },
     "execution_count": 10,
     "metadata": {},
     "output_type": "execute_result"
    }
   ],
   "source": [
    "tuple_3=tuple_1+tuple_2\n",
    "tuple_3"
   ]
  },
  {
   "cell_type": "markdown",
   "id": "ae47ea29",
   "metadata": {},
   "source": [
    "# Repetition of a tuple"
   ]
  },
  {
   "cell_type": "code",
   "execution_count": 11,
   "id": "50960af7",
   "metadata": {},
   "outputs": [
    {
     "data": {
      "text/plain": [
       "(1, 2, 3, 4, 5, 1, 2, 3, 4, 5)"
      ]
     },
     "execution_count": 11,
     "metadata": {},
     "output_type": "execute_result"
    }
   ],
   "source": [
    "rep_tup=(1,2,3,4,5)\n",
    "\n",
    "rep_tup*2"
   ]
  },
  {
   "cell_type": "markdown",
   "id": "d6a2737f",
   "metadata": {},
   "source": [
    "# Membership "
   ]
  },
  {
   "cell_type": "code",
   "execution_count": 12,
   "id": "a98b2f41",
   "metadata": {},
   "outputs": [],
   "source": [
    "rep_tup=(1,2,3,4,5,6)   #1,5,7,10,3,2"
   ]
  },
  {
   "cell_type": "markdown",
   "id": "b763ef30",
   "metadata": {},
   "source": [
    "# min , max, sum"
   ]
  },
  {
   "cell_type": "code",
   "execution_count": null,
   "id": "b1fff46b",
   "metadata": {},
   "outputs": [],
   "source": [
    "rep_tup=(1,2,3,4,5,6,7,8,9,10,11,12,13,14,15)"
   ]
  }
 ],
 "metadata": {
  "kernelspec": {
   "display_name": "Python 3 (ipykernel)",
   "language": "python",
   "name": "python3"
  },
  "language_info": {
   "codemirror_mode": {
    "name": "ipython",
    "version": 3
   },
   "file_extension": ".py",
   "mimetype": "text/x-python",
   "name": "python",
   "nbconvert_exporter": "python",
   "pygments_lexer": "ipython3",
   "version": "3.9.13"
  }
 },
 "nbformat": 4,
 "nbformat_minor": 5
}
