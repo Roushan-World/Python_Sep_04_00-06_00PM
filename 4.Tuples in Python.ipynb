{
 "cells": [
  {
   "cell_type": "markdown",
   "id": "249216eb",
   "metadata": {},
   "source": [
    "# 4. Tuples in Python\n",
    "\n",
    " * __Tuples are immutable list and cannot  be changed in any way once it is created.__\n",
    " * __They are enclosed within parenthesis and not within square braces.__\n",
    " * __Tuples are ordered, indexed collections of data.__\n",
    " * __Similar to string indices, the first value in the tuple will have the index[0], the second value[1].__\n",
    " * __Negative indices are counted from the end of the tuple, just like lista.__\n",
    " * __Tuple also has the same structure where as commas separate the values.__\n",
    " * __Tuples can store duplicate values.__\n",
    " * __Tuples allow you to store several data items including string, integer, float in one variable.__"
   ]
  },
  {
   "cell_type": "code",
   "execution_count": 4,
   "id": "99003e45",
   "metadata": {},
   "outputs": [
    {
     "data": {
      "text/plain": [
       "('Hello',\n",
       " 'Python',\n",
       " 3.14,\n",
       " 1.618,\n",
       " True,\n",
       " False,\n",
       " 32,\n",
       " [1, 2, 3],\n",
       " {1, 2, 3},\n",
       " {'A': 3, 'B': 10},\n",
       " (0, 1))"
      ]
     },
     "execution_count": 4,
     "metadata": {},
     "output_type": "execute_result"
    }
   ],
   "source": [
    "# take a tuple\n",
    "\n",
    "tuple_1=('Hello','Python',3.14,1.618,True,False,32,[1,2,3],{1,2,3},{'A':3,'B':10},(0,1))\n",
    "\n",
    "tuple_1"
   ]
  },
  {
   "cell_type": "code",
   "execution_count": 5,
   "id": "0e4b5df7",
   "metadata": {},
   "outputs": [
    {
     "data": {
      "text/plain": [
       "tuple"
      ]
     },
     "execution_count": 5,
     "metadata": {},
     "output_type": "execute_result"
    }
   ],
   "source": [
    "type(tuple_1)"
   ]
  },
  {
   "cell_type": "code",
   "execution_count": 6,
   "id": "0d347d0d",
   "metadata": {},
   "outputs": [
    {
     "data": {
      "text/plain": [
       "['Hello',\n",
       " 'Python',\n",
       " 3.14,\n",
       " 1.618,\n",
       " True,\n",
       " False,\n",
       " 32,\n",
       " [1, 2, 3],\n",
       " {1, 2, 3},\n",
       " {'A': 3, 'B': 10},\n",
       " (0, 1)]"
      ]
     },
     "execution_count": 6,
     "metadata": {},
     "output_type": "execute_result"
    }
   ],
   "source": [
    "tuple_2=['Hello','Python',3.14,1.618,True,False,32,[1,2,3],{1,2,3},{'A':3,'B':10},(0,1)]\n",
    "tuple_2"
   ]
  },
  {
   "cell_type": "code",
   "execution_count": 7,
   "id": "b6f16c54",
   "metadata": {},
   "outputs": [
    {
     "data": {
      "text/plain": [
       "list"
      ]
     },
     "execution_count": 7,
     "metadata": {},
     "output_type": "execute_result"
    }
   ],
   "source": [
    "type(tuple_2)"
   ]
  },
  {
   "cell_type": "markdown",
   "id": "813f7729",
   "metadata": {},
   "source": [
    "# concatenation of tuples\n",
    "\n",
    " * __To concatenate tuples, + sign is used.__"
   ]
  },
  {
   "cell_type": "code",
   "execution_count": 8,
   "id": "7b56610a",
   "metadata": {},
   "outputs": [
    {
     "data": {
      "text/plain": [
       "('Hello',\n",
       " 'Python',\n",
       " 3.14,\n",
       " 1.618,\n",
       " True,\n",
       " False,\n",
       " 32,\n",
       " [1, 2, 3],\n",
       " {1, 2, 3},\n",
       " {'A': 3, 'B': 10},\n",
       " (0, 1))"
      ]
     },
     "execution_count": 8,
     "metadata": {},
     "output_type": "execute_result"
    }
   ],
   "source": [
    "tuple_1"
   ]
  },
  {
   "cell_type": "code",
   "execution_count": 9,
   "id": "5eb3cc84",
   "metadata": {},
   "outputs": [
    {
     "data": {
      "text/plain": [
       "('Hello Wolrd', 2023)"
      ]
     },
     "execution_count": 9,
     "metadata": {},
     "output_type": "execute_result"
    }
   ],
   "source": [
    "tuple_2=('Hello Wolrd',2023)\n",
    "\n",
    "tuple_2"
   ]
  },
  {
   "cell_type": "code",
   "execution_count": 10,
   "id": "b7b13ee3",
   "metadata": {},
   "outputs": [
    {
     "data": {
      "text/plain": [
       "('Hello',\n",
       " 'Python',\n",
       " 3.14,\n",
       " 1.618,\n",
       " True,\n",
       " False,\n",
       " 32,\n",
       " [1, 2, 3],\n",
       " {1, 2, 3},\n",
       " {'A': 3, 'B': 10},\n",
       " (0, 1),\n",
       " 'Hello Wolrd',\n",
       " 2023)"
      ]
     },
     "execution_count": 10,
     "metadata": {},
     "output_type": "execute_result"
    }
   ],
   "source": [
    "tuple_3=tuple_1+tuple_2\n",
    "tuple_3"
   ]
  },
  {
   "cell_type": "markdown",
   "id": "ae47ea29",
   "metadata": {},
   "source": [
    "# Repetition of a tuple"
   ]
  },
  {
   "cell_type": "code",
   "execution_count": 11,
   "id": "50960af7",
   "metadata": {},
   "outputs": [
    {
     "data": {
      "text/plain": [
       "(1, 2, 3, 4, 5, 1, 2, 3, 4, 5)"
      ]
     },
     "execution_count": 11,
     "metadata": {},
     "output_type": "execute_result"
    }
   ],
   "source": [
    "rep_tup=(1,2,3,4,5)\n",
    "\n",
    "rep_tup*2"
   ]
  },
  {
   "cell_type": "markdown",
   "id": "d6a2737f",
   "metadata": {},
   "source": [
    "# Membership "
   ]
  },
  {
   "cell_type": "code",
   "execution_count": 12,
   "id": "a98b2f41",
   "metadata": {},
   "outputs": [],
   "source": [
    "rep_tup=(1,2,3,4,5,6)   #1,5,7,10,3,2"
   ]
  },
  {
   "cell_type": "markdown",
   "id": "b763ef30",
   "metadata": {},
   "source": [
    "# min() , max(), sum(),len()"
   ]
  },
  {
   "cell_type": "code",
   "execution_count": 2,
   "id": "b1fff46b",
   "metadata": {},
   "outputs": [],
   "source": [
    "rep_tup=(1,2,3,4,5,6,7,8,9,10,11,12,13,14,15)"
   ]
  },
  {
   "cell_type": "markdown",
   "id": "a4da4659",
   "metadata": {},
   "source": [
    "#  sorting tuple"
   ]
  },
  {
   "cell_type": "code",
   "execution_count": 3,
   "id": "e9845492",
   "metadata": {},
   "outputs": [
    {
     "data": {
      "text/plain": [
       "[0, 7, 8, 14, 20, 45, 50, 78, 90]"
      ]
     },
     "execution_count": 3,
     "metadata": {},
     "output_type": "execute_result"
    }
   ],
   "source": [
    "tuple_3=(0,7,8,20,14,50,78,90,45)\n",
    "\n",
    "sorted_tuple=sorted(tuple_3)\n",
    "sorted_tuple"
   ]
  },
  {
   "cell_type": "code",
   "execution_count": 7,
   "id": "a24eddd0",
   "metadata": {},
   "outputs": [
    {
     "data": {
      "text/plain": [
       "[90, 78, 50, 45, 20, 14, 8, 7, 0]"
      ]
     },
     "execution_count": 7,
     "metadata": {},
     "output_type": "execute_result"
    }
   ],
   "source": [
    "# Descending order\n",
    "\n",
    "desc_tuple=sorted_tuple[::-1]\n",
    "desc_tuple"
   ]
  },
  {
   "cell_type": "markdown",
   "id": "4dbe4260",
   "metadata": {},
   "source": [
    "# Tuples are immutable"
   ]
  },
  {
   "cell_type": "code",
   "execution_count": 8,
   "id": "c50177b1",
   "metadata": {},
   "outputs": [
    {
     "ename": "TypeError",
     "evalue": "'tuple' object does not support item assignment",
     "output_type": "error",
     "traceback": [
      "\u001b[1;31m---------------------------------------------------------------------------\u001b[0m",
      "\u001b[1;31mTypeError\u001b[0m                                 Traceback (most recent call last)",
      "\u001b[1;32m~\\AppData\\Local\\Temp\\ipykernel_9132\\745790560.py\u001b[0m in \u001b[0;36m<module>\u001b[1;34m\u001b[0m\n\u001b[0;32m      1\u001b[0m \u001b[0mtuple_4\u001b[0m\u001b[1;33m=\u001b[0m\u001b[1;33m(\u001b[0m\u001b[1;36m1\u001b[0m\u001b[1;33m,\u001b[0m\u001b[1;36m2\u001b[0m\u001b[1;33m,\u001b[0m\u001b[1;36m3\u001b[0m\u001b[1;33m,\u001b[0m\u001b[1;36m4\u001b[0m\u001b[1;33m,\u001b[0m\u001b[1;36m5\u001b[0m\u001b[1;33m,\u001b[0m\u001b[1;36m6\u001b[0m\u001b[1;33m)\u001b[0m\u001b[1;33m\u001b[0m\u001b[1;33m\u001b[0m\u001b[0m\n\u001b[0;32m      2\u001b[0m \u001b[1;33m\u001b[0m\u001b[0m\n\u001b[1;32m----> 3\u001b[1;33m \u001b[0mtuple_4\u001b[0m\u001b[1;33m[\u001b[0m\u001b[1;36m0\u001b[0m\u001b[1;33m]\u001b[0m\u001b[1;33m=\u001b[0m\u001b[1;36m9\u001b[0m\u001b[1;33m\u001b[0m\u001b[1;33m\u001b[0m\u001b[0m\n\u001b[0m\u001b[0;32m      4\u001b[0m \u001b[0mprint\u001b[0m\u001b[1;33m(\u001b[0m\u001b[0mtuple_4\u001b[0m\u001b[1;33m)\u001b[0m\u001b[1;33m\u001b[0m\u001b[1;33m\u001b[0m\u001b[0m\n",
      "\u001b[1;31mTypeError\u001b[0m: 'tuple' object does not support item assignment"
     ]
    }
   ],
   "source": [
    "tuple_4=(1,2,3,4,5,6)\n",
    "\n",
    "tuple_4[0]=9\n",
    "print(tuple_4)"
   ]
  },
  {
   "cell_type": "markdown",
   "id": "ff08570f",
   "metadata": {},
   "source": [
    "# Delete a tuple\n",
    "\n",
    "\n",
    " * __An element in a tuple can not be deleted since it is mutable.__\n",
    " * __But a while tuple can be deleted.__"
   ]
  },
  {
   "cell_type": "code",
   "execution_count": 12,
   "id": "d022fa84",
   "metadata": {},
   "outputs": [
    {
     "name": "stdout",
     "output_type": "stream",
     "text": [
      "Before deleting: (1, 3, 5, 7, 8)\n"
     ]
    },
    {
     "ename": "NameError",
     "evalue": "name 'tuple_5' is not defined",
     "output_type": "error",
     "traceback": [
      "\u001b[1;31m---------------------------------------------------------------------------\u001b[0m",
      "\u001b[1;31mNameError\u001b[0m                                 Traceback (most recent call last)",
      "\u001b[1;32m~\\AppData\\Local\\Temp\\ipykernel_9132\\3943127976.py\u001b[0m in \u001b[0;36m<module>\u001b[1;34m\u001b[0m\n\u001b[0;32m      4\u001b[0m \u001b[1;33m\u001b[0m\u001b[0m\n\u001b[0;32m      5\u001b[0m \u001b[1;32mdel\u001b[0m\u001b[1;33m(\u001b[0m\u001b[0mtuple_5\u001b[0m\u001b[1;33m)\u001b[0m\u001b[1;33m\u001b[0m\u001b[1;33m\u001b[0m\u001b[0m\n\u001b[1;32m----> 6\u001b[1;33m \u001b[0mprint\u001b[0m\u001b[1;33m(\u001b[0m\u001b[1;34m'After Deleting:'\u001b[0m\u001b[1;33m,\u001b[0m\u001b[0mtuple_5\u001b[0m\u001b[1;33m)\u001b[0m\u001b[1;33m\u001b[0m\u001b[1;33m\u001b[0m\u001b[0m\n\u001b[0m",
      "\u001b[1;31mNameError\u001b[0m: name 'tuple_5' is not defined"
     ]
    }
   ],
   "source": [
    "tuple_5=(1,3,5,7,8)\n",
    "print('Before deleting:',tuple_5)\n",
    "\n",
    "\n",
    "del(tuple_5)\n",
    "print('After Deleting:',tuple_5)"
   ]
  },
  {
   "cell_type": "markdown",
   "id": "7444f5aa",
   "metadata": {},
   "source": [
    "# count() method\n",
    "\n",
    "\n",
    " * __This method returns the number of time an item occurs in a tuple.__"
   ]
  },
  {
   "cell_type": "code",
   "execution_count": 17,
   "id": "ad8f4bcf",
   "metadata": {},
   "outputs": [
    {
     "name": "stdout",
     "output_type": "stream",
     "text": [
      "6\n",
      "2\n",
      "2\n",
      "3\n",
      "1\n"
     ]
    }
   ],
   "source": [
    "tuple_6=(1,1,3,3,5,5,5,5,5,5,6,6,6,7,8,8,8,9,10)\n",
    "\n",
    "print(tuple_6.count(5))\n",
    "print(tuple_6.count(1))\n",
    "print(tuple_6.count(3))\n",
    "print(tuple_6.count(8))\n",
    "print(tuple_6.count(10))"
   ]
  },
  {
   "cell_type": "markdown",
   "id": "1df4afff",
   "metadata": {},
   "source": [
    "# index() method\n",
    "\n",
    " * __It returns the index of the first occurrence of the specified value in a tuple.__"
   ]
  },
  {
   "cell_type": "code",
   "execution_count": 22,
   "id": "ad95a1c1",
   "metadata": {},
   "outputs": [
    {
     "name": "stdout",
     "output_type": "stream",
     "text": [
      "(1, 1, 3, 3, 5, 5, 5, 5, 5, 5, 6, 6, 6, 7, 8, 8, 8, 9, 10)\n",
      "2\n",
      "18\n"
     ]
    }
   ],
   "source": [
    "print(tuple_6)\n",
    "\n",
    "print(tuple_6.index(3))\n",
    "print(tuple_6.index(10))"
   ]
  },
  {
   "cell_type": "markdown",
   "id": "5427c69f",
   "metadata": {},
   "source": [
    "# One element as tuple"
   ]
  },
  {
   "cell_type": "code",
   "execution_count": 25,
   "id": "d1e1225c",
   "metadata": {},
   "outputs": [
    {
     "name": "stdout",
     "output_type": "stream",
     "text": [
      "(20,)\n",
      "<class 'tuple'>\n"
     ]
    }
   ],
   "source": [
    "x_tuple=(20,)\n",
    "print(x_tuple)\n",
    "print(type(x_tuple))"
   ]
  },
  {
   "cell_type": "code",
   "execution_count": null,
   "id": "ed3aa298",
   "metadata": {},
   "outputs": [],
   "source": []
  }
 ],
 "metadata": {
  "kernelspec": {
   "display_name": "Python 3 (ipykernel)",
   "language": "python",
   "name": "python3"
  },
  "language_info": {
   "codemirror_mode": {
    "name": "ipython",
    "version": 3
   },
   "file_extension": ".py",
   "mimetype": "text/x-python",
   "name": "python",
   "nbconvert_exporter": "python",
   "pygments_lexer": "ipython3",
   "version": "3.9.13"
  }
 },
 "nbformat": 4,
 "nbformat_minor": 5
}
