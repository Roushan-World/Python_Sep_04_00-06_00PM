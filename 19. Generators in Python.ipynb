{
 "cells": [
  {
   "cell_type": "markdown",
   "id": "62bf77ab",
   "metadata": {},
   "source": [
    "# 19. Generators in Python"
   ]
  },
  {
   "cell_type": "code",
   "execution_count": 4,
   "id": "9de5fd44",
   "metadata": {},
   "outputs": [
    {
     "name": "stdout",
     "output_type": "stream",
     "text": [
      "[0, 2, 4, 6, 8, 10, 12, 14, 16, 18, 20, 22, 24, 26, 28, 30, 32, 34, 36, 38, 40, 42, 44, 46, 48]\n"
     ]
    }
   ],
   "source": [
    "def function():\n",
    "    for i in range(50):\n",
    "        if i%2==0:\n",
    "            yield i\n",
    "nlis1=[]\n",
    "for i in function():\n",
    "    nlis1.append(i)\n",
    "    \n",
    "print(nlis1)"
   ]
  },
  {
   "cell_type": "code",
   "execution_count": 10,
   "id": "2c0b8a26",
   "metadata": {},
   "outputs": [
    {
     "name": "stdout",
     "output_type": "stream",
     "text": [
      "Hello world\n",
      "My name is xyz.\n",
      "Python is the most popular programming language.\n"
     ]
    }
   ],
   "source": [
    "def message():\n",
    "    msg_one=\"Hello world\"\n",
    "    yield msg_one\n",
    "    \n",
    "    msg_two=\"My name is xyz.\"\n",
    "    yield msg_two\n",
    "    \n",
    "    msg_three='Python is the most popular programming language.'\n",
    "    yield msg_three\n",
    "    \n",
    "x=message()\n",
    "\n",
    "print(next(x))\n",
    "print(next(x))\n",
    "print(next(x))"
   ]
  },
  {
   "cell_type": "code",
   "execution_count": 23,
   "id": "06a2a228",
   "metadata": {},
   "outputs": [
    {
     "ename": "StopIteration",
     "evalue": "",
     "output_type": "error",
     "traceback": [
      "\u001b[1;31m---------------------------------------------------------------------------\u001b[0m",
      "\u001b[1;31mStopIteration\u001b[0m                             Traceback (most recent call last)",
      "\u001b[1;32m~\\AppData\\Local\\Temp\\ipykernel_14792\\2243504367.py\u001b[0m in \u001b[0;36m<module>\u001b[1;34m\u001b[0m\n\u001b[0;32m     14\u001b[0m \u001b[0mnums_list\u001b[0m\u001b[1;33m.\u001b[0m\u001b[0mappend\u001b[0m\u001b[1;33m(\u001b[0m\u001b[0mnext\u001b[0m\u001b[1;33m(\u001b[0m\u001b[0mgenerator_list\u001b[0m\u001b[1;33m)\u001b[0m\u001b[1;33m)\u001b[0m\u001b[1;33m\u001b[0m\u001b[1;33m\u001b[0m\u001b[0m\n\u001b[0;32m     15\u001b[0m \u001b[0mnums_list\u001b[0m\u001b[1;33m.\u001b[0m\u001b[0mappend\u001b[0m\u001b[1;33m(\u001b[0m\u001b[0mnext\u001b[0m\u001b[1;33m(\u001b[0m\u001b[0mgenerator_list\u001b[0m\u001b[1;33m)\u001b[0m\u001b[1;33m)\u001b[0m\u001b[1;33m\u001b[0m\u001b[1;33m\u001b[0m\u001b[0m\n\u001b[1;32m---> 16\u001b[1;33m \u001b[0mnums_list\u001b[0m\u001b[1;33m.\u001b[0m\u001b[0mappend\u001b[0m\u001b[1;33m(\u001b[0m\u001b[0mnext\u001b[0m\u001b[1;33m(\u001b[0m\u001b[0mgenerator_list\u001b[0m\u001b[1;33m)\u001b[0m\u001b[1;33m)\u001b[0m\u001b[1;33m\u001b[0m\u001b[1;33m\u001b[0m\u001b[0m\n\u001b[0m\u001b[0;32m     17\u001b[0m \u001b[0mprint\u001b[0m\u001b[1;33m(\u001b[0m\u001b[0mnums_list\u001b[0m\u001b[1;33m)\u001b[0m\u001b[1;33m\u001b[0m\u001b[1;33m\u001b[0m\u001b[0m\n",
      "\u001b[1;31mStopIteration\u001b[0m: "
     ]
    }
   ],
   "source": [
    "num=[10,20,30,40,50,60,70,80,90,100]\n",
    "\n",
    "generator_list=(i*4 for i in num)\n",
    "nums_list=[]\n",
    "\n",
    "nums_list.append(next(generator_list))\n",
    "nums_list.append(next(generator_list))\n",
    "nums_list.append(next(generator_list))\n",
    "nums_list.append(next(generator_list))\n",
    "nums_list.append(next(generator_list))\n",
    "nums_list.append(next(generator_list))\n",
    "nums_list.append(next(generator_list))\n",
    "nums_list.append(next(generator_list))\n",
    "nums_list.append(next(generator_list))\n",
    "nums_list.append(next(generator_list))\n",
    "nums_list.append(next(generator_list))\n",
    "print(nums_list)"
   ]
  },
  {
   "cell_type": "code",
   "execution_count": 28,
   "id": "8a1b391f",
   "metadata": {},
   "outputs": [
    {
     "name": "stdout",
     "output_type": "stream",
     "text": [
      "0\n",
      "1\n",
      "2\n",
      "No value Found\n"
     ]
    }
   ],
   "source": [
    "try:    \n",
    "    def generator(a):\n",
    "        for i in range(a):\n",
    "            yield i\n",
    "\n",
    "    gen=generator(3)\n",
    "    print(next(gen))\n",
    "    print(next(gen))\n",
    "    print(next(gen))\n",
    "    print(next(gen))\n",
    "    \n",
    "except StopIteration:\n",
    "    print(\"No value Found\")"
   ]
  },
  {
   "cell_type": "code",
   "execution_count": null,
   "id": "7f4ebdd2",
   "metadata": {},
   "outputs": [],
   "source": []
  }
 ],
 "metadata": {
  "kernelspec": {
   "display_name": "Python 3 (ipykernel)",
   "language": "python",
   "name": "python3"
  },
  "language_info": {
   "codemirror_mode": {
    "name": "ipython",
    "version": 3
   },
   "file_extension": ".py",
   "mimetype": "text/x-python",
   "name": "python",
   "nbconvert_exporter": "python",
   "pygments_lexer": "ipython3",
   "version": "3.9.13"
  }
 },
 "nbformat": 4,
 "nbformat_minor": 5
}
