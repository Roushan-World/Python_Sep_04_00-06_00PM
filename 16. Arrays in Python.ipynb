{
 "cells": [
  {
   "cell_type": "markdown",
   "id": "f53a5a46",
   "metadata": {},
   "source": [
    "# 16. Arrays in Python\n",
    "\n",
    " * __Array is a container which can hold a fix number of items and these items holds be of the same type.__\n",
    " * __Most of the data structures make use arrays to implement their algorithms.__\n",
    " * __Lists can be used to form arrays.__\n",
    " * __Following are the important terms to understand the concept of array.__\n",
    "     * __Element: Each location of an element in an array has a numerical index, which is used to identify the element.__\n",
    "     * __Index: Each location of an element in an array has a numerical index, which is used to identify the element.__\n",
    " * __Each element in the array can be accessed with its index number.__\n",
    " * __The length of the array describes the capacity to store the elements.__\n",
    " * __Basic array operations are Transverse, Insertion, Deletion, Search and Update.__\n",
    " \n",
    "# Creating an array\n",
    " * __You Should import the module name \"array\" as follows:__\n",
    "      * __import array or from array import (*)__\n",
    "      * __(*) means that it covers all featurs of the array.__"
   ]
  },
  {
   "cell_type": "code",
   "execution_count": 1,
   "id": "53eddbe5",
   "metadata": {},
   "outputs": [],
   "source": [
    "# import the module\n",
    "\n",
    "import array as arr\n",
    "from array import *"
   ]
  },
  {
   "cell_type": "code",
   "execution_count": 2,
   "id": "c9d10195",
   "metadata": {},
   "outputs": [
    {
     "name": "stdout",
     "output_type": "stream",
     "text": [
      "[0.577, 1.618, 2.718, 3.147, 6, 37]\n"
     ]
    }
   ],
   "source": [
    "special_nums=[0.577,1.618,2.718,3.147,6,37]\n",
    "\n",
    "print(special_nums)"
   ]
  },
  {
   "cell_type": "code",
   "execution_count": 3,
   "id": "ae3c0916",
   "metadata": {},
   "outputs": [
    {
     "data": {
      "text/plain": [
       "list"
      ]
     },
     "execution_count": 3,
     "metadata": {},
     "output_type": "execute_result"
    }
   ],
   "source": [
    "type(special_nums)"
   ]
  },
  {
   "cell_type": "code",
   "execution_count": 4,
   "id": "eb88eb67",
   "metadata": {},
   "outputs": [
    {
     "name": "stdout",
     "output_type": "stream",
     "text": [
      "array('d', [0.577, 1.618, 2.718, 3.147, 6.0, 37.0])\n"
     ]
    }
   ],
   "source": [
    "special_nums1=arr.array('d',[0.577,1.618,2.718,3.147,6,37])\n",
    "print(special_nums1)"
   ]
  },
  {
   "cell_type": "code",
   "execution_count": 5,
   "id": "4a60c523",
   "metadata": {},
   "outputs": [
    {
     "data": {
      "text/plain": [
       "array.array"
      ]
     },
     "execution_count": 5,
     "metadata": {},
     "output_type": "execute_result"
    }
   ],
   "source": [
    "type(special_nums1)"
   ]
  },
  {
   "cell_type": "markdown",
   "id": "2a10d472",
   "metadata": {},
   "source": [
    "* ‘b’\tsigned char\tint\t1\n",
    "* ‘B’\tunsigned char\tint\t1\n",
    "* ‘u’\twchar_t\tUnicode character\t2\n",
    "* ‘h’\tsigned short\tint\t2\n",
    "* ‘H’\tunsigned short\tint\t2\n",
    "* ‘i’\tsigned int\tint\t2\n",
    "* ‘I’\tunsigned int\tint\t2\n",
    "* ’l'\tsigned long\tint\t4\n",
    "* ‘L’\tunsigned long\tint\t4\n",
    "* ‘q’\tsigned long long\tint\t8\n",
    "* ‘Q’\tunsigned long long\tint\t8\n",
    "* ‘f’\tfloat\tfloat\t4\n",
    "* ’d'\tdouble\tfloat\t8"
   ]
  },
  {
   "cell_type": "code",
   "execution_count": 6,
   "id": "95bbc860",
   "metadata": {},
   "outputs": [
    {
     "data": {
      "text/plain": [
       "array('d', [0.577, 1.618, 2.718, 3.147, 6.0, 37.0])"
      ]
     },
     "execution_count": 6,
     "metadata": {},
     "output_type": "execute_result"
    }
   ],
   "source": [
    "special_nums1"
   ]
  },
  {
   "cell_type": "code",
   "execution_count": 8,
   "id": "6f1c7491",
   "metadata": {},
   "outputs": [
    {
     "name": "stdout",
     "output_type": "stream",
     "text": [
      "0.577\n",
      "1.618\n"
     ]
    }
   ],
   "source": [
    "print(special_nums1[0])\n",
    "print(special_nums1[1])"
   ]
  },
  {
   "cell_type": "code",
   "execution_count": 9,
   "id": "678594ac",
   "metadata": {},
   "outputs": [
    {
     "name": "stdout",
     "output_type": "stream",
     "text": [
      "37.0\n"
     ]
    }
   ],
   "source": [
    "print(special_nums1[-1])"
   ]
  },
  {
   "cell_type": "code",
   "execution_count": 13,
   "id": "d8901eda",
   "metadata": {},
   "outputs": [],
   "source": [
    "special_nums1=arr.array('i',[577,618,718,147,6,37])"
   ]
  },
  {
   "cell_type": "code",
   "execution_count": 14,
   "id": "e3d4d037",
   "metadata": {},
   "outputs": [
    {
     "data": {
      "text/plain": [
       "array('i', [577, 618, 718, 147, 6, 37])"
      ]
     },
     "execution_count": 14,
     "metadata": {},
     "output_type": "execute_result"
    }
   ],
   "source": [
    "special_nums1"
   ]
  },
  {
   "cell_type": "code",
   "execution_count": 15,
   "id": "20de6249",
   "metadata": {},
   "outputs": [
    {
     "data": {
      "text/plain": [
       "6"
      ]
     },
     "execution_count": 15,
     "metadata": {},
     "output_type": "execute_result"
    }
   ],
   "source": [
    "len(special_nums1)"
   ]
  },
  {
   "cell_type": "code",
   "execution_count": 21,
   "id": "6bfa7c64",
   "metadata": {},
   "outputs": [
    {
     "data": {
      "text/plain": [
       "array('d', [1.23, 23.2, 10.0, 20.0])"
      ]
     },
     "execution_count": 21,
     "metadata": {},
     "output_type": "execute_result"
    }
   ],
   "source": [
    "n1=arr.array('d',[1.23,23.20])\n",
    "n2=arr.array('d',[10,20])\n",
    "\n",
    "\n",
    "n3=n1+n2\n",
    "n3"
   ]
  },
  {
   "cell_type": "markdown",
   "id": "3f754bd7",
   "metadata": {},
   "source": [
    "# Changing or Updating array:"
   ]
  },
  {
   "cell_type": "code",
   "execution_count": 7,
   "id": "9ba0f9d3",
   "metadata": {},
   "outputs": [
    {
     "name": "stdout",
     "output_type": "stream",
     "text": [
      "array('d', [10.0, 20.0, 30.0, 40.0, 50.0, 60.0, 70.0, 80.0])\n",
      "After Changing: array('d', [100.0, 20.0, 30.0, 40.0, 50.0, 60.0, 70.0, 80.0])\n"
     ]
    }
   ],
   "source": [
    "nums=arr.array('d',[10,20,30,40,50,60,70,80])\n",
    "print(nums)\n",
    "\n",
    "nums[0]=100\n",
    "print('After Changing:',nums)"
   ]
  },
  {
   "cell_type": "code",
   "execution_count": 8,
   "id": "6145d367",
   "metadata": {},
   "outputs": [
    {
     "data": {
      "text/plain": [
       "array('d', [100.0, 20.0, 30.0, 40.0, 50.0, 60.0, 70.0, 80.0])"
      ]
     },
     "execution_count": 8,
     "metadata": {},
     "output_type": "execute_result"
    }
   ],
   "source": [
    "nums"
   ]
  },
  {
   "cell_type": "code",
   "execution_count": 9,
   "id": "7245d917",
   "metadata": {},
   "outputs": [
    {
     "data": {
      "text/plain": [
       "array('d', [100.0, 200.0, 300.0, 400.0, 500.0, 600.0, 60.0, 70.0, 80.0])"
      ]
     },
     "execution_count": 9,
     "metadata": {},
     "output_type": "execute_result"
    }
   ],
   "source": [
    "nums[1:5]=arr.array('d',[200,300,400,500,600])\n",
    "nums"
   ]
  },
  {
   "cell_type": "markdown",
   "id": "82f3930a",
   "metadata": {},
   "source": [
    "# Deleting an element"
   ]
  },
  {
   "cell_type": "code",
   "execution_count": 10,
   "id": "bbe6a22e",
   "metadata": {},
   "outputs": [],
   "source": [
    "del(nums[0])"
   ]
  },
  {
   "cell_type": "code",
   "execution_count": 11,
   "id": "7972769c",
   "metadata": {},
   "outputs": [
    {
     "data": {
      "text/plain": [
       "array('d', [200.0, 300.0, 400.0, 500.0, 600.0, 60.0, 70.0, 80.0])"
      ]
     },
     "execution_count": 11,
     "metadata": {},
     "output_type": "execute_result"
    }
   ],
   "source": [
    "nums"
   ]
  },
  {
   "cell_type": "markdown",
   "id": "6eab97aa",
   "metadata": {},
   "source": [
    "# Creating an ID arrays"
   ]
  },
  {
   "cell_type": "code",
   "execution_count": 14,
   "id": "7a36f594",
   "metadata": {},
   "outputs": [
    {
     "name": "stdout",
     "output_type": "stream",
     "text": [
      "[1, 1, 1, 1, 1, 1, 1, 1, 1, 1, 1]\n"
     ]
    }
   ],
   "source": [
    "multi=11\n",
    "\n",
    "one_array=[1]*multi\n",
    "print(one_array)"
   ]
  },
  {
   "cell_type": "code",
   "execution_count": 16,
   "id": "b3a93a46",
   "metadata": {},
   "outputs": [
    {
     "data": {
      "text/plain": [
       "[1, 2, 3, 4, 5, 6, 7, 8, 9, 10]"
      ]
     },
     "execution_count": 16,
     "metadata": {},
     "output_type": "execute_result"
    }
   ],
   "source": [
    "nums_array=[i for i in range(1,multi)]\n",
    "nums_array"
   ]
  },
  {
   "cell_type": "code",
   "execution_count": null,
   "id": "50624ea1",
   "metadata": {},
   "outputs": [],
   "source": []
  }
 ],
 "metadata": {
  "kernelspec": {
   "display_name": "Python 3 (ipykernel)",
   "language": "python",
   "name": "python3"
  },
  "language_info": {
   "codemirror_mode": {
    "name": "ipython",
    "version": 3
   },
   "file_extension": ".py",
   "mimetype": "text/x-python",
   "name": "python",
   "nbconvert_exporter": "python",
   "pygments_lexer": "ipython3",
   "version": "3.9.13"
  }
 },
 "nbformat": 4,
 "nbformat_minor": 5
}
