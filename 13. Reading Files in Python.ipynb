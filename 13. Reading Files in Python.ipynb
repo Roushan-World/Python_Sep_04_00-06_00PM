{
 "cells": [
  {
   "cell_type": "markdown",
   "id": "609fad5f",
   "metadata": {},
   "source": [
    "# 13. Reading Files in Python\n",
    "\n",
    "\n",
    " * __To read a text file in Python, you follow these steps:__\n",
    " \n",
    " * __First, open a text file for reading by using the open() function.__\n",
    " * __Second, read text from the text file using the file read(), readline(), or readlines() method of the file object.__\n",
    " * __Third, close the file using the file close() method, This frees up resources and ensures consistency across different python version.__\n",
    " \n",
    " \n",
    "\n",
    "\n",
    "| Method | Description |  |\n",
    "| :- | -: | :-: |\n",
    "| Writable() | Returns whether the file can be written or not. |  |\n",
    "| --- | --- | --- ||\n",
    "| readable()| Returns whether the file stream can be read or not. | |\n",
    "| --- | --- | --- ||\n",
    "| read() | Returns the file content. | |\n",
    "| --- | --- | --- ||\n",
    "| readline() | Returns one line from the file. | |\n",
    "| --- | --- | --- ||\n",
    "| readlines() | Returns a list of lines from the file. | |\n",
    "| --- | --- | --- ||\n",
    "| write() | Writes the specified string to the file. | |\n",
    "| --- | --- | --- ||\n",
    "| writelines() | Writes a list of strings to the file.  | |\n",
    "| --- | --- | --- ||\n",
    "| close() | Closes the file. | |\n",
    "| --- | --- | --- ||\n",
    "| flush() | Flushes the internal buffer. | |\n",
    "| --- | --- | --- ||\n",
    "| seek() | Changes the file position. | |\n",
    "| --- | --- | --- ||\n",
    "| tell() | Returns the current file. | |\n",
    "| --- | --- | --- ||\n",
    "| truncate() | Resizes the file to a specified. | |"
   ]
  },
  {
   "cell_type": "code",
   "execution_count": 1,
   "id": "b29c8a54",
   "metadata": {},
   "outputs": [
    {
     "data": {
      "text/plain": [
       "'Chandra Shekhar Azad\\n was born on 23 July 1906 in Jujhautiya Brahmins family of Pandit SitaramTiwar i and Jagrani Devi in the bhabara (of jhabua District)|madhy Pradesh. He spent his childhood inthe village Bhabhra when his father was serving in the erstwhile estate of Alirajpur \\nHe got\\n the natural training of a hardy and rough life along with the Bhils who inhabited the wildregion. From his Bhil friends, early in life, be learnt wrestling and swimming. He also became moreskilled with the bow and arrow. He learnt to throw the Bhala or Javelin, to shoot straight, to ride anduse the sword, in all of which he became proficient.\\nFrom\\n his childhood, he remained a devotee of\\nHanuman\\n throughout his life, and had a very strongPehelwan(wrestler)-like body.\\nHe was even called\\n Bhimsen or Bhim Dada later. After the early education in Jhabua, he was sentto theSanskrit Pathashala at Varanasi, where a near relative of the family, probably maternal unclewas then living. He returned home after a few months and he was admitted in the local school at Alirajpur. Again his father sent him to Benares for the boy exhibited a strange waywardness.\\nThis time\\n he remained there and studied properly. On the whole, he was an average student.Political Initiation From the very outset, he had a deep aversion for study which was of no real but tosimply churn out quill drivers or babus for the use of the British Raj in India. His stay at Benareshowever had a salutary effect upon his life, for he came in contact with many young men and ideas.\\nThe atmosphere\\n was such that he got the opportunity of studying many things, especially the unhappy events which were then happeningin the country. Bit by bit, his mind was being drawn to the political situation of the country. Young Chandra Shekhar was f ascinated by anddrawn to the great national upsurge of the non-violent, non-cooperation movement of 1920-21 under the leadership of Mahatma Gandhi.I\\nt is during\\n this time, when the\\nJallianwala Baag massacre\\n by British Army took place in Amritsar where hunderds (at least 2000) unarmed,peaceful and unwarned civilians were fired upon. This event had a profound effect on Indian national movement and inspired several youngIndians, like Azad, into political movement for liberation. The young mind of Chandrashekhar was wax to receive and marble to retain.\\nFrom Chandrashekhar Tewari to Chandrashekhar â€˜Azadâ€™\\nTo protest the massacre and demanding the liberation, various popular activities sprouted up throughout the country. While participating in oneof these movements, Chandra Shekhar was arrested when he was just 16 years of age.He was brought to court. The Magistrate asked him, â€œWhat is your name?\\ngoing to become very famous. He gave his name as â€˜\\nAzadâ€™,\\n his fatherâ€™s name asâ€˜Swatantraâ€™ and his place of dwelling as â€˜prison cellâ€™. Astonished was the Magistrate atthese straight and bold answers. Azad was sentenced to fifteen canes. He wasbeaten very severely. At every beat, his body turned blue and red and blood oozed outfreely. Azad was highly honored by the citizens and profusely garlanded when hecame out from jail. His photos appeared in the Press with streamlined captions.\\nFromhere on, he would be known far and wide as â€˜Azadâ€™, forever.\\n After this incident, Shri Provesh, the chief organiser of the Revolutionary Party in India,sought him and persuaded him to join it. Azad proved to be a restless worker. He issuedsecretly and silently, many leaflets and bulletins to drive away the misconceptionsentertained by the people of the country. He proved a master propagandist. In physicalstrength, none equaled him and he was called Bhim Dada. Other eminent members of the party working along with Azad were Shri Yogesh Chatterji, Shri Sachin Sanyal andShri Rabindranath Kar. Men in the party learned all the arts of modern warfare. The mainproblem was finance. Finances! From where could the money be had? This was themajor issue before the party. To ask openly was impossible and to obtain it secretly was amuch more difficult task.'"
      ]
     },
     "execution_count": 1,
     "metadata": {},
     "output_type": "execute_result"
    }
   ],
   "source": [
    "# Reading the file.\n",
    "\n",
    "file_name='Chandra_Shekhar_Azad.txt'\n",
    "\n",
    "file=open(file_name,'r')\n",
    "content=file.read()\n",
    "content"
   ]
  },
  {
   "cell_type": "code",
   "execution_count": 2,
   "id": "28222502",
   "metadata": {},
   "outputs": [
    {
     "name": "stdout",
     "output_type": "stream",
     "text": [
      "Chandra Shekhar Azad\n",
      " was born on 23 July 1906 in Jujhautiya Brahmins family of Pandit SitaramTiwar i and Jagrani Devi in the bhabara (of jhabua District)|madhy Pradesh. He spent his childhood inthe village Bhabhra when his father was serving in the erstwhile estate of Alirajpur \n",
      "He got\n",
      " the natural training of a hardy and rough life along with the Bhils who inhabited the wildregion. From his Bhil friends, early in life, be learnt wrestling and swimming. He also became moreskilled with the bow and arrow. He learnt to throw the Bhala or Javelin, to shoot straight, to ride anduse the sword, in all of which he became proficient.\n",
      "From\n",
      " his childhood, he remained a devotee of\n",
      "Hanuman\n",
      " throughout his life, and had a very strongPehelwan(wrestler)-like body.\n",
      "He was even called\n",
      " Bhimsen or Bhim Dada later. After the early education in Jhabua, he was sentto theSanskrit Pathashala at Varanasi, where a near relative of the family, probably maternal unclewas then living. He returned home after a few months and he was admitted in the local school at Alirajpur. Again his father sent him to Benares for the boy exhibited a strange waywardness.\n",
      "This time\n",
      " he remained there and studied properly. On the whole, he was an average student.Political Initiation From the very outset, he had a deep aversion for study which was of no real but tosimply churn out quill drivers or babus for the use of the British Raj in India. His stay at Benareshowever had a salutary effect upon his life, for he came in contact with many young men and ideas.\n",
      "The atmosphere\n",
      " was such that he got the opportunity of studying many things, especially the unhappy events which were then happeningin the country. Bit by bit, his mind was being drawn to the political situation of the country. Young Chandra Shekhar was f ascinated by anddrawn to the great national upsurge of the non-violent, non-cooperation movement of 1920-21 under the leadership of Mahatma Gandhi.I\n",
      "t is during\n",
      " this time, when the\n",
      "Jallianwala Baag massacre\n",
      " by British Army took place in Amritsar where hunderds (at least 2000) unarmed,peaceful and unwarned civilians were fired upon. This event had a profound effect on Indian national movement and inspired several youngIndians, like Azad, into political movement for liberation. The young mind of Chandrashekhar was wax to receive and marble to retain.\n",
      "From Chandrashekhar Tewari to Chandrashekhar â€˜Azadâ€™\n",
      "To protest the massacre and demanding the liberation, various popular activities sprouted up throughout the country. While participating in oneof these movements, Chandra Shekhar was arrested when he was just 16 years of age.He was brought to court. The Magistrate asked him, â€œWhat is your name?\n",
      "going to become very famous. He gave his name as â€˜\n",
      "Azadâ€™,\n",
      " his fatherâ€™s name asâ€˜Swatantraâ€™ and his place of dwelling as â€˜prison cellâ€™. Astonished was the Magistrate atthese straight and bold answers. Azad was sentenced to fifteen canes. He wasbeaten very severely. At every beat, his body turned blue and red and blood oozed outfreely. Azad was highly honored by the citizens and profusely garlanded when hecame out from jail. His photos appeared in the Press with streamlined captions.\n",
      "Fromhere on, he would be known far and wide as â€˜Azadâ€™, forever.\n",
      " After this incident, Shri Provesh, the chief organiser of the Revolutionary Party in India,sought him and persuaded him to join it. Azad proved to be a restless worker. He issuedsecretly and silently, many leaflets and bulletins to drive away the misconceptionsentertained by the people of the country. He proved a master propagandist. In physicalstrength, none equaled him and he was called Bhim Dada. Other eminent members of the party working along with Azad were Shri Yogesh Chatterji, Shri Sachin Sanyal andShri Rabindranath Kar. Men in the party learned all the arts of modern warfare. The mainproblem was finance. Finances! From where could the money be had? This was themajor issue before the party. To ask openly was impossible and to obtain it secretly was amuch more difficult task.\n"
     ]
    }
   ],
   "source": [
    "print(content)"
   ]
  },
  {
   "cell_type": "code",
   "execution_count": 10,
   "id": "345ad136",
   "metadata": {},
   "outputs": [
    {
     "name": "stdout",
     "output_type": "stream",
     "text": [
      "Chandra_Shekhar_Azad.txt\n",
      "r\n",
      "Chandra Shekhar Azad\n",
      " was born on 23 July 1906 in Jujhautiya Brahmins family of Pandit SitaramTiwar i and Jagrani Devi in the bhabara (of jhabua District)|madhy Pradesh. He spent his childhood inthe village Bhabhra when his father was serving in the erstwhile estate of Alirajpur \n",
      "He got\n",
      " the natural training of a hardy and rough life along with the Bhils who inhabited the wildregion. From his Bhil friends, early in life, be learnt wrestling and swimming. He also became moreskilled with the bow and arrow. He learnt to throw the Bhala or Javelin, to shoot straight, to ride anduse the sword, in all of which he became proficient.\n",
      "From\n",
      " his childhood, he remained a devotee of\n",
      "Hanuman\n",
      " throughout his life, and had a very strongPehelwan(wrestler)-like body.\n",
      "He was even called\n",
      " Bhimsen or Bhim Dada later. After the early education in Jhabua, he was sentto theSanskrit Pathashala at Varanasi, where a near relative of the family, probably maternal unclewas then living. He returned home after a few months and he was admitted in the local school at Alirajpur. Again his father sent him to Benares for the boy exhibited a strange waywardness.\n",
      "This time\n",
      " he remained there and studied properly. On the whole, he was an average student.Political Initiation From the very outset, he had a deep aversion for study which was of no real but tosimply churn out quill drivers or babus for the use of the British Raj in India. His stay at Benareshowever had a salutary effect upon his life, for he came in contact with many young men and ideas.\n",
      "The atmosphere\n",
      " was such that he got the opportunity of studying many things, especially the unhappy events which were then happeningin the country. Bit by bit, his mind was being drawn to the political situation of the country. Young Chandra Shekhar was f ascinated by anddrawn to the great national upsurge of the non-violent, non-cooperation movement of 1920-21 under the leadership of Mahatma Gandhi.I\n",
      "t is during\n",
      " this time, when the\n",
      "Jallianwala Baag massacre\n",
      " by British Army took place in Amritsar where hunderds (at least 2000) unarmed,peaceful and unwarned civilians were fired upon. This event had a profound effect on Indian national movement and inspired several youngIndians, like Azad, into political movement for liberation. The young mind of Chandrashekhar was wax to receive and marble to retain.\n",
      "From Chandrashekhar Tewari to Chandrashekhar â€˜Azadâ€™\n",
      "To protest the massacre and demanding the liberation, various popular activities sprouted up throughout the country. While participating in oneof these movements, Chandra Shekhar was arrested when he was just 16 years of age.He was brought to court. The Magistrate asked him, â€œWhat is your name?\n",
      "going to become very famous. He gave his name as â€˜\n",
      "Azadâ€™,\n",
      " his fatherâ€™s name asâ€˜Swatantraâ€™ and his place of dwelling as â€˜prison cellâ€™. Astonished was the Magistrate atthese straight and bold answers. Azad was sentenced to fifteen canes. He wasbeaten very severely. At every beat, his body turned blue and red and blood oozed outfreely. Azad was highly honored by the citizens and profusely garlanded when hecame out from jail. His photos appeared in the Press with streamlined captions.\n",
      "Fromhere on, he would be known far and wide as â€˜Azadâ€™, forever.\n",
      " After this incident, Shri Provesh, the chief organiser of the Revolutionary Party in India,sought him and persuaded him to join it. Azad proved to be a restless worker. He issuedsecretly and silently, many leaflets and bulletins to drive away the misconceptionsentertained by the people of the country. He proved a master propagandist. In physicalstrength, none equaled him and he was called Bhim Dada. Other eminent members of the party working along with Azad were Shri Yogesh Chatterji, Shri Sachin Sanyal andShri Rabindranath Kar. Men in the party learned all the arts of modern warfare. The mainproblem was finance. Finances! From where could the money be had? This was themajor issue before the party. To ask openly was impossible and to obtain it secretly was amuch more difficult task.\n",
      "<class 'str'>\n"
     ]
    }
   ],
   "source": [
    "# printing the file path\n",
    "\n",
    "print(file.name)\n",
    "\n",
    "\n",
    "# print the mode of file\n",
    "\n",
    "print(file.mode)\n",
    "\n",
    "# printing the file with new line\n",
    "print(content)\n",
    "\n",
    "# printing the type of file.\n",
    "print(type(content))"
   ]
  },
  {
   "cell_type": "code",
   "execution_count": 11,
   "id": "fcd6615c",
   "metadata": {},
   "outputs": [
    {
     "data": {
      "text/plain": [
       "'Chandra Shekhar Azad\\n was born on 23 July 1906 in Jujhautiya Brahmins family of Pandit SitaramTiwar i and Jagrani Devi in the bhabara (of jhabua District)|madhy Pradesh. He spent his childhood inthe village Bhabhra when his father was serving in the erstwhile estate of Alirajpur \\nHe got\\n the natural training of a hardy and rough life along with the Bhils who inhabited the wildregion. From his Bhil friends, early in life, be learnt wrestling and swimming. He also became moreskilled with the bow and arrow. He learnt to throw the Bhala or Javelin, to shoot straight, to ride anduse the sword, in all of which he became proficient.\\nFrom\\n his childhood, he remained a devotee of\\nHanuman\\n throughout his life, and had a very strongPehelwan(wrestler)-like body.\\nHe was even called\\n Bhimsen or Bhim Dada later. After the early education in Jhabua, he was sentto theSanskrit Pathashala at Varanasi, where a near relative of the family, probably maternal unclewas then living. He returned home after a few months and he was admitted in the local school at Alirajpur. Again his father sent him to Benares for the boy exhibited a strange waywardness.\\nThis time\\n he remained there and studied properly. On the whole, he was an average student.Political Initiation From the very outset, he had a deep aversion for study which was of no real but tosimply churn out quill drivers or babus for the use of the British Raj in India. His stay at Benareshowever had a salutary effect upon his life, for he came in contact with many young men and ideas.\\nThe atmosphere\\n was such that he got the opportunity of studying many things, especially the unhappy events which were then happeningin the country. Bit by bit, his mind was being drawn to the political situation of the country. Young Chandra Shekhar was f ascinated by anddrawn to the great national upsurge of the non-violent, non-cooperation movement of 1920-21 under the leadership of Mahatma Gandhi.I\\nt is during\\n this time, when the\\nJallianwala Baag massacre\\n by British Army took place in Amritsar where hunderds (at least 2000) unarmed,peaceful and unwarned civilians were fired upon. This event had a profound effect on Indian national movement and inspired several youngIndians, like Azad, into political movement for liberation. The young mind of Chandrashekhar was wax to receive and marble to retain.\\nFrom Chandrashekhar Tewari to Chandrashekhar â€˜Azadâ€™\\nTo protest the massacre and demanding the liberation, various popular activities sprouted up throughout the country. While participating in oneof these movements, Chandra Shekhar was arrested when he was just 16 years of age.He was brought to court. The Magistrate asked him, â€œWhat is your name?\\ngoing to become very famous. He gave his name as â€˜\\nAzadâ€™,\\n his fatherâ€™s name asâ€˜Swatantraâ€™ and his place of dwelling as â€˜prison cellâ€™. Astonished was the Magistrate atthese straight and bold answers. Azad was sentenced to fifteen canes. He wasbeaten very severely. At every beat, his body turned blue and red and blood oozed outfreely. Azad was highly honored by the citizens and profusely garlanded when hecame out from jail. His photos appeared in the Press with streamlined captions.\\nFromhere on, he would be known far and wide as â€˜Azadâ€™, forever.\\n After this incident, Shri Provesh, the chief organiser of the Revolutionary Party in India,sought him and persuaded him to join it. Azad proved to be a restless worker. He issuedsecretly and silently, many leaflets and bulletins to drive away the misconceptionsentertained by the people of the country. He proved a master propagandist. In physicalstrength, none equaled him and he was called Bhim Dada. Other eminent members of the party working along with Azad were Shri Yogesh Chatterji, Shri Sachin Sanyal andShri Rabindranath Kar. Men in the party learned all the arts of modern warfare. The mainproblem was finance. Finances! From where could the money be had? This was themajor issue before the party. To ask openly was impossible and to obtain it secretly was amuch more difficult task.'"
      ]
     },
     "execution_count": 11,
     "metadata": {},
     "output_type": "execute_result"
    }
   ],
   "source": [
    "content"
   ]
  },
  {
   "cell_type": "code",
   "execution_count": 12,
   "id": "2d79db74",
   "metadata": {},
   "outputs": [
    {
     "name": "stdout",
     "output_type": "stream",
     "text": [
      "Chandra Shekhar Azad\n",
      " was born on 23 July 1906 in Jujhautiya Brahmins family of Pandit SitaramTiwar i and Jagrani Devi in the bhabara (of jhabua District)|madhy Pradesh. He spent his childhood inthe village Bhabhra when his father was serving in the erstwhile estate of Alirajpur \n",
      "He got\n",
      " the natural training of a hardy and rough life along with the Bhils who inhabited the wildregion. From his Bhil friends, early in life, be learnt wrestling and swimming. He also became moreskilled with the bow and arrow. He learnt to throw the Bhala or Javelin, to shoot straight, to ride anduse the sword, in all of which he became proficient.\n",
      "From\n",
      " his childhood, he remained a devotee of\n",
      "Hanuman\n",
      " throughout his life, and had a very strongPehelwan(wrestler)-like body.\n",
      "He was even called\n",
      " Bhimsen or Bhim Dada later. After the early education in Jhabua, he was sentto theSanskrit Pathashala at Varanasi, where a near relative of the family, probably maternal unclewas then living. He returned home after a few months and he was admitted in the local school at Alirajpur. Again his father sent him to Benares for the boy exhibited a strange waywardness.\n",
      "This time\n",
      " he remained there and studied properly. On the whole, he was an average student.Political Initiation From the very outset, he had a deep aversion for study which was of no real but tosimply churn out quill drivers or babus for the use of the British Raj in India. His stay at Benareshowever had a salutary effect upon his life, for he came in contact with many young men and ideas.\n",
      "The atmosphere\n",
      " was such that he got the opportunity of studying many things, especially the unhappy events which were then happeningin the country. Bit by bit, his mind was being drawn to the political situation of the country. Young Chandra Shekhar was f ascinated by anddrawn to the great national upsurge of the non-violent, non-cooperation movement of 1920-21 under the leadership of Mahatma Gandhi.I\n",
      "t is during\n",
      " this time, when the\n",
      "Jallianwala Baag massacre\n",
      " by British Army took place in Amritsar where hunderds (at least 2000) unarmed,peaceful and unwarned civilians were fired upon. This event had a profound effect on Indian national movement and inspired several youngIndians, like Azad, into political movement for liberation. The young mind of Chandrashekhar was wax to receive and marble to retain.\n",
      "From Chandrashekhar Tewari to Chandrashekhar â€˜Azadâ€™\n",
      "To protest the massacre and demanding the liberation, various popular activities sprouted up throughout the country. While participating in oneof these movements, Chandra Shekhar was arrested when he was just 16 years of age.He was brought to court. The Magistrate asked him, â€œWhat is your name?\n",
      "going to become very famous. He gave his name as â€˜\n",
      "Azadâ€™,\n",
      " his fatherâ€™s name asâ€˜Swatantraâ€™ and his place of dwelling as â€˜prison cellâ€™. Astonished was the Magistrate atthese straight and bold answers. Azad was sentenced to fifteen canes. He wasbeaten very severely. At every beat, his body turned blue and red and blood oozed outfreely. Azad was highly honored by the citizens and profusely garlanded when hecame out from jail. His photos appeared in the Press with streamlined captions.\n",
      "Fromhere on, he would be known far and wide as â€˜Azadâ€™, forever.\n",
      " After this incident, Shri Provesh, the chief organiser of the Revolutionary Party in India,sought him and persuaded him to join it. Azad proved to be a restless worker. He issuedsecretly and silently, many leaflets and bulletins to drive away the misconceptionsentertained by the people of the country. He proved a master propagandist. In physicalstrength, none equaled him and he was called Bhim Dada. Other eminent members of the party working along with Azad were Shri Yogesh Chatterji, Shri Sachin Sanyal andShri Rabindranath Kar. Men in the party learned all the arts of modern warfare. The mainproblem was finance. Finances! From where could the money be had? This was themajor issue before the party. To ask openly was impossible and to obtain it secretly was amuch more difficult task.\n"
     ]
    }
   ],
   "source": [
    "# Other way to open the file.\n",
    "fname='Chandra_Shekhar_Azad.txt'\n",
    "with open(fname,'r') as f:\n",
    "    content=f.read()\n",
    "    print(content)"
   ]
  },
  {
   "cell_type": "code",
   "execution_count": 20,
   "id": "aeaac2f1",
   "metadata": {},
   "outputs": [
    {
     "name": "stdout",
     "output_type": "stream",
     "text": [
      "Chandra Shekhar Azad\n",
      " was born\n",
      " on 23 July 1906 in Jujhautiya Brahmins family of Pandit SitaramTiwar i and Jagrani Devi in the bhab\n",
      "ara (of jhabua District)|madhy Pradesh. He spent his childhood inthe village Bhabhra when his father was serving in the erstwhile estate of Alirajpur \n",
      "He got\n",
      " the natural training of a hardy and rough life along with the Bhils who inhabited the wildregion. From his Bhil friends, early in life, be learnt wrestling and swimming. He also became moreskilled with the bow and arrow. He learnt to throw the Bhala or Javelin, to shoot straight, to ride anduse the sword, in all of which he became proficient.\n",
      "From\n",
      " his childhood, he remained a devotee of\n",
      "Hanuman\n",
      " throughout his life, and had a very strongPehelwan(wrestler)-like body.\n",
      "He was even called\n",
      " Bhimsen or Bhim Dada later. After the early education in Jhabua, he was sentto theSanskrit Pathashala at Varanasi, where a near relative of the family, probably maternal unclewas then living. He returned home after a few months and he was admitted in the local school at Alirajpur. Again his father sent him to Benares for the boy exhibited a strang\n"
     ]
    }
   ],
   "source": [
    "# Reading cetain amount of characters in the file.\n",
    "\n",
    "with open(fname,'r') as f:\n",
    "    print(f.read(30))\n",
    "    print(f.read(100))\n",
    "    print(f.read(1000))"
   ]
  },
  {
   "cell_type": "code",
   "execution_count": 29,
   "id": "c5c2daed",
   "metadata": {},
   "outputs": [
    {
     "name": "stdout",
     "output_type": "stream",
     "text": [
      "The first line is: Chandra Shekhar Azad\n",
      "\n",
      "The Second line is:  was born on 23 July 1906 in Jujhautiya Brahmins family of Pandit SitaramTiwar i and Jagrani Devi in the bhabara (of jhabua District)|madhy Pradesh. He spent his childhood inthe village Bhabhra when his father was serving in the erstwhile estate of Alirajpur \n",
      "\n",
      "The Third line is: He got\n",
      "\n"
     ]
    }
   ],
   "source": [
    "# Reading certain amount of lines\n",
    "\n",
    "\n",
    "with open(fname,'r') as x:\n",
    "    print(\"The first line is:\",x.readline())\n",
    "    print(\"The Second line is:\",x.readline())\n",
    "    print(\"The Third line is:\",x.readline())\n",
    "    "
   ]
  },
  {
   "cell_type": "code",
   "execution_count": 30,
   "id": "9ded4674",
   "metadata": {},
   "outputs": [
    {
     "name": "stdout",
     "output_type": "stream",
     "text": [
      "Line Number 1 : Chandra Shekhar Azad\n",
      "\n",
      "Line Number 2 :  was born on 23 July 1906 in Jujhautiya Brahmins family of Pandit SitaramTiwar i and Jagrani Devi in the bhabara (of jhabua District)|madhy Pradesh. He spent his childhood inthe village Bhabhra when his father was serving in the erstwhile estate of Alirajpur \n",
      "\n",
      "Line Number 3 : He got\n",
      "\n",
      "Line Number 4 :  the natural training of a hardy and rough life along with the Bhils who inhabited the wildregion. From his Bhil friends, early in life, be learnt wrestling and swimming. He also became moreskilled with the bow and arrow. He learnt to throw the Bhala or Javelin, to shoot straight, to ride anduse the sword, in all of which he became proficient.\n",
      "\n",
      "Line Number 5 : From\n",
      "\n",
      "Line Number 6 :  his childhood, he remained a devotee of\n",
      "\n",
      "Line Number 7 : Hanuman\n",
      "\n",
      "Line Number 8 :  throughout his life, and had a very strongPehelwan(wrestler)-like body.\n",
      "\n",
      "Line Number 9 : He was even called\n",
      "\n",
      "Line Number 10 :  Bhimsen or Bhim Dada later. After the early education in Jhabua, he was sentto theSanskrit Pathashala at Varanasi, where a near relative of the family, probably maternal unclewas then living. He returned home after a few months and he was admitted in the local school at Alirajpur. Again his father sent him to Benares for the boy exhibited a strange waywardness.\n",
      "\n",
      "Line Number 11 : This time\n",
      "\n",
      "Line Number 12 :  he remained there and studied properly. On the whole, he was an average student.Political Initiation From the very outset, he had a deep aversion for study which was of no real but tosimply churn out quill drivers or babus for the use of the British Raj in India. His stay at Benareshowever had a salutary effect upon his life, for he came in contact with many young men and ideas.\n",
      "\n",
      "Line Number 13 : The atmosphere\n",
      "\n",
      "Line Number 14 :  was such that he got the opportunity of studying many things, especially the unhappy events which were then happeningin the country. Bit by bit, his mind was being drawn to the political situation of the country. Young Chandra Shekhar was f ascinated by anddrawn to the great national upsurge of the non-violent, non-cooperation movement of 1920-21 under the leadership of Mahatma Gandhi.I\n",
      "\n",
      "Line Number 15 : t is during\n",
      "\n",
      "Line Number 16 :  this time, when the\n",
      "\n",
      "Line Number 17 : Jallianwala Baag massacre\n",
      "\n",
      "Line Number 18 :  by British Army took place in Amritsar where hunderds (at least 2000) unarmed,peaceful and unwarned civilians were fired upon. This event had a profound effect on Indian national movement and inspired several youngIndians, like Azad, into political movement for liberation. The young mind of Chandrashekhar was wax to receive and marble to retain.\n",
      "\n",
      "Line Number 19 : From Chandrashekhar Tewari to Chandrashekhar â€˜Azadâ€™\n",
      "\n",
      "Line Number 20 : To protest the massacre and demanding the liberation, various popular activities sprouted up throughout the country. While participating in oneof these movements, Chandra Shekhar was arrested when he was just 16 years of age.He was brought to court. The Magistrate asked him, â€œWhat is your name?\n",
      "\n",
      "Line Number 21 : going to become very famous. He gave his name as â€˜\n",
      "\n",
      "Line Number 22 : Azadâ€™,\n",
      "\n",
      "Line Number 23 :  his fatherâ€™s name asâ€˜Swatantraâ€™ and his place of dwelling as â€˜prison cellâ€™. Astonished was the Magistrate atthese straight and bold answers. Azad was sentenced to fifteen canes. He wasbeaten very severely. At every beat, his body turned blue and red and blood oozed outfreely. Azad was highly honored by the citizens and profusely garlanded when hecame out from jail. His photos appeared in the Press with streamlined captions.\n",
      "\n",
      "Line Number 24 : Fromhere on, he would be known far and wide as â€˜Azadâ€™, forever.\n",
      "\n",
      "Line Number 25 :  After this incident, Shri Provesh, the chief organiser of the Revolutionary Party in India,sought him and persuaded him to join it. Azad proved to be a restless worker. He issuedsecretly and silently, many leaflets and bulletins to drive away the misconceptionsentertained by the people of the country. He proved a master propagandist. In physicalstrength, none equaled him and he was called Bhim Dada. Other eminent members of the party working along with Azad were Shri Yogesh Chatterji, Shri Sachin Sanyal andShri Rabindranath Kar. Men in the party learned all the arts of modern warfare. The mainproblem was finance. Finances! From where could the money be had? This was themajor issue before the party. To ask openly was impossible and to obtain it secretly was amuch more difficult task.\n"
     ]
    }
   ],
   "source": [
    "with open(fname,'r') as y:\n",
    "    line_number=1\n",
    "    for i in y:\n",
    "        print(\"Line Number\",str(line_number),\":\",i)  # Line Number 1 :\n",
    "        line_number+=1"
   ]
  },
  {
   "cell_type": "code",
   "execution_count": 31,
   "id": "d99890e4",
   "metadata": {},
   "outputs": [
    {
     "name": "stdout",
     "output_type": "stream",
     "text": [
      "Chandra Shekhar Azad\n",
      " was born on 23 July 1906 in Jujhautiya Brahmins family of Pandit SitaramTiwar i and Jagrani Devi in the bhabara (of jhabua District)|madhy Pradesh. He spent his childhood inthe village Bhabhra when his father was serving in the erstwhile estate of Alirajpur \n",
      "He got\n",
      " the natural training of a hardy and rough life along with the Bhils who inhabited the wildregion. From his Bhil friends, early in life, be learnt wrestling and swimming. He also became moreskilled with the bow and arrow. He learnt to throw the Bhala or Javelin, to shoot straight, to ride anduse the sword, in all of which he became proficient.\n",
      "From\n",
      " his childhood, he remained a devotee of\n",
      "Hanuman\n",
      " throughout his life, and had a very strongPehelwan(wrestler)-like body.\n",
      "He was even called\n",
      " Bhimsen or Bhim Dada later. After the early education in Jhabua, he was sentto theSanskrit Pathashala at Varanasi, where a near relative of the family, probably maternal unclewas then living. He returned home after a few months and he was admitted in the local school at Alirajpur. Again his father sent him to Benares for the boy exhibited a strange waywardness.\n",
      "This time\n",
      " he remained there and studied properly. On the whole, he was an average student.Political Initiation From the very outset, he had a deep aversion for study which was of no real but tosimply churn out quill drivers or babus for the use of the British Raj in India. His stay at Benareshowever had a salutary effect upon his life, for he came in contact with many young men and ideas.\n",
      "The atmosphere\n",
      " was such that he got the opportunity of studying many things, especially the unhappy events which were then happeningin the country. Bit by bit, his mind was being drawn to the political situation of the country. Young Chandra Shekhar was f ascinated by anddrawn to the great national upsurge of the non-violent, non-cooperation movement of 1920-21 under the leadership of Mahatma Gandhi.I\n",
      "t is during\n",
      " this time, when the\n",
      "Jallianwala Baag massacre\n",
      " by British Army took place in Amritsar where hunderds (at least 2000) unarmed,peaceful and unwarned civilians were fired upon. This event had a profound effect on Indian national movement and inspired several youngIndians, like Azad, into political movement for liberation. The young mind of Chandrashekhar was wax to receive and marble to retain.\n",
      "From Chandrashekhar Tewari to Chandrashekhar â€˜Azadâ€™\n",
      "To protest the massacre and demanding the liberation, various popular activities sprouted up throughout the country. While participating in oneof these movements, Chandra Shekhar was arrested when he was just 16 years of age.He was brought to court. The Magistrate asked him, â€œWhat is your name?\n",
      "going to become very famous. He gave his name as â€˜\n",
      "Azadâ€™,\n",
      " his fatherâ€™s name asâ€˜Swatantraâ€™ and his place of dwelling as â€˜prison cellâ€™. Astonished was the Magistrate atthese straight and bold answers. Azad was sentenced to fifteen canes. He wasbeaten very severely. At every beat, his body turned blue and red and blood oozed outfreely. Azad was highly honored by the citizens and profusely garlanded when hecame out from jail. His photos appeared in the Press with streamlined captions.\n",
      "Fromhere on, he would be known far and wide as â€˜Azadâ€™, forever.\n",
      " After this incident, Shri Provesh, the chief organiser of the Revolutionary Party in India,sought him and persuaded him to join it. Azad proved to be a restless worker. He issuedsecretly and silently, many leaflets and bulletins to drive away the misconceptionsentertained by the people of the country. He proved a master propagandist. In physicalstrength, none equaled him and he was called Bhim Dada. Other eminent members of the party working along with Azad were Shri Yogesh Chatterji, Shri Sachin Sanyal andShri Rabindranath Kar. Men in the party learned all the arts of modern warfare. The mainproblem was finance. Finances! From where could the money be had? This was themajor issue before the party. To ask openly was impossible and to obtain it secretly was amuch more difficult task.\n"
     ]
    }
   ],
   "source": [
    "def file(x):\n",
    "    file1=open(file_name,'r')\n",
    "    content2=file1.read()\n",
    "    print(content2)\n",
    "    \n",
    "    \n",
    "file(\"Chandra_Shekhar_Azad.txt\")"
   ]
  },
  {
   "cell_type": "code",
   "execution_count": 32,
   "id": "c4c4c294",
   "metadata": {},
   "outputs": [
    {
     "name": "stdout",
     "output_type": "stream",
     "text": [
      "Chandra Shekhar Azad\n",
      " was born on 23 July 1906 in Jujhautiya Brahmins family of Pandit SitaramTiwar i and Jagrani Devi in the bhabara (of jhabua District)|madhy Pradesh. He spent his childhood inthe village Bhabhra when his father was serving in the erstwhile estate of Alirajpur \n",
      "He got\n",
      " the natural training of a hardy and rough life along with the Bhils who inhabited the wildregion. From his Bhil friends, early in life, be learnt wrestling and swimming. He also became moreskilled with the bow and arrow. He learnt to throw the Bhala or Javelin, to shoot straight, to ride anduse the sword, in all of which he became proficient.\n",
      "From\n",
      " his childhood, he remained a devotee of\n",
      "Hanuman\n",
      " throughout his life, and had a very strongPehelwan(wrestler)-like body.\n",
      "He was even called\n",
      " Bhimsen or Bhim Dada later. After the early education in Jhabua, he was sentto theSanskrit Pathashala at Varanasi, where a near relative of the family, probably maternal unclewas then living. He returned home after a few months and he was admitted in the local school at Alirajpur. Again his father sent him to Benares for the boy exhibited a strange waywardness.\n",
      "This time\n",
      " he remained there and studied properly. On the whole, he was an average student.Political Initiation From the very outset, he had a deep aversion for study which was of no real but tosimply churn out quill drivers or babus for the use of the British Raj in India. His stay at Benareshowever had a salutary effect upon his life, for he came in contact with many young men and ideas.\n",
      "The atmosphere\n",
      " was such that he got the opportunity of studying many things, especially the unhappy events which were then happeningin the country. Bit by bit, his mind was being drawn to the political situation of the country. Young Chandra Shekhar was f ascinated by anddrawn to the great national upsurge of the non-violent, non-cooperation movement of 1920-21 under the leadership of Mahatma Gandhi.I\n",
      "t is during\n",
      " this time, when the\n",
      "Jallianwala Baag massacre\n",
      " by British Army took place in Amritsar where hunderds (at least 2000) unarmed,peaceful and unwarned civilians were fired upon. This event had a profound effect on Indian national movement and inspired several youngIndians, like Azad, into political movement for liberation. The young mind of Chandrashekhar was wax to receive and marble to retain.\n",
      "From Chandrashekhar Tewari to Chandrashekhar â€˜Azadâ€™\n",
      "To protest the massacre and demanding the liberation, various popular activities sprouted up throughout the country. While participating in oneof these movements, Chandra Shekhar was arrested when he was just 16 years of age.He was brought to court. The Magistrate asked him, â€œWhat is your name?\n",
      "going to become very famous. He gave his name as â€˜\n",
      "Azadâ€™,\n",
      " his fatherâ€™s name asâ€˜Swatantraâ€™ and his place of dwelling as â€˜prison cellâ€™. Astonished was the Magistrate atthese straight and bold answers. Azad was sentenced to fifteen canes. He wasbeaten very severely. At every beat, his body turned blue and red and blood oozed outfreely. Azad was highly honored by the citizens and profusely garlanded when hecame out from jail. His photos appeared in the Press with streamlined captions.\n",
      "Fromhere on, he would be known far and wide as â€˜Azadâ€™, forever.\n",
      " After this incident, Shri Provesh, the chief organiser of the Revolutionary Party in India,sought him and persuaded him to join it. Azad proved to be a restless worker. He issuedsecretly and silently, many leaflets and bulletins to drive away the misconceptionsentertained by the people of the country. He proved a master propagandist. In physicalstrength, none equaled him and he was called Bhim Dada. Other eminent members of the party working along with Azad were Shri Yogesh Chatterji, Shri Sachin Sanyal andShri Rabindranath Kar. Men in the party learned all the arts of modern warfare. The mainproblem was finance. Finances! From where could the money be had? This was themajor issue before the party. To ask openly was impossible and to obtain it secretly was amuch more difficult task.\n"
     ]
    }
   ],
   "source": [
    "# Open file using class and object.\n",
    "\n",
    "\n",
    "class files_class():\n",
    "    def __init__(self,name2):\n",
    "        self.name2=name2\n",
    "    def openfile(self):\n",
    "        with open(self.name2,'r') as f:\n",
    "            content=f.read()\n",
    "            print(content)\n",
    "            \n",
    "            \n",
    "name2='Chandra_Shekhar_Azad.txt'\n",
    "value=files_class(name2)\n",
    "value.openfile()"
   ]
  },
  {
   "cell_type": "code",
   "execution_count": 35,
   "id": "0ef85e45",
   "metadata": {},
   "outputs": [
    {
     "name": "stdout",
     "output_type": "stream",
     "text": [
      "My name is Tejal,Ashish,Mehul.\n"
     ]
    }
   ],
   "source": [
    "name3='class.txt'\n",
    "value2=files_class(name3)\n",
    "value2.openfile()"
   ]
  },
  {
   "cell_type": "code",
   "execution_count": 3,
   "id": "fcff1433",
   "metadata": {},
   "outputs": [
    {
     "name": "stdout",
     "output_type": "stream",
     "text": [
      "Enter the name of your File:Chandra_Shekhar_Azad.txt\n",
      "Chandra Shekhar Azad\n",
      " was born on 23 July 1906 in Jujhautiya Brahmins family of Pandit SitaramTiwar i and Jagrani Devi in the bhabara (of jhabua District)|madhy Pradesh. He spent his childhood inthe village Bhabhra when his father was serving in the erstwhile estate of Alirajpur \n",
      "He got\n",
      " the natural training of a hardy and rough life along with the Bhils who inhabited the wildregion. From his Bhil friends, early in life, be learnt wrestling and swimming. He also became moreskilled with the bow and arrow. He learnt to throw the Bhala or Javelin, to shoot straight, to ride anduse the sword, in all of which he became proficient.\n",
      "From\n",
      " his childhood, he remained a devotee of\n",
      "Hanuman\n",
      " throughout his life, and had a very strongPehelwan(wrestler)-like body.\n",
      "He was even called\n",
      " Bhimsen or Bhim Dada later. After the early education in Jhabua, he was sentto theSanskrit Pathashala at Varanasi, where a near relative of the family, probably maternal unclewas then living. He returned home after a few months and he was admitted in the local school at Alirajpur. Again his father sent him to Benares for the boy exhibited a strange waywardness.\n",
      "This time\n",
      " he remained there and studied properly. On the whole, he was an average student.Political Initiation From the very outset, he had a deep aversion for study which was of no real but tosimply churn out quill drivers or babus for the use of the British Raj in India. His stay at Benareshowever had a salutary effect upon his life, for he came in contact with many young men and ideas.\n",
      "The atmosphere\n",
      " was such that he got the opportunity of studying many things, especially the unhappy events which were then happeningin the country. Bit by bit, his mind was being drawn to the political situation of the country. Young Chandra Shekhar was f ascinated by anddrawn to the great national upsurge of the non-violent, non-cooperation movement of 1920-21 under the leadership of Mahatma Gandhi.I\n",
      "t is during\n",
      " this time, when the\n",
      "Jallianwala Baag massacre\n",
      " by British Army took place in Amritsar where hunderds (at least 2000) unarmed,peaceful and unwarned civilians were fired upon. This event had a profound effect on Indian national movement and inspired several youngIndians, like Azad, into political movement for liberation. The young mind of Chandrashekhar was wax to receive and marble to retain.\n",
      "From Chandrashekhar Tewari to Chandrashekhar â€˜Azadâ€™\n",
      "To protest the massacre and demanding the liberation, various popular activities sprouted up throughout the country. While participating in oneof these movements, Chandra Shekhar was arrested when he was just 16 years of age.He was brought to court. The Magistrate asked him, â€œWhat is your name?\n",
      "going to become very famous. He gave his name as â€˜\n",
      "Azadâ€™,\n",
      " his fatherâ€™s name asâ€˜Swatantraâ€™ and his place of dwelling as â€˜prison cellâ€™. Astonished was the Magistrate atthese straight and bold answers. Azad was sentenced to fifteen canes. He wasbeaten very severely. At every beat, his body turned blue and red and blood oozed outfreely. Azad was highly honored by the citizens and profusely garlanded when hecame out from jail. His photos appeared in the Press with streamlined captions.\n",
      "Fromhere on, he would be known far and wide as â€˜Azadâ€™, forever.\n",
      " After this incident, Shri Provesh, the chief organiser of the Revolutionary Party in India,sought him and persuaded him to join it. Azad proved to be a restless worker. He issuedsecretly and silently, many leaflets and bulletins to drive away the misconceptionsentertained by the people of the country. He proved a master propagandist. In physicalstrength, none equaled him and he was called Bhim Dada. Other eminent members of the party working along with Azad were Shri Yogesh Chatterji, Shri Sachin Sanyal andShri Rabindranath Kar. Men in the party learned all the arts of modern warfare. The mainproblem was finance. Finances! From where could the money be had? This was themajor issue before the party. To ask openly was impossible and to obtain it secretly was amuch more difficult task.\n"
     ]
    }
   ],
   "source": [
    "try:\n",
    "    name=input(\"Enter the name of your File:\")\n",
    "    with open(name,'r') as f:\n",
    "        content=f.read()\n",
    "        print(content)\n",
    "        \n",
    "except FileNotFoundError:\n",
    "    print(\"The Name of your file dont's not Exists.\")"
   ]
  },
  {
   "cell_type": "code",
   "execution_count": 5,
   "id": "b78b7403",
   "metadata": {},
   "outputs": [
    {
     "data": {
      "text/plain": [
       "4069"
      ]
     },
     "execution_count": 5,
     "metadata": {},
     "output_type": "execute_result"
    }
   ],
   "source": [
    "len(content)"
   ]
  },
  {
   "cell_type": "code",
   "execution_count": 11,
   "id": "e7eded0f",
   "metadata": {},
   "outputs": [
    {
     "name": "stdout",
     "output_type": "stream",
     "text": [
      "The total Characters of the text is:4069\n",
      "Total characters without spaces: 3420\n"
     ]
    }
   ],
   "source": [
    "with open(name,'r') as f:\n",
    "    str=''\n",
    "    for line in f:\n",
    "        str+=line\n",
    "    print(f\"The total Characters of the text is:{len(str)}\")\n",
    "    print(\"Total characters without spaces:\",len(content.replace(' ','')))"
   ]
  },
  {
   "cell_type": "code",
   "execution_count": null,
   "id": "dddb067d",
   "metadata": {},
   "outputs": [],
   "source": []
  }
 ],
 "metadata": {
  "kernelspec": {
   "display_name": "Python 3 (ipykernel)",
   "language": "python",
   "name": "python3"
  },
  "language_info": {
   "codemirror_mode": {
    "name": "ipython",
    "version": 3
   },
   "file_extension": ".py",
   "mimetype": "text/x-python",
   "name": "python",
   "nbconvert_exporter": "python",
   "pygments_lexer": "ipython3",
   "version": "3.9.13"
  }
 },
 "nbformat": 4,
 "nbformat_minor": 5
}
