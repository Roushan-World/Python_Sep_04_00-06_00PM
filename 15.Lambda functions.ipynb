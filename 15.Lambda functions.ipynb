{
 "cells": [
  {
   "cell_type": "markdown",
   "id": "abf2fee1",
   "metadata": {},
   "source": [
    "# 15. Lambda Functions in Python\n",
    "\n",
    " * __A lambda function is small anonymous functions.__\n",
    " * __A lambda function can take any number of arguments, but can only have one expression.__\n",
    " * __The expression is evaluated and returned.__\n",
    " * __Lambda functions can be used wherever function objects are required.__\n",
    " * __Lambda expression(or lambda functions) are essentially blocks of code that can be assigned to variables, passed as an arguments, or returned from a function call, in languages that support high-order functions.__\n",
    " * __They have been part of programming languages for quire some time.__\n",
    " * __The main role of lambda function is better described in the scenarios when we employ them anonymously inside another functions.__\n",
    " * __n Python, the lambda function can be utilized as an arguments to the high order functions as an arguments.__"
   ]
  },
  {
   "cell_type": "code",
   "execution_count": 1,
   "id": "46c008f1",
   "metadata": {},
   "outputs": [
    {
     "name": "stdout",
     "output_type": "stream",
     "text": [
      "16\n"
     ]
    }
   ],
   "source": [
    "def f(x):\n",
    "    return x+6\n",
    "print(f(10))"
   ]
  },
  {
   "cell_type": "code",
   "execution_count": 2,
   "id": "8b0523c3",
   "metadata": {},
   "outputs": [
    {
     "data": {
      "text/plain": [
       "16"
      ]
     },
     "execution_count": 2,
     "metadata": {},
     "output_type": "execute_result"
    }
   ],
   "source": [
    "(lambda x:x+6)(10)"
   ]
  },
  {
   "cell_type": "code",
   "execution_count": 4,
   "id": "e93e54e3",
   "metadata": {},
   "outputs": [
    {
     "name": "stdout",
     "output_type": "stream",
     "text": [
      "16\n"
     ]
    }
   ],
   "source": [
    "def f(x,y):\n",
    "    return x**y\n",
    "print(f(2,4))"
   ]
  },
  {
   "cell_type": "code",
   "execution_count": 5,
   "id": "80fa7d2d",
   "metadata": {},
   "outputs": [
    {
     "data": {
      "text/plain": [
       "625"
      ]
     },
     "execution_count": 5,
     "metadata": {},
     "output_type": "execute_result"
    }
   ],
   "source": [
    "(lambda x,y:x**y)(5,4)"
   ]
  },
  {
   "cell_type": "code",
   "execution_count": 6,
   "id": "0864ea66",
   "metadata": {},
   "outputs": [
    {
     "name": "stdout",
     "output_type": "stream",
     "text": [
      "The volume of Cube is  8\n"
     ]
    }
   ],
   "source": [
    "def x(a):\n",
    "    return a*a*a\n",
    "print(\"The volume of Cube is \",x(2))"
   ]
  },
  {
   "cell_type": "code",
   "execution_count": 8,
   "id": "f48e0dab",
   "metadata": {},
   "outputs": [
    {
     "data": {
      "text/plain": [
       "27"
      ]
     },
     "execution_count": 8,
     "metadata": {},
     "output_type": "execute_result"
    }
   ],
   "source": [
    "(lambda a:a*a*a)(3)"
   ]
  },
  {
   "cell_type": "code",
   "execution_count": 9,
   "id": "6f096d0a",
   "metadata": {},
   "outputs": [
    {
     "name": "stdout",
     "output_type": "stream",
     "text": [
      "Enter Your Age 25\n",
      "Therefore, You can vote\n"
     ]
    }
   ],
   "source": [
    "# Write a program to person is elegible for voting or not using lambda function.\n",
    "age=int(input(\"Enter Your Age \"))\n",
    "\n",
    "(lambda age:print(\"Therefore, You can vote\")if age>=18 else(\"You Cannot Vote\"))(age)"
   ]
  },
  {
   "cell_type": "code",
   "execution_count": 10,
   "id": "7c090638",
   "metadata": {},
   "outputs": [
    {
     "name": "stdout",
     "output_type": "stream",
     "text": [
      "Enter a USERNAME Ramesh\n",
      "The Username is  Ramesh\n"
     ]
    }
   ],
   "source": [
    "# Q. Write a program to display username using lambda function.(string)\n",
    "\n",
    "user=input(\"Enter a USERNAME \")\n",
    "\n",
    "(lambda user:print(\"The Username is:\",user))(user)"
   ]
  },
  {
   "cell_type": "code",
   "execution_count": 11,
   "id": "97582fcc",
   "metadata": {},
   "outputs": [
    {
     "name": "stdout",
     "output_type": "stream",
     "text": [
      "Enter First Number 12\n",
      "Enter second number 4\n",
      "[16, 8, 48, 3.0, 20736]\n"
     ]
    }
   ],
   "source": [
    "# Q. Write a program to append in the list with same some calculation perform using lambda.(ex addition, substraction, multiplication, division, exponent)\n",
    "\n",
    "\n",
    "l=[]\n",
    "a=int(input(\"Enter First Number \"))\n",
    "b=int(input(\"Enter second number \"))\n",
    "\n",
    "(lambda a,b:l.append (a+b))(a,b)\n",
    "(lambda a,b:l.append (a-b))(a,b)\n",
    "(lambda a,b:l.append (a*b))(a,b)\n",
    "(lambda a,b:l.append (a/b))(a,b)\n",
    "(lambda a,b:l.append (a**b))(a,b)\n",
    "print(l)"
   ]
  },
  {
   "cell_type": "code",
   "execution_count": null,
   "id": "e6785956",
   "metadata": {},
   "outputs": [],
   "source": []
  }
 ],
 "metadata": {
  "kernelspec": {
   "display_name": "Python 3 (ipykernel)",
   "language": "python",
   "name": "python3"
  },
  "language_info": {
   "codemirror_mode": {
    "name": "ipython",
    "version": 3
   },
   "file_extension": ".py",
   "mimetype": "text/x-python",
   "name": "python",
   "nbconvert_exporter": "python",
   "pygments_lexer": "ipython3",
   "version": "3.9.13"
  }
 },
 "nbformat": 4,
 "nbformat_minor": 5
}
