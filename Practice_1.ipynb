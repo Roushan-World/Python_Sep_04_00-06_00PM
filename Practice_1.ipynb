{
 "cells": [
  {
   "cell_type": "code",
   "execution_count": 1,
   "id": "632cb122",
   "metadata": {},
   "outputs": [],
   "source": [
    "# Q1. Accept a list of 5 float number as an input from the user and perform the operations like \n",
    "# total_sum,average.\n",
    "\n",
    "# Q2. Write a program to find the volume of the cylinder. Also find the cost when the cost of 1 litre\n",
    "# milk is 40rs.\n",
    "\n",
    "# Q3. Write a python program to search a given number from a list.\n",
    "\n",
    "# Q4. Calculate income tax fro the given income by adhering to the below rules.\n",
    "# First 10k--> 0%\n",
    "# Second 20k--> 10%\n",
    "# remaining--> 20%\n",
    "\n",
    "\n",
    "# Q5. Write a program that will tell the number of dogs and chicken are there when the user will \n",
    "# provide the value of total heads and legs."
   ]
  },
  {
   "cell_type": "code",
   "execution_count": 2,
   "id": "9548c0d4",
   "metadata": {},
   "outputs": [
    {
     "data": {
      "text/plain": [
       "18840"
      ]
     },
     "execution_count": 2,
     "metadata": {},
     "output_type": "execute_result"
    }
   ],
   "source": [
    "471*40"
   ]
  },
  {
   "cell_type": "code",
   "execution_count": null,
   "id": "b1e78e26",
   "metadata": {},
   "outputs": [],
   "source": []
  }
 ],
 "metadata": {
  "kernelspec": {
   "display_name": "Python 3 (ipykernel)",
   "language": "python",
   "name": "python3"
  },
  "language_info": {
   "codemirror_mode": {
    "name": "ipython",
    "version": 3
   },
   "file_extension": ".py",
   "mimetype": "text/x-python",
   "name": "python",
   "nbconvert_exporter": "python",
   "pygments_lexer": "ipython3",
   "version": "3.9.13"
  }
 },
 "nbformat": 4,
 "nbformat_minor": 5
}
