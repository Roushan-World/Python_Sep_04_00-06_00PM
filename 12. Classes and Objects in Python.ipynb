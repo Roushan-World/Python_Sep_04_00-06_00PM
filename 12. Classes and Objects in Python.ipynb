{
 "cells": [
  {
   "cell_type": "markdown",
   "id": "92c02a42",
   "metadata": {},
   "source": [
    "# 12. Classes and Objects in Python\n",
    "\n",
    "\n",
    " * __Python is an object-Oriented programming language.__\n",
    " * __Unlike procedure-oriented programming, where the main emphasis is on functions, object-oriented programming stresses on object.__\n",
    " * __An object is simply a collection of data (variables) and methods (functions) that act on those data.__\n",
    " * __Similarly, a class is a blueprint for that object.__\n",
    " * __Like function definitions begin with the dek keyword in Python, class definitions begin with a class keyword.__\n",
    " * __The first string inside the class is called docstring and has a bried description of the class.__\n",
    " * __Although not mandatory, this is highly recommended.__\n",
    " \n",
    " \n",
    " * __example__\n",
    " \n",
    " * class Student:\n",
    "     * school_name=\"ABC School\"\n",
    "     * def __init__ (self name,age):\n",
    "         * self.name=name\n",
    "         * self.age=age\n",
    "        "
   ]
  },
  {
   "cell_type": "code",
   "execution_count": 2,
   "id": "310c4c4d",
   "metadata": {},
   "outputs": [
    {
     "name": "stdout",
     "output_type": "stream",
     "text": [
      "3.14\n"
     ]
    }
   ],
   "source": [
    "class Data():\n",
    "    num=3.14\n",
    "    \n",
    "    \n",
    "x=Data()\n",
    "print(x.num)"
   ]
  },
  {
   "cell_type": "code",
   "execution_count": 1,
   "id": "a6c65f57",
   "metadata": {},
   "outputs": [
    {
     "name": "stdout",
     "output_type": "stream",
     "text": [
      "My name is: Tejal\n",
      "My age is: 45\n",
      "You can contact me on: 456123789\n",
      "You can mail me: tejal26@gmail.com\n"
     ]
    }
   ],
   "source": [
    "class details:\n",
    "    def __init__(self,name,age,phone,email):\n",
    "        self.name=name\n",
    "        self.age=age\n",
    "        self.phone=phone\n",
    "        self.email=email\n",
    "    def msg_details(self):\n",
    "        print(\"My name is:\",self.name)\n",
    "        print(\"My age is:\",self.age)\n",
    "        print(\"You can contact me on:\",self.phone)\n",
    "        print('You can mail me:',self.email)\n",
    "    \n",
    "var=details('Tejal','45','456123789','tejal26@gmail.com')\n",
    "var.msg_details()\n"
   ]
  },
  {
   "cell_type": "code",
   "execution_count": 3,
   "id": "288ac13e",
   "metadata": {},
   "outputs": [
    {
     "name": "stdout",
     "output_type": "stream",
     "text": [
      "My name is: Mehul\n",
      "My age is: 23\n",
      "You can contact me on: 1234567899\n",
      "You can mail me: mehul25@gmail.com\n"
     ]
    }
   ],
   "source": [
    "x=details('Mehul','23','1234567899','mehul25@gmail.com')\n",
    "x.msg_details()"
   ]
  },
  {
   "cell_type": "code",
   "execution_count": 4,
   "id": "b441dbf8",
   "metadata": {},
   "outputs": [],
   "source": [
    "# Write a program with classes and object on pet animal"
   ]
  },
  {
   "cell_type": "code",
   "execution_count": 8,
   "id": "0062fba6",
   "metadata": {},
   "outputs": [
    {
     "name": "stdout",
     "output_type": "stream",
     "text": [
      "10\n",
      "5\n",
      "blue\n"
     ]
    },
    {
     "data": {
      "image/png": "[encoded data removed]",
      "text/plain": [
       "<Figure size 640x480 with 1 Axes>"
      ]
     },
     "metadata": {},
     "output_type": "display_data"
    }
   ],
   "source": [
    "import matplotlib.pyplot as plt\n",
    "\n",
    "%matplotlib inline\n",
    "\n",
    "class Rectangle(object):\n",
    "    \n",
    "    def __init__(self,width,height,color):\n",
    "        self.width=width\n",
    "        self.height=height\n",
    "        self.color=color\n",
    "    def drawRectangle(self):\n",
    "        plt.gca().add_patch(plt.Rectangle((0,0), self.width,self.height,fc=self.color))\n",
    "        plt.axis('Scaled')\n",
    "        plt.show\n",
    "        \n",
    "        \n",
    "one_Rectangle=Rectangle(10,5,'blue')\n",
    "print(one_Rectangle.width)\n",
    "print(one_Rectangle.height)\n",
    "\n",
    "print(one_Rectangle.color)\n",
    "one_Rectangle.drawRectangle()"
   ]
  },
  {
   "cell_type": "code",
   "execution_count": 9,
   "id": "2493bb5a",
   "metadata": {},
   "outputs": [
    {
     "data": {
      "image/png": "[encoded data removed]",
      "text/plain": [
       "<Figure size 640x480 with 1 Axes>"
      ]
     },
     "metadata": {},
     "output_type": "display_data"
    }
   ],
   "source": [
    "x=Rectangle(20,10,'Yellow')\n",
    "x.drawRectangle()"
   ]
  },
  {
   "cell_type": "code",
   "execution_count": null,
   "id": "5f47cb33",
   "metadata": {},
   "outputs": [],
   "source": []
  }
 ],
 "metadata": {
  "kernelspec": {
   "display_name": "Python 3 (ipykernel)",
   "language": "python",
   "name": "python3"
  },
  "language_info": {
   "codemirror_mode": {
    "name": "ipython",
    "version": 3
   },
   "file_extension": ".py",
   "mimetype": "text/x-python",
   "name": "python",
   "nbconvert_exporter": "python",
   "pygments_lexer": "ipython3",
   "version": "3.9.13"
  }
 },
 "nbformat": 4,
 "nbformat_minor": 5
}
