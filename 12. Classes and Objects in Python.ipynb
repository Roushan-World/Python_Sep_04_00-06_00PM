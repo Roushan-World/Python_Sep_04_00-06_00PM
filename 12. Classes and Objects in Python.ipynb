{
 "cells": [
  {
   "cell_type": "markdown",
   "id": "92c02a42",
   "metadata": {},
   "source": [
    "# 12. Classes and Objects in Python\n",
    "\n",
    "\n",
    " * __Python is an object-Oriented programming language.__\n",
    " * __Unlike procedure-oriented programming, where the main emphasis is on functions, object-oriented programming stresses on object.__\n",
    " * __An object is simply a collection of data (variables) and methods (functions) that act on those data.__\n",
    " * __Similarly, a class is a blueprint for that object.__\n",
    " * __Like function definitions begin with the dek keyword in Python, class definitions begin with a class keyword.__\n",
    " * __The first string inside the class is called docstring and has a bried description of the class.__\n",
    " * __Although not mandatory, this is highly recommended.__\n",
    " \n",
    " \n",
    " * __example__\n",
    " \n",
    " * class Student:\n",
    "     * school_name=\"ABC School\"\n",
    "     * def __init__ (self name,age):\n",
    "         * self.name=name\n",
    "         * self.age=age\n",
    "        "
   ]
  },
  {
   "cell_type": "code",
   "execution_count": 2,
   "id": "310c4c4d",
   "metadata": {},
   "outputs": [
    {
     "name": "stdout",
     "output_type": "stream",
     "text": [
      "3.14\n"
     ]
    }
   ],
   "source": [
    "class Data():\n",
    "    num=3.14\n",
    "    \n",
    "    \n",
    "x=Data()\n",
    "print(x.num)"
   ]
  },
  {
   "cell_type": "code",
   "execution_count": 10,
   "id": "a6c65f57",
   "metadata": {},
   "outputs": [
    {
     "name": "stdout",
     "output_type": "stream",
     "text": [
      "My name is: Tejal\n",
      "My age is: 45\n",
      "You can contact me on: 456123789\n",
      "You can mail me: tejal26@gmail.com\n"
     ]
    }
   ],
   "source": [
    "class details:\n",
    "    def __init__(self,name,age,phone,email):\n",
    "        self.name=name\n",
    "        self.age=age\n",
    "        self.phone=phone\n",
    "        self.email=email\n",
    "    def msg_details(self):\n",
    "        print(\"My name is:\",self.name)\n",
    "        print(\"My age is:\",self.age)\n",
    "        print(\"You can contact me on:\",self.phone)\n",
    "        print('You can mail me:',self.email)\n",
    "    \n",
    "var=details('Tejal','45','456123789','tejal26@gmail.com')\n",
    "var.msg_details()\n"
   ]
  },
  {
   "cell_type": "code",
   "execution_count": null,
   "id": "288ac13e",
   "metadata": {},
   "outputs": [],
   "source": []
  }
 ],
 "metadata": {
  "kernelspec": {
   "display_name": "Python 3 (ipykernel)",
   "language": "python",
   "name": "python3"
  },
  "language_info": {
   "codemirror_mode": {
    "name": "ipython",
    "version": 3
   },
   "file_extension": ".py",
   "mimetype": "text/x-python",
   "name": "python",
   "nbconvert_exporter": "python",
   "pygments_lexer": "ipython3",
   "version": "3.9.13"
  }
 },
 "nbformat": 4,
 "nbformat_minor": 5
}
