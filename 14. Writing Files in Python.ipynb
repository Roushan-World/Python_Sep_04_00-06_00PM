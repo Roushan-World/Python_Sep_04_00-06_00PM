{
 "cells": [
  {
   "cell_type": "markdown",
   "id": "e29eef0b",
   "metadata": {},
   "source": [
    "# 14. Writing Files in Python\n",
    "\n",
    " * __To Write a  text file in Python, you follow these steps:__\n",
    " * __First, Open the text file for writing(appending) using open() functions.__\n",
    " * __Second, write to the text file using the write() or writelines() method.__\n",
    " * __Third, close the file uusing close() method.__\n",
    " \n",
    " \n",
    "| Chracter | Functions |  |\n",
    "| :- | -: | :-: |\n",
    "| W | Open file for writing only. File pointer places at beginning of the file. Overwrites if existing file and creates a new one if it does not exists. |  |\n",
    "| --- | --- | --- ||\n",
    "| r | Open the file for reading only. Starts reading from the beginning of the file. This id default mode. | |\n",
    "| --- | --- | --- ||\n",
    "| rb | Open a file for reading only. Starts reading from beginning of the file. | |\n",
    "| --- | --- | --- ||\n",
    "| r+ | Open file for reading and writing. File pointer placed at beginning of the file. | |\n",
    "| --- | --- | --- ||\n",
    "| Wb | Same as W but opens in binary mode. | |\n",
    "| --- | --- | --- ||\n",
    "| W+ | Same as W but allows to read from the file. | |\n",
    "| --- | --- | --- ||\n",
    "| wb+ | Same as Wb but also allows to read from the file.  | |\n",
    "| --- | --- | --- ||\n",
    "| a | Open a file for appending. Starts writing at the end of the file. Creates a new file if file does not exists. | |\n",
    "| --- | --- | --- ||\n",
    "| ab | Same as a but in binary format. Creates a new file if file does not exist. | |\n",
    "| --- | --- | --- ||\n",
    "| a+ | Same as a but also open for reading. | |\n",
    "| --- | --- | --- ||\n",
    "| ab+ | Same as ab but also open for reading. | |\n"
   ]
  },
  {
   "cell_type": "code",
   "execution_count": 1,
   "id": "40283b58",
   "metadata": {},
   "outputs": [],
   "source": [
    "fname='Tejal.txt'\n",
    "\n",
    "with open(fname,'w') as f:\n",
    "    f.write(\"My name is Tejal Sali.\\n\")\n",
    "    f.write(\"I am from Pune.\\nI've done my graduation from Modern College.\\nI am 30Yrs Old.\")"
   ]
  },
  {
   "cell_type": "code",
   "execution_count": 2,
   "id": "e0b5bd8f",
   "metadata": {},
   "outputs": [
    {
     "name": "stdout",
     "output_type": "stream",
     "text": [
      "My name is Tejal Sali.\n",
      "I am from Pune.\n",
      "I've done my graduation from Modern College.\n",
      "I am 30Yrs Old.\n"
     ]
    }
   ],
   "source": [
    "with open(fname,'r') as a:\n",
    "    content=a.read()\n",
    "    print(content)"
   ]
  },
  {
   "cell_type": "code",
   "execution_count": null,
   "id": "11e55b8b",
   "metadata": {},
   "outputs": [],
   "source": []
  },
  {
   "cell_type": "markdown",
   "id": "5cca3ed4",
   "metadata": {},
   "source": []
  },
  {
   "cell_type": "code",
   "execution_count": 8,
   "id": "bd7f72ff",
   "metadata": {},
   "outputs": [
    {
     "name": "stdout",
     "output_type": "stream",
     "text": [
      "Enter the number of line5\n",
      "1\n",
      "2\n",
      "3\n",
      "4\n",
      "5\n"
     ]
    }
   ],
   "source": [
    "foname='about.txt'\n",
    "n=int(input(\"Enter the number of line\"))\n",
    "\n",
    "with open(foname,'w') as f:\n",
    "    for i in range(n):\n",
    "        s=input()\n",
    "        f.write(s)\n",
    "        f.write('\\n')"
   ]
  },
  {
   "cell_type": "code",
   "execution_count": 6,
   "id": "90cd463d",
   "metadata": {},
   "outputs": [
    {
     "name": "stdout",
     "output_type": "stream",
     "text": [
      "My name is xyz\n",
      "I'm 20 yrs old.\n",
      "My hobby is to become Software Developer\n",
      "\n"
     ]
    }
   ],
   "source": [
    "with open(foname,'r') as a:\n",
    "    content1=a.read()\n",
    "    print(content1)"
   ]
  },
  {
   "cell_type": "code",
   "execution_count": null,
   "id": "fa90db61",
   "metadata": {},
   "outputs": [],
   "source": []
  }
 ],
 "metadata": {
  "kernelspec": {
   "display_name": "Python 3 (ipykernel)",
   "language": "python",
   "name": "python3"
  },
  "language_info": {
   "codemirror_mode": {
    "name": "ipython",
    "version": 3
   },
   "file_extension": ".py",
   "mimetype": "text/x-python",
   "name": "python",
   "nbconvert_exporter": "python",
   "pygments_lexer": "ipython3",
   "version": "3.9.13"
  }
 },
 "nbformat": 4,
 "nbformat_minor": 5
}
