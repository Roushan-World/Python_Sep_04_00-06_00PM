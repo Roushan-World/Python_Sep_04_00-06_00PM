{
 "cells": [
  {
   "cell_type": "markdown",
   "id": "e29eef0b",
   "metadata": {},
   "source": [
    "# 14. Writing Files in Python\n",
    "\n",
    " * __To Write a  text file in Python, you follow these steps:__\n",
    " * __First, Open the text file for writing(appending) using open() functions.__\n",
    " * __Second, write to the text file using the write() or writelines() method.__\n",
    " * __Third, close the file uusing close() method.__\n",
    " \n",
    " \n",
    "| Chracter | Functions |  |\n",
    "| :- | -: | :-: |\n",
    "| W | Open file for writing only. File pointer places at beginning of the file. Overwrites if existing file and creates a new one if it does not exists. |  |\n",
    "| --- | --- | --- ||\n",
    "| r | Open the file for reading only. Starts reading from the beginning of the file. This id default mode. | |\n",
    "| --- | --- | --- ||\n",
    "| rb | Open a file for reading only. Starts reading from beginning of the file. | |\n",
    "| --- | --- | --- ||\n",
    "| r+ | Open file for reading and writing. File pointer placed at beginning of the file. | |\n",
    "| --- | --- | --- ||\n",
    "| Wb | Same as W but opens in binary mode. | |\n",
    "| --- | --- | --- ||\n",
    "| W+ | Same as W but allows to read from the file. | |\n",
    "| --- | --- | --- ||\n",
    "| wb+ | Same as Wb but also allows to read from the file.  | |\n",
    "| --- | --- | --- ||\n",
    "| a | Open a file for appending. Starts writing at the end of the file. Creates a new file if file does not exists. | |\n",
    "| --- | --- | --- ||\n",
    "| ab | Same as a but in binary format. Creates a new file if file does not exist. | |\n",
    "| --- | --- | --- ||\n",
    "| a+ | Same as a but also open for reading. | |\n",
    "| --- | --- | --- ||\n",
    "| ab+ | Same as ab but also open for reading. | |\n"
   ]
  },
  {
   "cell_type": "code",
   "execution_count": 1,
   "id": "40283b58",
   "metadata": {},
   "outputs": [],
   "source": [
    "fname='Tejal.txt'\n",
    "\n",
    "with open(fname,'w') as f:\n",
    "    f.write(\"My name is Tejal Sali.\\n\")\n",
    "    f.write(\"I am from Pune.\\nI've done my graduation from Modern College.\\nI am 30Yrs Old.\")"
   ]
  },
  {
   "cell_type": "code",
   "execution_count": 2,
   "id": "e0b5bd8f",
   "metadata": {},
   "outputs": [
    {
     "name": "stdout",
     "output_type": "stream",
     "text": [
      "My name is Tejal Sali.\n",
      "I am from Pune.\n",
      "I've done my graduation from Modern College.\n",
      "I am 30Yrs Old.\n"
     ]
    }
   ],
   "source": [
    "with open(fname,'r') as a:\n",
    "    content=a.read()\n",
    "    print(content)"
   ]
  },
  {
   "cell_type": "code",
   "execution_count": null,
   "id": "11e55b8b",
   "metadata": {},
   "outputs": [],
   "source": []
  },
  {
   "cell_type": "markdown",
   "id": "5cca3ed4",
   "metadata": {},
   "source": []
  },
  {
   "cell_type": "code",
   "execution_count": 8,
   "id": "bd7f72ff",
   "metadata": {},
   "outputs": [
    {
     "name": "stdout",
     "output_type": "stream",
     "text": [
      "Enter the number of line5\n",
      "1\n",
      "2\n",
      "3\n",
      "4\n",
      "5\n"
     ]
    }
   ],
   "source": [
    "foname='about.txt'\n",
    "n=int(input(\"Enter the number of line\"))\n",
    "\n",
    "with open(foname,'w') as f:\n",
    "    for i in range(n):\n",
    "        s=input()\n",
    "        f.write(s)\n",
    "        f.write('\\n')"
   ]
  },
  {
   "cell_type": "code",
   "execution_count": 6,
   "id": "90cd463d",
   "metadata": {},
   "outputs": [
    {
     "name": "stdout",
     "output_type": "stream",
     "text": [
      "My name is xyz\n",
      "I'm 20 yrs old.\n",
      "My hobby is to become Software Developer\n",
      "\n"
     ]
    }
   ],
   "source": [
    "with open(foname,'r') as a:\n",
    "    content1=a.read()\n",
    "    print(content1)"
   ]
  },
  {
   "cell_type": "code",
   "execution_count": 2,
   "id": "fa90db61",
   "metadata": {},
   "outputs": [
    {
     "name": "stdout",
     "output_type": "stream",
     "text": [
      "Enter text file name:ashish\n",
      "Enter number of lines:3\n",
      "cow is pet animal.\n",
      "cow gives us milk.\n",
      "cow has 4 feet.\n",
      "cow is pet animal.\n",
      "cow gives us milk.\n",
      "cow has 4 feet.\n",
      "\n"
     ]
    }
   ],
   "source": [
    "# Using function, write file using for loop.\n",
    "            \n",
    "\n",
    "def writing(cow,n):\n",
    "    with open(cow,'w') as f:\n",
    "        for i in range(n):\n",
    "            s=input()\n",
    "            f.write(s)\n",
    "            f.write('\\n')\n",
    "    with open(cow,'r') as f:\n",
    "        content=f.read()\n",
    "        print(content)\n",
    "cow=input(\"Enter text file name:\")\n",
    "cow=cow+\".txt\"\n",
    "n=int(input(\"Enter number of lines:\"))\n",
    "writing(cow,n)"
   ]
  },
  {
   "cell_type": "code",
   "execution_count": 4,
   "id": "96ce38d4",
   "metadata": {},
   "outputs": [
    {
     "name": "stdout",
     "output_type": "stream",
     "text": [
      "Write the number of lines you want to write about yourself:3\n",
      "Write Here: my name is ashish vidhyarthi\n",
      "Write Here: my hobby is to watching movie.\n",
      "Write Here: My favorite food dal makhni.\n"
     ]
    }
   ],
   "source": [
    "fname=open(\"ashish.txt\",'w')\n",
    "aboutme=[]\n",
    "n=int(input(\"Write the number of lines you want to write about yourself:\"))\n",
    "\n",
    "for x in range(n):\n",
    "    am=input(\"Write Here: \")\n",
    "    aboutme.append(am)\n",
    "    \n",
    "for i in aboutme:\n",
    "    fname.write(i)\n",
    "    fname.write(\"\\n\")\n",
    "    \n",
    "fname.close()"
   ]
  },
  {
   "cell_type": "code",
   "execution_count": 5,
   "id": "7ad5163b",
   "metadata": {},
   "outputs": [
    {
     "name": "stdout",
     "output_type": "stream",
     "text": [
      "Write the number of lines you want to write about yourself:2\n",
      "Write Here: My name is ashish\n",
      "Write Here: My hobby is to play.\n"
     ]
    }
   ],
   "source": [
    "# Writing files using class and objects.\n",
    "\n",
    "class am:\n",
    "    def __init__(self,filename):\n",
    "        self.filename=filename\n",
    "        \n",
    "    def am2file(self):\n",
    "        fname=open(self.filename,'w')\n",
    "        aboutme=[]\n",
    "        \n",
    "        n = int(input(\"Write the number of lines you want to write about yourself:\"))\n",
    "        for x in range(n):\n",
    "            am=input(\"Write Here: \")\n",
    "            aboutme.append(am)\n",
    "            \n",
    "        for i in aboutme:\n",
    "            fname.write(i)\n",
    "            fname.write(\"\\n\")\n",
    "            \n",
    "        fname.close()\n",
    "        \n",
    "am1=am(\"ashish.txt\")\n",
    "am1.am2file()\n",
    "            "
   ]
  },
  {
   "cell_type": "code",
   "execution_count": 6,
   "id": "5d629af7",
   "metadata": {},
   "outputs": [
    {
     "name": "stdout",
     "output_type": "stream",
     "text": [
      "Write the number of lines you want to write about yourself:2\n",
      "Write Here: my name is mehul\n",
      "Write Here: i want to play cricket.\n"
     ]
    }
   ],
   "source": [
    "am2=am(\"mehul.txt\")\n",
    "am2.am2file()"
   ]
  },
  {
   "cell_type": "code",
   "execution_count": null,
   "id": "376e5570",
   "metadata": {},
   "outputs": [],
   "source": []
  }
 ],
 "metadata": {
  "kernelspec": {
   "display_name": "Python 3 (ipykernel)",
   "language": "python",
   "name": "python3"
  },
  "language_info": {
   "codemirror_mode": {
    "name": "ipython",
    "version": 3
   },
   "file_extension": ".py",
   "mimetype": "text/x-python",
   "name": "python",
   "nbconvert_exporter": "python",
   "pygments_lexer": "ipython3",
   "version": "3.9.13"
  }
 },
 "nbformat": 4,
 "nbformat_minor": 5
}
